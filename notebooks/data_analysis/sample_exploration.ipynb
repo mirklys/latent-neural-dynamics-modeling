{
 "cells": [
  {
   "cell_type": "code",
   "execution_count": 73,
   "id": "da354cfc",
   "metadata": {},
   "outputs": [],
   "source": [
    "import os\n",
    "import polars as pl\n",
    "import mne"
   ]
  },
  {
   "cell_type": "code",
   "execution_count": 74,
   "id": "a99335ba",
   "metadata": {},
   "outputs": [],
   "source": [
    "ROOT_PATH = \"/home/bobby/repos/latent-neural-dynamics-modeling\"\n",
    "DATA_PATH = os.path.join(ROOT_PATH, \"data\")"
   ]
  },
  {
   "cell_type": "code",
   "execution_count": 75,
   "id": "3537079a",
   "metadata": {},
   "outputs": [],
   "source": [
    "participants = pl.read_csv(\n",
    "    os.path.join(DATA_PATH, \"participants.tsv\"), separator=\"\\t\", null_values=\"n/a\"\n",
    ")"
   ]
  },
  {
   "cell_type": "code",
   "execution_count": 76,
   "id": "f1f03fcc",
   "metadata": {},
   "outputs": [],
   "source": [
    "def list_files(folder_path: str, root_: bool = False) -> list:\n",
    "    if root_:\n",
    "        return os.listdir(folder_path)\n",
    "    else:\n",
    "        return os.listdir(os.path.join(DATA_PATH, folder_path))"
   ]
  },
  {
   "cell_type": "code",
   "execution_count": 77,
   "id": "d4676a84",
   "metadata": {},
   "outputs": [],
   "source": [
    "participants = participants.with_columns(\n",
    "    pl.col(\"participant_id\")\n",
    "    .map_elements(lambda pid: list_files(pid), return_dtype=pl.List(pl.String))\n",
    "    .alias(\"session\")\n",
    ").explode(pl.col(\"session\"))"
   ]
  },
  {
   "cell_type": "markdown",
   "id": "e9ff3384",
   "metadata": {},
   "source": [
    "## iEEG"
   ]
  },
  {
   "cell_type": "code",
   "execution_count": 6,
   "id": "a1d5664b",
   "metadata": {},
   "outputs": [],
   "source": [
    "participants_ieeg = participants.with_columns(\n",
    "    pl.concat_str(\n",
    "        [\n",
    "            pl.lit(DATA_PATH),\n",
    "            pl.col(\"participant_id\"),\n",
    "            pl.col(\"session\"),\n",
    "            pl.lit(\"ieeg\"),\n",
    "        ],\n",
    "        separator=\"/\",\n",
    "    ).alias(\"ieeg_path\"),\n",
    ")"
   ]
  },
  {
   "cell_type": "code",
   "execution_count": 7,
   "id": "34d4d49a",
   "metadata": {},
   "outputs": [],
   "source": [
    "participants_ieeg = participants_ieeg.with_columns(\n",
    "    pl.col(\"ieeg_path\")\n",
    "    .map_elements(\n",
    "        lambda ieeg_path: list_files(ieeg_path, root_=True),\n",
    "        return_dtype=pl.List(pl.String),\n",
    "    )\n",
    "    .alias(\"ieeg_file\")\n",
    ").explode(pl.col(\"ieeg_file\"))"
   ]
  },
  {
   "cell_type": "code",
   "execution_count": 8,
   "id": "34a6027b",
   "metadata": {},
   "outputs": [],
   "source": [
    "participants_ieeg = (\n",
    "    participants_ieeg.with_columns(\n",
    "        pl.col(\"ieeg_file\").str.split(by=\"_\").alias(\"splitted_file\")\n",
    "    )\n",
    "    .with_columns(\n",
    "        pl.col(\"splitted_file\").list.get(-1).str.split(\".\").list.get(0).alias(\"type\"),\n",
    "        pl.col(\"splitted_file\")\n",
    "        .list.get(-1)\n",
    "        .str.split(\".\")\n",
    "        .list.get(-1)\n",
    "        .alias(\"data_format\"),\n",
    "        pl.col(\"splitted_file\").list.get(-2).alias(\"run\"),\n",
    "    )\n",
    "    .drop(\"splitted_file\")\n",
    ")"
   ]
  },
  {
   "cell_type": "code",
   "execution_count": 9,
   "id": "94fbef77",
   "metadata": {},
   "outputs": [],
   "source": [
    "channel_metadata_schema = pl.List(\n",
    "    pl.Struct(\n",
    "        [\n",
    "            pl.Field(\"name\", pl.Utf8),\n",
    "            pl.Field(\"type\", pl.Utf8),\n",
    "            pl.Field(\"units\", pl.Utf8),\n",
    "            pl.Field(\"low_cutoff\", pl.Float64),\n",
    "            pl.Field(\"high_cutoff\", pl.Float64),\n",
    "            pl.Field(\"sampling_frequency\", pl.Float64),\n",
    "        ]\n",
    "    )\n",
    ")"
   ]
  },
  {
   "cell_type": "code",
   "execution_count": 10,
   "id": "0f336a2c",
   "metadata": {},
   "outputs": [],
   "source": [
    "def read_csv_(row: dict[str, str]) -> pl.Series:\n",
    "    df = pl.read_csv(\n",
    "        os.path.join(row[\"ieeg_path\"], row[\"ieeg_file\"]),\n",
    "        separator=\"\\t\",\n",
    "        null_values=\"n/a\",\n",
    "    )\n",
    "    return df.to_struct()"
   ]
  },
  {
   "cell_type": "code",
   "execution_count": 11,
   "id": "79167f7d",
   "metadata": {},
   "outputs": [],
   "source": [
    "channels_df = participants_ieeg.filter(\n",
    "    (pl.col(\"type\") == \"channels\") & (pl.col(\"data_format\") == \"tsv\")\n",
    ").select(\n",
    "    \"participant_id\",\n",
    "    \"session\",\n",
    "    \"run\",\n",
    "    pl.struct([\"ieeg_path\", \"ieeg_file\"])\n",
    "    .map_elements(read_csv_, return_dtype=channel_metadata_schema)\n",
    "    .alias(\"channels_info\"),\n",
    ")"
   ]
  },
  {
   "cell_type": "code",
   "execution_count": 12,
   "id": "eb3ac640",
   "metadata": {},
   "outputs": [],
   "source": [
    "participants_ieeg = participants_ieeg.join(\n",
    "    channels_df, on=[\"participant_id\", \"session\", \"run\"], how=\"left\"\n",
    ").filter(~((pl.col(\"type\") == \"channels\") & (pl.col(\"data_format\") == \"tsv\")))"
   ]
  },
  {
   "cell_type": "code",
   "execution_count": 13,
   "id": "1a2e3c84",
   "metadata": {},
   "outputs": [],
   "source": [
    "events_schema = pl.List(\n",
    "    pl.Struct(\n",
    "        [\n",
    "            pl.Field(\"onset\", pl.Float64),\n",
    "            pl.Field(\"duration\", pl.Float64),\n",
    "            pl.Field(\"trial_tyoe\", pl.Float64),\n",
    "            pl.Field(\"value\", pl.Int64),\n",
    "            pl.Field(\"sample\", pl.Int64),\n",
    "        ]\n",
    "    )\n",
    ")"
   ]
  },
  {
   "cell_type": "code",
   "execution_count": 14,
   "id": "26b263c8",
   "metadata": {},
   "outputs": [],
   "source": [
    "events_df = participants_ieeg.filter(\n",
    "    (pl.col(\"type\") == \"events\") & (pl.col(\"data_format\") == \"tsv\")\n",
    ").select(\n",
    "    \"participant_id\",\n",
    "    \"session\",\n",
    "    \"run\",\n",
    "    pl.struct([\"ieeg_path\", \"ieeg_file\"])\n",
    "    .map_elements(read_csv_, return_dtype=events_schema)\n",
    "    .alias(\"events\"),\n",
    ")"
   ]
  },
  {
   "cell_type": "code",
   "execution_count": 15,
   "id": "aaeade02",
   "metadata": {},
   "outputs": [],
   "source": [
    "participants_ieeg = participants_ieeg.join(\n",
    "    events_df, on=[\"participant_id\", \"session\", \"run\"], how=\"left\"\n",
    ").filter(~((pl.col(\"type\") == \"events\") & (pl.col(\"data_format\") == \"tsv\")))"
   ]
  },
  {
   "cell_type": "code",
   "execution_count": 16,
   "id": "2121f075",
   "metadata": {},
   "outputs": [],
   "source": [
    "participants_ieeg = participants_ieeg.filter(~(pl.col(\"data_format\") == \"json\"))"
   ]
  },
  {
   "cell_type": "code",
   "execution_count": 17,
   "id": "d47024db",
   "metadata": {},
   "outputs": [],
   "source": [
    "recording_schema = pl.Struct(\n",
    "    [\n",
    "        pl.Field(\n",
    "            \"header\",\n",
    "            pl.Struct(\n",
    "                [\n",
    "                    pl.Field(\"n_channels\", pl.Int64),\n",
    "                    pl.Field(\"ch_names\", pl.List(pl.Utf8)),\n",
    "                    pl.Field(\"sfreq\", pl.Float64),\n",
    "                ]\n",
    "            ),\n",
    "        ),\n",
    "        pl.Field(\n",
    "            \"markers\",\n",
    "            pl.List(\n",
    "                pl.Struct(\n",
    "                    [  # A DataFrame is a list of structs\n",
    "                        pl.Field(\"sample\", pl.Int64),\n",
    "                        pl.Field(\"onset_sec\", pl.Float64),\n",
    "                        pl.Field(\"description\", pl.Utf8),\n",
    "                    ]\n",
    "                )\n",
    "            ),\n",
    "        ),\n",
    "    ]\n",
    ")"
   ]
  },
  {
   "cell_type": "code",
   "execution_count": 18,
   "id": "0147601f",
   "metadata": {},
   "outputs": [],
   "source": [
    "def parse_brainvision_recording(row: dict[str, str]) -> dict | None:\n",
    "\n",
    "    vhdr_path = os.path.join(row[\"ieeg_path\"], row[\"ieeg_file\"])\n",
    "\n",
    "    if not os.path.exists(vhdr_path):\n",
    "        return None\n",
    "\n",
    "    raw = mne.io.read_raw_brainvision(vhdr_path, preload=False, verbose=False)\n",
    "\n",
    "    header_info = {\n",
    "        \"n_channels\": len(raw.ch_names),\n",
    "        \"ch_names\": raw.ch_names,\n",
    "        \"sfreq\": raw.info[\"sfreq\"],\n",
    "    }\n",
    "\n",
    "    marker_df = None\n",
    "    try:\n",
    "        events, event_id = mne.events_from_annotations(raw, verbose=False)\n",
    "        if len(events) > 0:\n",
    "            id_to_desc = {v: k for k, v in event_id.items()}\n",
    "            marker_df = pl.DataFrame(\n",
    "                {\n",
    "                    \"sample\": events[:, 0],\n",
    "                    \"onset_sec\": events[:, 0] / raw.info[\"sfreq\"],\n",
    "                    \"description\": [id_to_desc[code] for code in events[:, 2]],\n",
    "                }\n",
    "            ).to_dicts()\n",
    "    except ValueError:\n",
    "        pass\n",
    "\n",
    "    return {\n",
    "        \"header\": header_info,\n",
    "        \"markers\": marker_df,\n",
    "    }"
   ]
  },
  {
   "cell_type": "code",
   "execution_count": 19,
   "id": "b8138f12",
   "metadata": {},
   "outputs": [],
   "source": [
    "headers_markers_df = participants_ieeg.filter(\n",
    "    (pl.col(\"type\") == \"ieeg\") & (pl.col(\"data_format\") == \"vhdr\")\n",
    ").select(\n",
    "    \"participant_id\",\n",
    "    \"session\",\n",
    "    \"run\",\n",
    "    pl.struct([\"ieeg_path\", \"ieeg_file\"])\n",
    "    .map_elements(parse_brainvision_recording, return_dtype=recording_schema)\n",
    "    .alias(\"recording_meta\"),\n",
    "    pl.col(\"ieeg_file\").alias(\"ieeg_headers_file\"),\n",
    ")"
   ]
  },
  {
   "cell_type": "code",
   "execution_count": 20,
   "id": "11f5217c",
   "metadata": {},
   "outputs": [],
   "source": [
    "participants_ieeg = participants_ieeg.join(\n",
    "    headers_markers_df, on=[\"participant_id\", \"session\", \"run\"], how=\"left\"\n",
    ").filter(~((pl.col(\"type\") == \"ieeg\") & ~(pl.col(\"data_format\") == \"eeg\")))"
   ]
  },
  {
   "cell_type": "code",
   "execution_count": 21,
   "id": "7cb2bfa3",
   "metadata": {},
   "outputs": [],
   "source": [
    "participants_ieeg = participants_ieeg.drop(\n",
    "    \"type\", \"data_format\", \"channels_info_right\", strict=False\n",
    ")"
   ]
  },
  {
   "cell_type": "code",
   "execution_count": 70,
   "id": "a174acf6",
   "metadata": {},
   "outputs": [],
   "source": [
    "def band_pass_resample(ieeg_headers_file: str) -> str | None:\n",
    "    sfreq = 1000\n",
    "    low_freq = 3\n",
    "    high_freq = 100\n",
    "    os.makedirs(\"./resampled\", exist_ok=True)\n",
    "    ieeg_file = f\"./resampled/{ieeg_headers_file.split('/')[-1].split('.')[0]}.fif\"\n",
    "\n",
    "    if not os.path.exists(ieeg_headers_file):\n",
    "        return f\"no {ieeg_headers_file}\"\n",
    "\n",
    "    try:\n",
    "        raw = mne.io.read_raw_brainvision(\n",
    "            ieeg_headers_file, preload=True, verbose=False\n",
    "        )\n",
    "\n",
    "        raw.notch_filter(freqs=[50, 100], verbose=False)\n",
    "        raw.filter(l_freq=low_freq, h_freq=high_freq)\n",
    "        raw.resample(sfreq=sfreq, verbose=False)\n",
    "\n",
    "        raw.save(ieeg_file, overwrite=True, verbose=False)\n",
    "\n",
    "        return \"SAVED & RESAMPLED\"\n",
    "    except Exception as e:\n",
    "        return \"ERROR \" + str(e)"
   ]
  },
  {
   "cell_type": "code",
   "execution_count": 71,
   "id": "2b72286e",
   "metadata": {},
   "outputs": [],
   "source": [
    "participants_ieeg = participants_ieeg.with_columns(\n",
    "    pl.concat_str(pl.col(\"ieeg_path\"), pl.col(\"ieeg_headers_file\"), separator=\"/\")\n",
    "    .map_elements(band_pass_resample, return_dtype=pl.String)\n",
    "    .alias(\"saved\")\n",
    ")"
   ]
  },
  {
   "cell_type": "code",
   "execution_count": 72,
   "id": "d2c2da3c",
   "metadata": {},
   "outputs": [
    {
     "data": {
      "text/plain": [
       "'SAVED & RESAMPLED'"
      ]
     },
     "execution_count": 72,
     "metadata": {},
     "output_type": "execute_result"
    }
   ],
   "source": [
    "participants_ieeg[\"saved\"][0]"
   ]
  },
  {
   "cell_type": "code",
   "execution_count": 39,
   "id": "9131e4e0",
   "metadata": {},
   "outputs": [],
   "source": [
    "participants_ieeg.write_parquet(\n",
    "    \"./participants_ieeg\", partition_by=[\"participant_id\", \"session\"]\n",
    ")"
   ]
  },
  {
   "cell_type": "code",
   "execution_count": 55,
   "id": "e901bec3",
   "metadata": {},
   "outputs": [],
   "source": [
    "participants_ieeg = pl.read_parquet(\"./participants_ieeg\")"
   ]
  },
  {
   "cell_type": "code",
   "execution_count": 41,
   "id": "68911cf7",
   "metadata": {},
   "outputs": [
    {
     "data": {
      "text/html": [
       "<div><style>\n",
       ".dataframe > thead > tr,\n",
       ".dataframe > tbody > tr {\n",
       "  text-align: right;\n",
       "  white-space: pre-wrap;\n",
       "}\n",
       "</style>\n",
       "<small>shape: (10, 14)</small><table border=\"1\" class=\"dataframe\"><thead><tr><th>participant_id</th><th>age</th><th>sex</th><th>hand</th><th>weight</th><th>height</th><th>session</th><th>ieeg_path</th><th>ieeg_file</th><th>run</th><th>channels_info</th><th>events</th><th>recording_meta</th><th>ieeg_headers_file</th></tr><tr><td>str</td><td>str</td><td>str</td><td>str</td><td>str</td><td>str</td><td>str</td><td>str</td><td>str</td><td>str</td><td>list[struct[6]]</td><td>list[struct[5]]</td><td>struct[2]</td><td>str</td></tr></thead><tbody><tr><td>&quot;sub-PDI4&quot;</td><td>null</td><td>null</td><td>null</td><td>null</td><td>null</td><td>&quot;ses-3&quot;</td><td>&quot;/home/bobby/repos/latent-neura…</td><td>&quot;sub-PDI4_ses-3_task-copydraw_r…</td><td>&quot;run-7&quot;</td><td>[{&quot;LFP_1&quot;,&quot;DBS&quot;,&quot;V&quot;,0.0,150.0,300.0}, {&quot;LFP_2&quot;,&quot;DBS&quot;,&quot;V&quot;,0.0,150.0,300.0}, … {&quot;EOG_4&quot;,&quot;EOG&quot;,&quot;V&quot;,0.0,150.0,300.0}]</td><td>[{6.91,1.652091,null,25,2073}, {8.563333,9.126364,null,1,2569}, … {200.97,17.894227,null,15,60291}]</td><td>{{24,[&quot;LFP_1&quot;, &quot;LFP_2&quot;, … &quot;EOG_4&quot;],300.0},[{2073,6.91,&quot;Stimulus/S 25&quot;}, {2569,8.563333,&quot;Stimulus/S&nbsp;&nbsp;1&quot;}, … {60291,200.97,&quot;Stimulus/S 15&quot;}]}</td><td>&quot;sub-PDI4_ses-3_task-copydraw_r…</td></tr><tr><td>&quot;sub-PDI4&quot;</td><td>null</td><td>null</td><td>null</td><td>null</td><td>null</td><td>&quot;ses-3&quot;</td><td>&quot;/home/bobby/repos/latent-neura…</td><td>&quot;sub-PDI4_ses-3_task-copydraw_r…</td><td>&quot;run-11&quot;</td><td>[{&quot;LFP_1&quot;,&quot;DBS&quot;,&quot;V&quot;,0.0,150.0,300.0}, {&quot;LFP_2&quot;,&quot;DBS&quot;,&quot;V&quot;,0.0,150.0,300.0}, … {&quot;EOG_4&quot;,&quot;EOG&quot;,&quot;V&quot;,0.0,150.0,300.0}]</td><td>[{25.2,3.1705,null,25,7560}, {28.37,9.000364,null,1,8511}, … {222.836667,18.552,null,15,66851}]</td><td>{{24,[&quot;LFP_1&quot;, &quot;LFP_2&quot;, … &quot;EOG_4&quot;],300.0},[{7560,25.2,&quot;Stimulus/S 25&quot;}, {8511,28.37,&quot;Stimulus/S&nbsp;&nbsp;1&quot;}, … {66851,222.836667,&quot;Stimulus/S 15&quot;}]}</td><td>&quot;sub-PDI4_ses-3_task-copydraw_r…</td></tr><tr><td>&quot;sub-PDI4&quot;</td><td>null</td><td>null</td><td>null</td><td>null</td><td>null</td><td>&quot;ses-3&quot;</td><td>&quot;/home/bobby/repos/latent-neura…</td><td>&quot;sub-PDI4_ses-3_task-copydraw_r…</td><td>&quot;run-3&quot;</td><td>[{&quot;LFP_1&quot;,&quot;DBS&quot;,&quot;V&quot;,0.0,150.0,300.0}, {&quot;LFP_2&quot;,&quot;DBS&quot;,&quot;V&quot;,0.0,150.0,300.0}, … {&quot;EOG_4&quot;,&quot;EOG&quot;,&quot;V&quot;,0.0,150.0,300.0}]</td><td>[{7.226667,4.922045,null,25,2168}, {12.15,9.118227,null,1,3645}, … {193.126667,56.071045,null,15,57938}]</td><td>{{24,[&quot;LFP_1&quot;, &quot;LFP_2&quot;, … &quot;EOG_4&quot;],300.0},[{2168,7.226667,&quot;Stimulus/S 25&quot;}, {3645,12.15,&quot;Stimulus/S&nbsp;&nbsp;1&quot;}, … {57938,193.126667,&quot;Stimulus/S 15&quot;}]}</td><td>&quot;sub-PDI4_ses-3_task-copydraw_r…</td></tr><tr><td>&quot;sub-PDI4&quot;</td><td>null</td><td>null</td><td>null</td><td>null</td><td>null</td><td>&quot;ses-3&quot;</td><td>&quot;/home/bobby/repos/latent-neura…</td><td>&quot;sub-PDI4_ses-3_task-copydraw_r…</td><td>&quot;run-12&quot;</td><td>[{&quot;LFP_1&quot;,&quot;DBS&quot;,&quot;V&quot;,0.0,150.0,300.0}, {&quot;LFP_2&quot;,&quot;DBS&quot;,&quot;V&quot;,0.0,150.0,300.0}, … {&quot;EOG_4&quot;,&quot;EOG&quot;,&quot;V&quot;,0.0,150.0,300.0}]</td><td>[{10.873333,2.071727,null,25,3262}, {12.946667,8.972773,null,1,3884}, … {218.49,175.53,null,15,65547}]</td><td>{{24,[&quot;LFP_1&quot;, &quot;LFP_2&quot;, … &quot;EOG_4&quot;],300.0},[{3262,10.873333,&quot;Stimulus/S 25&quot;}, {3884,12.946667,&quot;Stimulus/S&nbsp;&nbsp;1&quot;}, … {65547,218.49,&quot;Stimulus/S 15&quot;}]}</td><td>&quot;sub-PDI4_ses-3_task-copydraw_r…</td></tr><tr><td>&quot;sub-PDI4&quot;</td><td>null</td><td>null</td><td>null</td><td>null</td><td>null</td><td>&quot;ses-3&quot;</td><td>&quot;/home/bobby/repos/latent-neura…</td><td>&quot;sub-PDI4_ses-3_task-copydraw_r…</td><td>&quot;run-2&quot;</td><td>[{&quot;LFP_1&quot;,&quot;DBS&quot;,&quot;V&quot;,0.0,150.0,300.0}, {&quot;LFP_2&quot;,&quot;DBS&quot;,&quot;V&quot;,0.0,150.0,300.0}, … {&quot;EOG_4&quot;,&quot;EOG&quot;,&quot;V&quot;,0.0,150.0,300.0}]</td><td>[{8.006667,1.752273,null,25,2402}, {9.756667,9.015818,null,1,2927}, … {185.78,32.906273,null,15,55734}]</td><td>{{24,[&quot;LFP_1&quot;, &quot;LFP_2&quot;, … &quot;EOG_4&quot;],300.0},[{2402,8.006667,&quot;Stimulus/S 25&quot;}, {2927,9.756667,&quot;Stimulus/S&nbsp;&nbsp;1&quot;}, … {55734,185.78,&quot;Stimulus/S 15&quot;}]}</td><td>&quot;sub-PDI4_ses-3_task-copydraw_r…</td></tr><tr><td>&quot;sub-PDI4&quot;</td><td>null</td><td>null</td><td>null</td><td>null</td><td>null</td><td>&quot;ses-3&quot;</td><td>&quot;/home/bobby/repos/latent-neura…</td><td>&quot;sub-PDI4_ses-3_task-copydraw_r…</td><td>&quot;run-10&quot;</td><td>[{&quot;LFP_1&quot;,&quot;DBS&quot;,&quot;V&quot;,0.0,150.0,300.0}, {&quot;LFP_2&quot;,&quot;DBS&quot;,&quot;V&quot;,0.0,150.0,300.0}, … {&quot;EOG_4&quot;,&quot;EOG&quot;,&quot;V&quot;,0.0,150.0,300.0}]</td><td>[{10.396667,2.184591,null,25,3119}, {12.58,8.995864,null,1,3774}, … {204.013333,244.918636,null,15,61204}]</td><td>{{24,[&quot;LFP_1&quot;, &quot;LFP_2&quot;, … &quot;EOG_4&quot;],300.0},[{3119,10.396667,&quot;Stimulus/S 25&quot;}, {3774,12.58,&quot;Stimulus/S&nbsp;&nbsp;1&quot;}, … {61204,204.013333,&quot;Stimulus/S 15&quot;}]}</td><td>&quot;sub-PDI4_ses-3_task-copydraw_r…</td></tr><tr><td>&quot;sub-PDI4&quot;</td><td>null</td><td>null</td><td>null</td><td>null</td><td>null</td><td>&quot;ses-3&quot;</td><td>&quot;/home/bobby/repos/latent-neura…</td><td>&quot;sub-PDI4_ses-3_task-copydraw_r…</td><td>&quot;run-4&quot;</td><td>[{&quot;LFP_1&quot;,&quot;DBS&quot;,&quot;V&quot;,0.0,150.0,300.0}, {&quot;LFP_2&quot;,&quot;DBS&quot;,&quot;V&quot;,0.0,150.0,300.0}, … {&quot;EOG_4&quot;,&quot;EOG&quot;,&quot;V&quot;,0.0,150.0,300.0}]</td><td>[{6.033333,2.190818,null,25,1810}, {8.223333,9.112364,null,1,2467}, … {207.183333,29.352909,null,15,62155}]</td><td>{{24,[&quot;LFP_1&quot;, &quot;LFP_2&quot;, … &quot;EOG_4&quot;],300.0},[{1810,6.033333,&quot;Stimulus/S 25&quot;}, {2467,8.223333,&quot;Stimulus/S&nbsp;&nbsp;1&quot;}, … {62155,207.183333,&quot;Stimulus/S 15&quot;}]}</td><td>&quot;sub-PDI4_ses-3_task-copydraw_r…</td></tr><tr><td>&quot;sub-PDI4&quot;</td><td>null</td><td>null</td><td>null</td><td>null</td><td>null</td><td>&quot;ses-3&quot;</td><td>&quot;/home/bobby/repos/latent-neura…</td><td>&quot;sub-PDI4_ses-3_task-copydraw_r…</td><td>&quot;run-5&quot;</td><td>[{&quot;LFP_1&quot;,&quot;DBS&quot;,&quot;V&quot;,0.0,150.0,300.0}, {&quot;LFP_2&quot;,&quot;DBS&quot;,&quot;V&quot;,0.0,150.0,300.0}, … {&quot;EOG_4&quot;,&quot;EOG&quot;,&quot;V&quot;,0.0,150.0,300.0}]</td><td>[{8.11,4.156818,null,25,2433}, {12.266667,9.090409,null,1,3680}, … {199.966667,24.289955,null,15,59990}]</td><td>{{24,[&quot;LFP_1&quot;, &quot;LFP_2&quot;, … &quot;EOG_4&quot;],300.0},[{2433,8.11,&quot;Stimulus/S 25&quot;}, {3680,12.266667,&quot;Stimulus/S&nbsp;&nbsp;1&quot;}, … {59990,199.966667,&quot;Stimulus/S 15&quot;}]}</td><td>&quot;sub-PDI4_ses-3_task-copydraw_r…</td></tr><tr><td>&quot;sub-PDI4&quot;</td><td>null</td><td>null</td><td>null</td><td>null</td><td>null</td><td>&quot;ses-3&quot;</td><td>&quot;/home/bobby/repos/latent-neura…</td><td>&quot;sub-PDI4_ses-3_task-copydraw_r…</td><td>&quot;run-8&quot;</td><td>[{&quot;LFP_1&quot;,&quot;DBS&quot;,&quot;V&quot;,0.0,150.0,300.0}, {&quot;LFP_2&quot;,&quot;DBS&quot;,&quot;V&quot;,0.0,150.0,300.0}, … {&quot;EOG_4&quot;,&quot;EOG&quot;,&quot;V&quot;,0.0,150.0,300.0}]</td><td>[{9.426667,1.755,null,25,2828}, {11.183333,9.032591,null,1,3355}, … {207.833333,23.003455,null,15,62350}]</td><td>{{24,[&quot;LFP_1&quot;, &quot;LFP_2&quot;, … &quot;EOG_4&quot;],300.0},[{2828,9.426667,&quot;Stimulus/S 25&quot;}, {3355,11.183333,&quot;Stimulus/S&nbsp;&nbsp;1&quot;}, … {62350,207.833333,&quot;Stimulus/S 15&quot;}]}</td><td>&quot;sub-PDI4_ses-3_task-copydraw_r…</td></tr><tr><td>&quot;sub-PDI4&quot;</td><td>null</td><td>null</td><td>null</td><td>null</td><td>null</td><td>&quot;ses-3&quot;</td><td>&quot;/home/bobby/repos/latent-neura…</td><td>&quot;sub-PDI4_ses-3_task-copydraw_r…</td><td>&quot;run-6&quot;</td><td>[{&quot;LFP_1&quot;,&quot;DBS&quot;,&quot;V&quot;,0.0,150.0,300.0}, {&quot;LFP_2&quot;,&quot;DBS&quot;,&quot;V&quot;,0.0,150.0,300.0}, … {&quot;EOG_4&quot;,&quot;EOG&quot;,&quot;V&quot;,0.0,150.0,300.0}]</td><td>[{12.356667,3.842682,null,25,3707}, {16.2,9.009409,null,1,4860}, … {203.396667,30.345227,null,15,61019}]</td><td>{{24,[&quot;LFP_1&quot;, &quot;LFP_2&quot;, … &quot;EOG_4&quot;],300.0},[{3707,12.356667,&quot;Stimulus/S 25&quot;}, {4860,16.2,&quot;Stimulus/S&nbsp;&nbsp;1&quot;}, … {61019,203.396667,&quot;Stimulus/S 15&quot;}]}</td><td>&quot;sub-PDI4_ses-3_task-copydraw_r…</td></tr></tbody></table></div>"
      ],
      "text/plain": [
       "shape: (10, 14)\n",
       "┌──────────────┬──────┬──────┬──────┬───┬──────────────┬──────────────┬──────────────┬─────────────┐\n",
       "│ participant_ ┆ age  ┆ sex  ┆ hand ┆ … ┆ channels_inf ┆ events       ┆ recording_me ┆ ieeg_header │\n",
       "│ id           ┆ ---  ┆ ---  ┆ ---  ┆   ┆ o            ┆ ---          ┆ ta           ┆ s_file      │\n",
       "│ ---          ┆ str  ┆ str  ┆ str  ┆   ┆ ---          ┆ list[struct[ ┆ ---          ┆ ---         │\n",
       "│ str          ┆      ┆      ┆      ┆   ┆ list[struct[ ┆ 5]]          ┆ struct[2]    ┆ str         │\n",
       "│              ┆      ┆      ┆      ┆   ┆ 6]]          ┆              ┆              ┆             │\n",
       "╞══════════════╪══════╪══════╪══════╪═══╪══════════════╪══════════════╪══════════════╪═════════════╡\n",
       "│ sub-PDI4     ┆ null ┆ null ┆ null ┆ … ┆ [{\"LFP_1\",\"D ┆ [{6.91,1.652 ┆ {{24,[\"LFP_1 ┆ sub-PDI4_se │\n",
       "│              ┆      ┆      ┆      ┆   ┆ BS\",\"V\",0.0, ┆ 091,null,25, ┆ \", \"LFP_2\",  ┆ s-3_task-co │\n",
       "│              ┆      ┆      ┆      ┆   ┆ 150.0,…      ┆ 2073},…      ┆ … \"EOG…      ┆ pydraw_r…   │\n",
       "│ sub-PDI4     ┆ null ┆ null ┆ null ┆ … ┆ [{\"LFP_1\",\"D ┆ [{25.2,3.170 ┆ {{24,[\"LFP_1 ┆ sub-PDI4_se │\n",
       "│              ┆      ┆      ┆      ┆   ┆ BS\",\"V\",0.0, ┆ 5,null,25,75 ┆ \", \"LFP_2\",  ┆ s-3_task-co │\n",
       "│              ┆      ┆      ┆      ┆   ┆ 150.0,…      ┆ 60}, {…      ┆ … \"EOG…      ┆ pydraw_r…   │\n",
       "│ sub-PDI4     ┆ null ┆ null ┆ null ┆ … ┆ [{\"LFP_1\",\"D ┆ [{7.226667,4 ┆ {{24,[\"LFP_1 ┆ sub-PDI4_se │\n",
       "│              ┆      ┆      ┆      ┆   ┆ BS\",\"V\",0.0, ┆ .922045,null ┆ \", \"LFP_2\",  ┆ s-3_task-co │\n",
       "│              ┆      ┆      ┆      ┆   ┆ 150.0,…      ┆ ,25,21…      ┆ … \"EOG…      ┆ pydraw_r…   │\n",
       "│ sub-PDI4     ┆ null ┆ null ┆ null ┆ … ┆ [{\"LFP_1\",\"D ┆ [{10.873333, ┆ {{24,[\"LFP_1 ┆ sub-PDI4_se │\n",
       "│              ┆      ┆      ┆      ┆   ┆ BS\",\"V\",0.0, ┆ 2.071727,nul ┆ \", \"LFP_2\",  ┆ s-3_task-co │\n",
       "│              ┆      ┆      ┆      ┆   ┆ 150.0,…      ┆ l,25,3…      ┆ … \"EOG…      ┆ pydraw_r…   │\n",
       "│ sub-PDI4     ┆ null ┆ null ┆ null ┆ … ┆ [{\"LFP_1\",\"D ┆ [{8.006667,1 ┆ {{24,[\"LFP_1 ┆ sub-PDI4_se │\n",
       "│              ┆      ┆      ┆      ┆   ┆ BS\",\"V\",0.0, ┆ .752273,null ┆ \", \"LFP_2\",  ┆ s-3_task-co │\n",
       "│              ┆      ┆      ┆      ┆   ┆ 150.0,…      ┆ ,25,24…      ┆ … \"EOG…      ┆ pydraw_r…   │\n",
       "│ sub-PDI4     ┆ null ┆ null ┆ null ┆ … ┆ [{\"LFP_1\",\"D ┆ [{10.396667, ┆ {{24,[\"LFP_1 ┆ sub-PDI4_se │\n",
       "│              ┆      ┆      ┆      ┆   ┆ BS\",\"V\",0.0, ┆ 2.184591,nul ┆ \", \"LFP_2\",  ┆ s-3_task-co │\n",
       "│              ┆      ┆      ┆      ┆   ┆ 150.0,…      ┆ l,25,3…      ┆ … \"EOG…      ┆ pydraw_r…   │\n",
       "│ sub-PDI4     ┆ null ┆ null ┆ null ┆ … ┆ [{\"LFP_1\",\"D ┆ [{6.033333,2 ┆ {{24,[\"LFP_1 ┆ sub-PDI4_se │\n",
       "│              ┆      ┆      ┆      ┆   ┆ BS\",\"V\",0.0, ┆ .190818,null ┆ \", \"LFP_2\",  ┆ s-3_task-co │\n",
       "│              ┆      ┆      ┆      ┆   ┆ 150.0,…      ┆ ,25,18…      ┆ … \"EOG…      ┆ pydraw_r…   │\n",
       "│ sub-PDI4     ┆ null ┆ null ┆ null ┆ … ┆ [{\"LFP_1\",\"D ┆ [{8.11,4.156 ┆ {{24,[\"LFP_1 ┆ sub-PDI4_se │\n",
       "│              ┆      ┆      ┆      ┆   ┆ BS\",\"V\",0.0, ┆ 818,null,25, ┆ \", \"LFP_2\",  ┆ s-3_task-co │\n",
       "│              ┆      ┆      ┆      ┆   ┆ 150.0,…      ┆ 2433},…      ┆ … \"EOG…      ┆ pydraw_r…   │\n",
       "│ sub-PDI4     ┆ null ┆ null ┆ null ┆ … ┆ [{\"LFP_1\",\"D ┆ [{9.426667,1 ┆ {{24,[\"LFP_1 ┆ sub-PDI4_se │\n",
       "│              ┆      ┆      ┆      ┆   ┆ BS\",\"V\",0.0, ┆ .755,null,25 ┆ \", \"LFP_2\",  ┆ s-3_task-co │\n",
       "│              ┆      ┆      ┆      ┆   ┆ 150.0,…      ┆ ,2828}…      ┆ … \"EOG…      ┆ pydraw_r…   │\n",
       "│ sub-PDI4     ┆ null ┆ null ┆ null ┆ … ┆ [{\"LFP_1\",\"D ┆ [{12.356667, ┆ {{24,[\"LFP_1 ┆ sub-PDI4_se │\n",
       "│              ┆      ┆      ┆      ┆   ┆ BS\",\"V\",0.0, ┆ 3.842682,nul ┆ \", \"LFP_2\",  ┆ s-3_task-co │\n",
       "│              ┆      ┆      ┆      ┆   ┆ 150.0,…      ┆ l,25,3…      ┆ … \"EOG…      ┆ pydraw_r…   │\n",
       "└──────────────┴──────┴──────┴──────┴───┴──────────────┴──────────────┴──────────────┴─────────────┘"
      ]
     },
     "execution_count": 41,
     "metadata": {},
     "output_type": "execute_result"
    }
   ],
   "source": [
    "participants_ieeg"
   ]
  },
  {
   "cell_type": "markdown",
   "id": "4e0c5bf8",
   "metadata": {},
   "source": [
    "## Motion"
   ]
  },
  {
   "cell_type": "code",
   "execution_count": 78,
   "id": "580a60d3",
   "metadata": {},
   "outputs": [],
   "source": [
    "participants_motion = participants.with_columns(\n",
    "    pl.concat_str(\n",
    "        [\n",
    "            pl.lit(DATA_PATH),\n",
    "            pl.col(\"participant_id\"),\n",
    "            pl.col(\"session\"),\n",
    "            pl.lit(\"motion\"),\n",
    "        ],\n",
    "        separator=\"/\",\n",
    "    ).alias(\"motion_path\"),\n",
    ")"
   ]
  },
  {
   "cell_type": "code",
   "execution_count": 79,
   "id": "a7e55ae5",
   "metadata": {},
   "outputs": [],
   "source": [
    "participants_motion = participants_motion.with_columns(\n",
    "    pl.col(\"motion_path\")\n",
    "    .map_elements(\n",
    "        lambda motion_path: list_files(motion_path, root_=True),\n",
    "        return_dtype=pl.List(pl.String),\n",
    "    )\n",
    "    .alias(\"motion_file\")\n",
    ").explode(pl.col(\"motion_file\"))"
   ]
  },
  {
   "cell_type": "code",
   "execution_count": 81,
   "id": "b78642d6",
   "metadata": {},
   "outputs": [],
   "source": [
    "participants_motion = (\n",
    "    participants_motion.with_columns(\n",
    "        pl.col(\"motion_file\").str.split(by=\"_\").alias(\"splitted_file\")\n",
    "    )\n",
    "    .with_columns(\n",
    "        pl.col(\"splitted_file\")\n",
    "        .list.get(-1)\n",
    "        .str.split(\".\")\n",
    "        .list.get(-1)\n",
    "        .alias(\"data_format\"),\n",
    "        pl.col(\"splitted_file\").list.get(-3).alias(\"chunk\"),\n",
    "        pl.col(\"splitted_file\").list.get(-4).alias(\"run\"),\n",
    "    )\n",
    "    .drop(\"splitted_file\")\n",
    ")"
   ]
  },
  {
   "cell_type": "code",
   "execution_count": 85,
   "id": "d745e1e2",
   "metadata": {},
   "outputs": [],
   "source": [
    "participants_motion = participants_motion.filter(pl.col(\"data_format\") != \"json\").drop(\"data_format\")"
   ]
  },
  {
   "cell_type": "code",
   "execution_count": 86,
   "id": "9ade21cc",
   "metadata": {},
   "outputs": [
    {
     "data": {
      "text/html": [
       "<div><style>\n",
       ".dataframe > thead > tr,\n",
       ".dataframe > tbody > tr {\n",
       "  text-align: right;\n",
       "  white-space: pre-wrap;\n",
       "}\n",
       "</style>\n",
       "<small>shape: (288, 11)</small><table border=\"1\" class=\"dataframe\"><thead><tr><th>participant_id</th><th>age</th><th>sex</th><th>hand</th><th>weight</th><th>height</th><th>session</th><th>motion_path</th><th>motion_file</th><th>chunk</th><th>run</th></tr><tr><td>str</td><td>str</td><td>str</td><td>str</td><td>str</td><td>str</td><td>str</td><td>str</td><td>str</td><td>str</td><td>str</td></tr></thead><tbody><tr><td>&quot;sub-PDI4&quot;</td><td>null</td><td>null</td><td>null</td><td>null</td><td>null</td><td>&quot;ses-3&quot;</td><td>&quot;/home/bobby/repos/latent-neura…</td><td>&quot;sub-PDI4_ses-3_task-copydraw_r…</td><td>&quot;chunk-09&quot;</td><td>&quot;run-03&quot;</td></tr><tr><td>&quot;sub-PDI4&quot;</td><td>null</td><td>null</td><td>null</td><td>null</td><td>null</td><td>&quot;ses-3&quot;</td><td>&quot;/home/bobby/repos/latent-neura…</td><td>&quot;sub-PDI4_ses-3_task-copydraw_r…</td><td>&quot;chunk-04&quot;</td><td>&quot;run-09&quot;</td></tr><tr><td>&quot;sub-PDI4&quot;</td><td>null</td><td>null</td><td>null</td><td>null</td><td>null</td><td>&quot;ses-3&quot;</td><td>&quot;/home/bobby/repos/latent-neura…</td><td>&quot;sub-PDI4_ses-3_task-copydraw_r…</td><td>&quot;chunk-05&quot;</td><td>&quot;run-05&quot;</td></tr><tr><td>&quot;sub-PDI4&quot;</td><td>null</td><td>null</td><td>null</td><td>null</td><td>null</td><td>&quot;ses-3&quot;</td><td>&quot;/home/bobby/repos/latent-neura…</td><td>&quot;sub-PDI4_ses-3_task-copydraw_r…</td><td>&quot;chunk-03&quot;</td><td>&quot;run-07&quot;</td></tr><tr><td>&quot;sub-PDI4&quot;</td><td>null</td><td>null</td><td>null</td><td>null</td><td>null</td><td>&quot;ses-3&quot;</td><td>&quot;/home/bobby/repos/latent-neura…</td><td>&quot;sub-PDI4_ses-3_task-copydraw_r…</td><td>&quot;chunk-11&quot;</td><td>&quot;run-01&quot;</td></tr><tr><td>&hellip;</td><td>&hellip;</td><td>&hellip;</td><td>&hellip;</td><td>&hellip;</td><td>&hellip;</td><td>&hellip;</td><td>&hellip;</td><td>&hellip;</td><td>&hellip;</td><td>&hellip;</td></tr><tr><td>&quot;sub-PDI4&quot;</td><td>null</td><td>null</td><td>null</td><td>null</td><td>null</td><td>&quot;ses-3&quot;</td><td>&quot;/home/bobby/repos/latent-neura…</td><td>&quot;sub-PDI4_ses-3_task-copydraw_r…</td><td>&quot;chunk-02&quot;</td><td>&quot;run-05&quot;</td></tr><tr><td>&quot;sub-PDI4&quot;</td><td>null</td><td>null</td><td>null</td><td>null</td><td>null</td><td>&quot;ses-3&quot;</td><td>&quot;/home/bobby/repos/latent-neura…</td><td>&quot;sub-PDI4_ses-3_task-copydraw_r…</td><td>&quot;chunk-11&quot;</td><td>&quot;run-01&quot;</td></tr><tr><td>&quot;sub-PDI4&quot;</td><td>null</td><td>null</td><td>null</td><td>null</td><td>null</td><td>&quot;ses-3&quot;</td><td>&quot;/home/bobby/repos/latent-neura…</td><td>&quot;sub-PDI4_ses-3_task-copydraw_r…</td><td>&quot;chunk-06&quot;</td><td>&quot;run-11&quot;</td></tr><tr><td>&quot;sub-PDI4&quot;</td><td>null</td><td>null</td><td>null</td><td>null</td><td>null</td><td>&quot;ses-3&quot;</td><td>&quot;/home/bobby/repos/latent-neura…</td><td>&quot;sub-PDI4_ses-3_task-copydraw_r…</td><td>&quot;chunk-11&quot;</td><td>&quot;run-07&quot;</td></tr><tr><td>&quot;sub-PDI4&quot;</td><td>null</td><td>null</td><td>null</td><td>null</td><td>null</td><td>&quot;ses-3&quot;</td><td>&quot;/home/bobby/repos/latent-neura…</td><td>&quot;sub-PDI4_ses-3_task-copydraw_r…</td><td>&quot;chunk-10&quot;</td><td>&quot;run-11&quot;</td></tr></tbody></table></div>"
      ],
      "text/plain": [
       "shape: (288, 11)\n",
       "┌────────────────┬──────┬──────┬──────┬───┬──────────────────┬─────────────────┬──────────┬────────┐\n",
       "│ participant_id ┆ age  ┆ sex  ┆ hand ┆ … ┆ motion_path      ┆ motion_file     ┆ chunk    ┆ run    │\n",
       "│ ---            ┆ ---  ┆ ---  ┆ ---  ┆   ┆ ---              ┆ ---             ┆ ---      ┆ ---    │\n",
       "│ str            ┆ str  ┆ str  ┆ str  ┆   ┆ str              ┆ str             ┆ str      ┆ str    │\n",
       "╞════════════════╪══════╪══════╪══════╪═══╪══════════════════╪═════════════════╪══════════╪════════╡\n",
       "│ sub-PDI4       ┆ null ┆ null ┆ null ┆ … ┆ /home/bobby/repo ┆ sub-PDI4_ses-3_ ┆ chunk-09 ┆ run-03 │\n",
       "│                ┆      ┆      ┆      ┆   ┆ s/latent-neura…  ┆ task-copydraw_r ┆          ┆        │\n",
       "│                ┆      ┆      ┆      ┆   ┆                  ┆ …               ┆          ┆        │\n",
       "│ sub-PDI4       ┆ null ┆ null ┆ null ┆ … ┆ /home/bobby/repo ┆ sub-PDI4_ses-3_ ┆ chunk-04 ┆ run-09 │\n",
       "│                ┆      ┆      ┆      ┆   ┆ s/latent-neura…  ┆ task-copydraw_r ┆          ┆        │\n",
       "│                ┆      ┆      ┆      ┆   ┆                  ┆ …               ┆          ┆        │\n",
       "│ sub-PDI4       ┆ null ┆ null ┆ null ┆ … ┆ /home/bobby/repo ┆ sub-PDI4_ses-3_ ┆ chunk-05 ┆ run-05 │\n",
       "│                ┆      ┆      ┆      ┆   ┆ s/latent-neura…  ┆ task-copydraw_r ┆          ┆        │\n",
       "│                ┆      ┆      ┆      ┆   ┆                  ┆ …               ┆          ┆        │\n",
       "│ sub-PDI4       ┆ null ┆ null ┆ null ┆ … ┆ /home/bobby/repo ┆ sub-PDI4_ses-3_ ┆ chunk-03 ┆ run-07 │\n",
       "│                ┆      ┆      ┆      ┆   ┆ s/latent-neura…  ┆ task-copydraw_r ┆          ┆        │\n",
       "│                ┆      ┆      ┆      ┆   ┆                  ┆ …               ┆          ┆        │\n",
       "│ sub-PDI4       ┆ null ┆ null ┆ null ┆ … ┆ /home/bobby/repo ┆ sub-PDI4_ses-3_ ┆ chunk-11 ┆ run-01 │\n",
       "│                ┆      ┆      ┆      ┆   ┆ s/latent-neura…  ┆ task-copydraw_r ┆          ┆        │\n",
       "│                ┆      ┆      ┆      ┆   ┆                  ┆ …               ┆          ┆        │\n",
       "│ …              ┆ …    ┆ …    ┆ …    ┆ … ┆ …                ┆ …               ┆ …        ┆ …      │\n",
       "│ sub-PDI4       ┆ null ┆ null ┆ null ┆ … ┆ /home/bobby/repo ┆ sub-PDI4_ses-3_ ┆ chunk-02 ┆ run-05 │\n",
       "│                ┆      ┆      ┆      ┆   ┆ s/latent-neura…  ┆ task-copydraw_r ┆          ┆        │\n",
       "│                ┆      ┆      ┆      ┆   ┆                  ┆ …               ┆          ┆        │\n",
       "│ sub-PDI4       ┆ null ┆ null ┆ null ┆ … ┆ /home/bobby/repo ┆ sub-PDI4_ses-3_ ┆ chunk-11 ┆ run-01 │\n",
       "│                ┆      ┆      ┆      ┆   ┆ s/latent-neura…  ┆ task-copydraw_r ┆          ┆        │\n",
       "│                ┆      ┆      ┆      ┆   ┆                  ┆ …               ┆          ┆        │\n",
       "│ sub-PDI4       ┆ null ┆ null ┆ null ┆ … ┆ /home/bobby/repo ┆ sub-PDI4_ses-3_ ┆ chunk-06 ┆ run-11 │\n",
       "│                ┆      ┆      ┆      ┆   ┆ s/latent-neura…  ┆ task-copydraw_r ┆          ┆        │\n",
       "│                ┆      ┆      ┆      ┆   ┆                  ┆ …               ┆          ┆        │\n",
       "│ sub-PDI4       ┆ null ┆ null ┆ null ┆ … ┆ /home/bobby/repo ┆ sub-PDI4_ses-3_ ┆ chunk-11 ┆ run-07 │\n",
       "│                ┆      ┆      ┆      ┆   ┆ s/latent-neura…  ┆ task-copydraw_r ┆          ┆        │\n",
       "│                ┆      ┆      ┆      ┆   ┆                  ┆ …               ┆          ┆        │\n",
       "│ sub-PDI4       ┆ null ┆ null ┆ null ┆ … ┆ /home/bobby/repo ┆ sub-PDI4_ses-3_ ┆ chunk-10 ┆ run-11 │\n",
       "│                ┆      ┆      ┆      ┆   ┆ s/latent-neura…  ┆ task-copydraw_r ┆          ┆        │\n",
       "│                ┆      ┆      ┆      ┆   ┆                  ┆ …               ┆          ┆        │\n",
       "└────────────────┴──────┴──────┴──────┴───┴──────────────────┴─────────────────┴──────────┴────────┘"
      ]
     },
     "execution_count": 86,
     "metadata": {},
     "output_type": "execute_result"
    }
   ],
   "source": [
    "participants_motion"
   ]
  },
  {
   "cell_type": "markdown",
   "id": "7568b981",
   "metadata": {},
   "source": []
  }
 ],
 "metadata": {
  "kernelspec": {
   "display_name": "neuro",
   "language": "python",
   "name": "python3"
  },
  "language_info": {
   "codemirror_mode": {
    "name": "ipython",
    "version": 3
   },
   "file_extension": ".py",
   "mimetype": "text/x-python",
   "name": "python",
   "nbconvert_exporter": "python",
   "pygments_lexer": "ipython3",
   "version": "3.11.13"
  }
 },
 "nbformat": 4,
 "nbformat_minor": 5
}
