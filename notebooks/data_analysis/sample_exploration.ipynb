{
 "cells": [
  {
   "cell_type": "code",
   "execution_count": 39,
   "id": "da354cfc",
   "metadata": {},
   "outputs": [],
   "source": [
    "import os\n",
    "import polars as pl"
   ]
  },
  {
   "cell_type": "code",
   "execution_count": 46,
   "id": "a99335ba",
   "metadata": {},
   "outputs": [],
   "source": [
    "ROOT_PATH = \"/home/bobby/repos/latent-neural-dynamics-modeling\"\n",
    "DATA_PATH = os.path.join(ROOT_PATH, \"data\")"
   ]
  },
  {
   "cell_type": "code",
   "execution_count": 103,
   "id": "3537079a",
   "metadata": {},
   "outputs": [],
   "source": [
    "participants = pl.read_csv(os.path.join(DATA_PATH, \"participants.tsv\"), separator=\"\\t\", null_values=\"n/a\")"
   ]
  },
  {
   "cell_type": "code",
   "execution_count": 104,
   "id": "f1f03fcc",
   "metadata": {},
   "outputs": [],
   "source": [
    "def list_files(folder_path: str, root_: bool = False) -> list:\n",
    "    if root_:\n",
    "        return os.listdir(folder_path)\n",
    "    else:\n",
    "        return  os.listdir(os.path.join(DATA_PATH, folder_path))"
   ]
  },
  {
   "cell_type": "code",
   "execution_count": 105,
   "id": "d4676a84",
   "metadata": {},
   "outputs": [],
   "source": [
    "participants = participants.with_columns(\n",
    "    pl.col(\"participant_id\").map_elements(lambda pid: list_files(pid), return_dtype=pl.List(pl.String)).alias(\"session\")\n",
    ").explode(pl.col(\"session\"))"
   ]
  },
  {
   "cell_type": "code",
   "execution_count": 106,
   "id": "a1d5664b",
   "metadata": {},
   "outputs": [],
   "source": [
    "participants_ieeg = participants.with_columns(\n",
    "    pl.concat_str([\n",
    "        pl.lit(DATA_PATH),\n",
    "        pl.col(\"participant_id\"),\n",
    "        pl.col(\"session\"),\n",
    "        pl.lit(\"ieeg\")\n",
    "    ], separator=\"/\").alias(\"ieeg_path\"),\n",
    ")"
   ]
  },
  {
   "cell_type": "code",
   "execution_count": 107,
   "id": "34d4d49a",
   "metadata": {},
   "outputs": [],
   "source": [
    "participants_ieeg = participants_ieeg.with_columns(pl.col(\"ieeg_path\").map_elements(lambda ieeg_path: list_files(ieeg_path, root_=True), return_dtype=pl.List(pl.String)).alias(\"ieeg_file\")).explode(pl.col(\"ieeg_file\"))"
   ]
  },
  {
   "cell_type": "code",
   "execution_count": 108,
   "id": "34a6027b",
   "metadata": {},
   "outputs": [],
   "source": [
    "participants_ieeg = participants_ieeg.with_columns(\n",
    "    pl.col(\"ieeg_file\").str.split(by=\"_\").alias(\"splitted_file\")\n",
    ").with_columns(pl.col(\"splitted_file\").list.get(-1).str.split(\".\").list.get(0).alias(\"type\"),\n",
    "               pl.col(\"splitted_file\").list.get(-1).str.split(\".\").list.get(-1).alias(\"data_format\"),\n",
    "               pl.col(\"splitted_file\").list.get(-2).alias(\"run\")).drop(\"splitted_file\")"
   ]
  },
  {
   "cell_type": "code",
   "execution_count": 110,
   "id": "94fbef77",
   "metadata": {},
   "outputs": [],
   "source": [
    "channel_metadata_schema = pl.List(pl.Struct(\n",
    "    [\n",
    "        pl.Field(\"name\", pl.Utf8),\n",
    "        pl.Field(\"type\", pl.Utf8),\n",
    "        pl.Field(\"units\", pl.Utf8),\n",
    "        pl.Field(\"low_cutoff\", pl.Float64),\n",
    "        pl.Field(\"high_cutoff\", pl.Float64),\n",
    "        pl.Field(\"sampling_frequency\", pl.Float64),\n",
    "    ]\n",
    "))"
   ]
  },
  {
   "cell_type": "code",
   "execution_count": 115,
   "id": "0f336a2c",
   "metadata": {},
   "outputs": [],
   "source": [
    "def read_csv_(row: dict[str, str]) -> pl.Series:\n",
    "    df = pl.read_csv(os.path.join(row[\"ieeg_path\"], row[\"ieeg_file\"]), separator=\"\\t\", null_values=\"n/a\")\n",
    "    return df.to_struct()"
   ]
  },
  {
   "cell_type": "code",
   "execution_count": null,
   "id": "79167f7d",
   "metadata": {},
   "outputs": [],
   "source": [
    "channels_df = participants_ieeg.filter(\n",
    "    (pl.col(\"type\") == \"channels\") & (pl.col(\"data_format\") == \"tsv\")\n",
    ").select(\n",
    "    \"participant_id\", \"session\", \"run\",\n",
    "    pl.struct([\"ieeg_path\", \"ieeg_file\"])\n",
    "    .map_elements(\n",
    "        read_csv_,\n",
    "        return_dtype=channel_metadata_schema\n",
    "    )\n",
    "    .alias(\"channels_info\")\n",
    ")\n"
   ]
  },
  {
   "cell_type": "code",
   "execution_count": 113,
   "id": "eb3ac640",
   "metadata": {},
   "outputs": [],
   "source": [
    "participants_ieeg = participants_ieeg.join(\n",
    "    channels_df, on=[\"participant_id\", \"session\", \"run\"], how=\"left\"\n",
    ").filter( ~((pl.col(\"type\") == \"channels\") & (pl.col(\"data_format\") == \"tsv\")))"
   ]
  },
  {
   "cell_type": "code",
   "execution_count": 118,
   "id": "1a2e3c84",
   "metadata": {},
   "outputs": [],
   "source": [
    "events_schema = pl.List(pl.Struct(\n",
    "    [\n",
    "        pl.Field(\"onset\", pl.Float64),\n",
    "        pl.Field(\"duration\", pl.Float64),\n",
    "        pl.Field(\"trial_tyoe\", pl.Float64),\n",
    "        pl.Field(\"value\", pl.Int64),\n",
    "        pl.Field(\"sample\", pl.Int64),\n",
    "    ]\n",
    "))"
   ]
  },
  {
   "cell_type": "code",
   "execution_count": 119,
   "id": "26b263c8",
   "metadata": {},
   "outputs": [],
   "source": [
    "events_df = participants_ieeg.filter(\n",
    "    (pl.col(\"type\") == \"events\") & (pl.col(\"data_format\") == \"tsv\")\n",
    ").select(\n",
    "    \"participant_id\", \"session\", \"run\",\n",
    "    pl.struct([\"ieeg_path\", \"ieeg_file\"])\n",
    "    .map_elements(\n",
    "        read_csv_,\n",
    "        return_dtype=events_schema\n",
    "    )\n",
    "    .alias(\"events\")\n",
    ")\n"
   ]
  },
  {
   "cell_type": "code",
   "execution_count": 120,
   "id": "aaeade02",
   "metadata": {},
   "outputs": [],
   "source": [
    "participants_ieeg = participants_ieeg.join(\n",
    "    events_df, on=[\"participant_id\", \"session\", \"run\"], how=\"left\"\n",
    ").filter(~((pl.col(\"type\") == \"events\") & (pl.col(\"data_format\") == \"tsv\")))"
   ]
  },
  {
   "cell_type": "code",
   "execution_count": 125,
   "id": "2121f075",
   "metadata": {},
   "outputs": [],
   "source": [
    "participants_ieeg = participants_ieeg.filter(~(pl.col(\"data_format\") == \"json\"))"
   ]
  },
  {
   "cell_type": "code",
   "execution_count": 127,
   "id": "a26bae78",
   "metadata": {},
   "outputs": [
    {
     "name": "stdout",
     "output_type": "stream",
     "text": [
      "Extracting parameters from /home/bobby/repos/latent-neural-dynamics-modeling/data/sub-PDI4/ses-3/ieeg/sub-PDI4_ses-3_task-copydraw_run-7_ieeg.vhdr...\n",
      "Setting channel info structure...\n",
      "Extracting parameters from /home/bobby/repos/latent-neural-dynamics-modeling/data/sub-PDI4/ses-3/ieeg/sub-PDI4_ses-3_task-copydraw_run-8_ieeg.vhdr...\n",
      "Setting channel info structure...\n",
      "Extracting parameters from /home/bobby/repos/latent-neural-dynamics-modeling/data/sub-PDI4/ses-3/ieeg/sub-PDI4_ses-3_task-copydraw_run-2_ieeg.vhdr...\n",
      "Setting channel info structure...\n",
      "Extracting parameters from /home/bobby/repos/latent-neural-dynamics-modeling/data/sub-PDI4/ses-3/ieeg/sub-PDI4_ses-3_task-copydraw_run-11_ieeg.vhdr...\n",
      "Setting channel info structure...\n",
      "Extracting parameters from /home/bobby/repos/latent-neural-dynamics-modeling/data/sub-PDI4/ses-3/ieeg/sub-PDI4_ses-3_task-copydraw_run-6_ieeg.vhdr...\n",
      "Setting channel info structure...\n",
      "Extracting parameters from /home/bobby/repos/latent-neural-dynamics-modeling/data/sub-PDI4/ses-3/ieeg/sub-PDI4_ses-3_task-copydraw_run-4_ieeg.vhdr...\n",
      "Setting channel info structure...\n",
      "Extracting parameters from /home/bobby/repos/latent-neural-dynamics-modeling/data/sub-PDI4/ses-3/ieeg/sub-PDI4_ses-3_task-copydraw_run-12_ieeg.vhdr...\n",
      "Setting channel info structure...\n",
      "Extracting parameters from /home/bobby/repos/latent-neural-dynamics-modeling/data/sub-PDI4/ses-3/ieeg/sub-PDI4_ses-3_task-copydraw_run-10_ieeg.vhdr...\n",
      "Setting channel info structure...\n",
      "Extracting parameters from /home/bobby/repos/latent-neural-dynamics-modeling/data/sub-PDI4/ses-3/ieeg/sub-PDI4_ses-3_task-copydraw_run-3_ieeg.vhdr...\n",
      "Setting channel info structure...\n",
      "Extracting parameters from /home/bobby/repos/latent-neural-dynamics-modeling/data/sub-PDI4/ses-3/ieeg/sub-PDI4_ses-3_task-copydraw_run-5_ieeg.vhdr...\n",
      "Setting channel info structure...\n"
     ]
    },
    {
     "data": {
      "text/html": [
       "<div><style>\n",
       ".dataframe > thead > tr,\n",
       ".dataframe > tbody > tr {\n",
       "  text-align: right;\n",
       "  white-space: pre-wrap;\n",
       "}\n",
       "</style>\n",
       "<small>shape: (10, 15)</small><table border=\"1\" class=\"dataframe\"><thead><tr><th>participant_id</th><th>age</th><th>sex</th><th>hand</th><th>weight</th><th>height</th><th>session</th><th>ieeg_path</th><th>ieeg_file</th><th>type</th><th>data_format</th><th>run</th><th>channels_info</th><th>events</th><th>raw_vhdr</th></tr><tr><td>str</td><td>str</td><td>str</td><td>str</td><td>str</td><td>str</td><td>str</td><td>str</td><td>str</td><td>str</td><td>str</td><td>str</td><td>list[struct[6]]</td><td>list[struct[5]]</td><td>object</td></tr></thead><tbody><tr><td>&quot;sub-PDI4&quot;</td><td>null</td><td>null</td><td>null</td><td>null</td><td>null</td><td>&quot;ses-3&quot;</td><td>&quot;/home/bobby/repos/latent-neura…</td><td>&quot;sub-PDI4_ses-3_task-copydraw_r…</td><td>&quot;ieeg&quot;</td><td>&quot;vhdr&quot;</td><td>&quot;run-7&quot;</td><td>[{&quot;LFP_1&quot;,&quot;DBS&quot;,&quot;V&quot;,0.0,150.0,300.0}, {&quot;LFP_2&quot;,&quot;DBS&quot;,&quot;V&quot;,0.0,150.0,300.0}, … {&quot;EOG_4&quot;,&quot;EOG&quot;,&quot;V&quot;,0.0,150.0,300.0}]</td><td>[{6.91,1.652091,null,25,2073}, {8.563333,9.126364,null,1,2569}, … {200.97,17.894227,null,15,60291}]</td><td>&lt;RawBrainVision | sub-PDI4_ses-3_task-copydraw_run-7_ieeg.eeg, 24 x 65659 (218.9 s), ~24 KiB, data not loaded&gt;</td></tr><tr><td>&quot;sub-PDI4&quot;</td><td>null</td><td>null</td><td>null</td><td>null</td><td>null</td><td>&quot;ses-3&quot;</td><td>&quot;/home/bobby/repos/latent-neura…</td><td>&quot;sub-PDI4_ses-3_task-copydraw_r…</td><td>&quot;ieeg&quot;</td><td>&quot;vhdr&quot;</td><td>&quot;run-8&quot;</td><td>[{&quot;LFP_1&quot;,&quot;DBS&quot;,&quot;V&quot;,0.0,150.0,300.0}, {&quot;LFP_2&quot;,&quot;DBS&quot;,&quot;V&quot;,0.0,150.0,300.0}, … {&quot;EOG_4&quot;,&quot;EOG&quot;,&quot;V&quot;,0.0,150.0,300.0}]</td><td>[{9.426667,1.755,null,25,2828}, {11.183333,9.032591,null,1,3355}, … {207.833333,23.003455,null,15,62350}]</td><td>&lt;RawBrainVision | sub-PDI4_ses-3_task-copydraw_run-8_ieeg.eeg, 24 x 69251 (230.8 s), ~24 KiB, data not loaded&gt;</td></tr><tr><td>&quot;sub-PDI4&quot;</td><td>null</td><td>null</td><td>null</td><td>null</td><td>null</td><td>&quot;ses-3&quot;</td><td>&quot;/home/bobby/repos/latent-neura…</td><td>&quot;sub-PDI4_ses-3_task-copydraw_r…</td><td>&quot;ieeg&quot;</td><td>&quot;vhdr&quot;</td><td>&quot;run-2&quot;</td><td>[{&quot;LFP_1&quot;,&quot;DBS&quot;,&quot;V&quot;,0.0,150.0,300.0}, {&quot;LFP_2&quot;,&quot;DBS&quot;,&quot;V&quot;,0.0,150.0,300.0}, … {&quot;EOG_4&quot;,&quot;EOG&quot;,&quot;V&quot;,0.0,150.0,300.0}]</td><td>[{8.006667,1.752273,null,25,2402}, {9.756667,9.015818,null,1,2927}, … {185.78,32.906273,null,15,55734}]</td><td>&lt;RawBrainVision | sub-PDI4_ses-3_task-copydraw_run-2_ieeg.eeg, 24 x 65605 (218.7 s), ~24 KiB, data not loaded&gt;</td></tr><tr><td>&quot;sub-PDI4&quot;</td><td>null</td><td>null</td><td>null</td><td>null</td><td>null</td><td>&quot;ses-3&quot;</td><td>&quot;/home/bobby/repos/latent-neura…</td><td>&quot;sub-PDI4_ses-3_task-copydraw_r…</td><td>&quot;ieeg&quot;</td><td>&quot;vhdr&quot;</td><td>&quot;run-11&quot;</td><td>[{&quot;LFP_1&quot;,&quot;DBS&quot;,&quot;V&quot;,0.0,150.0,300.0}, {&quot;LFP_2&quot;,&quot;DBS&quot;,&quot;V&quot;,0.0,150.0,300.0}, … {&quot;EOG_4&quot;,&quot;EOG&quot;,&quot;V&quot;,0.0,150.0,300.0}]</td><td>[{25.2,3.1705,null,25,7560}, {28.37,9.000364,null,1,8511}, … {222.836667,18.552,null,15,66851}]</td><td>&lt;RawBrainVision | sub-PDI4_ses-3_task-copydraw_run-11_ieeg.eeg, 24 x 72417 (241.4 s), ~24 KiB, data not loaded&gt;</td></tr><tr><td>&quot;sub-PDI4&quot;</td><td>null</td><td>null</td><td>null</td><td>null</td><td>null</td><td>&quot;ses-3&quot;</td><td>&quot;/home/bobby/repos/latent-neura…</td><td>&quot;sub-PDI4_ses-3_task-copydraw_r…</td><td>&quot;ieeg&quot;</td><td>&quot;vhdr&quot;</td><td>&quot;run-6&quot;</td><td>[{&quot;LFP_1&quot;,&quot;DBS&quot;,&quot;V&quot;,0.0,150.0,300.0}, {&quot;LFP_2&quot;,&quot;DBS&quot;,&quot;V&quot;,0.0,150.0,300.0}, … {&quot;EOG_4&quot;,&quot;EOG&quot;,&quot;V&quot;,0.0,150.0,300.0}]</td><td>[{12.356667,3.842682,null,25,3707}, {16.2,9.009409,null,1,4860}, … {203.396667,30.345227,null,15,61019}]</td><td>&lt;RawBrainVision | sub-PDI4_ses-3_task-copydraw_run-6_ieeg.eeg, 24 x 70122 (233.7 s), ~24 KiB, data not loaded&gt;</td></tr><tr><td>&quot;sub-PDI4&quot;</td><td>null</td><td>null</td><td>null</td><td>null</td><td>null</td><td>&quot;ses-3&quot;</td><td>&quot;/home/bobby/repos/latent-neura…</td><td>&quot;sub-PDI4_ses-3_task-copydraw_r…</td><td>&quot;ieeg&quot;</td><td>&quot;vhdr&quot;</td><td>&quot;run-4&quot;</td><td>[{&quot;LFP_1&quot;,&quot;DBS&quot;,&quot;V&quot;,0.0,150.0,300.0}, {&quot;LFP_2&quot;,&quot;DBS&quot;,&quot;V&quot;,0.0,150.0,300.0}, … {&quot;EOG_4&quot;,&quot;EOG&quot;,&quot;V&quot;,0.0,150.0,300.0}]</td><td>[{6.033333,2.190818,null,25,1810}, {8.223333,9.112364,null,1,2467}, … {207.183333,29.352909,null,15,62155}]</td><td>&lt;RawBrainVision | sub-PDI4_ses-3_task-copydraw_run-4_ieeg.eeg, 24 x 70961 (236.5 s), ~24 KiB, data not loaded&gt;</td></tr><tr><td>&quot;sub-PDI4&quot;</td><td>null</td><td>null</td><td>null</td><td>null</td><td>null</td><td>&quot;ses-3&quot;</td><td>&quot;/home/bobby/repos/latent-neura…</td><td>&quot;sub-PDI4_ses-3_task-copydraw_r…</td><td>&quot;ieeg&quot;</td><td>&quot;vhdr&quot;</td><td>&quot;run-12&quot;</td><td>[{&quot;LFP_1&quot;,&quot;DBS&quot;,&quot;V&quot;,0.0,150.0,300.0}, {&quot;LFP_2&quot;,&quot;DBS&quot;,&quot;V&quot;,0.0,150.0,300.0}, … {&quot;EOG_4&quot;,&quot;EOG&quot;,&quot;V&quot;,0.0,150.0,300.0}]</td><td>[{10.873333,2.071727,null,25,3262}, {12.946667,8.972773,null,1,3884}, … {218.49,175.53,null,15,65547}]</td><td>&lt;RawBrainVision | sub-PDI4_ses-3_task-copydraw_run-12_ieeg.eeg, 24 x 118206 (394.0 s), ~24 KiB, data not loaded&gt;</td></tr><tr><td>&quot;sub-PDI4&quot;</td><td>null</td><td>null</td><td>null</td><td>null</td><td>null</td><td>&quot;ses-3&quot;</td><td>&quot;/home/bobby/repos/latent-neura…</td><td>&quot;sub-PDI4_ses-3_task-copydraw_r…</td><td>&quot;ieeg&quot;</td><td>&quot;vhdr&quot;</td><td>&quot;run-10&quot;</td><td>[{&quot;LFP_1&quot;,&quot;DBS&quot;,&quot;V&quot;,0.0,150.0,300.0}, {&quot;LFP_2&quot;,&quot;DBS&quot;,&quot;V&quot;,0.0,150.0,300.0}, … {&quot;EOG_4&quot;,&quot;EOG&quot;,&quot;V&quot;,0.0,150.0,300.0}]</td><td>[{10.396667,2.184591,null,25,3119}, {12.58,8.995864,null,1,3774}, … {204.013333,244.918636,null,15,61204}]</td><td>&lt;RawBrainVision | sub-PDI4_ses-3_task-copydraw_run-10_ieeg.eeg, 24 x 134680 (448.9 s), ~24 KiB, data not loaded&gt;</td></tr><tr><td>&quot;sub-PDI4&quot;</td><td>null</td><td>null</td><td>null</td><td>null</td><td>null</td><td>&quot;ses-3&quot;</td><td>&quot;/home/bobby/repos/latent-neura…</td><td>&quot;sub-PDI4_ses-3_task-copydraw_r…</td><td>&quot;ieeg&quot;</td><td>&quot;vhdr&quot;</td><td>&quot;run-3&quot;</td><td>[{&quot;LFP_1&quot;,&quot;DBS&quot;,&quot;V&quot;,0.0,150.0,300.0}, {&quot;LFP_2&quot;,&quot;DBS&quot;,&quot;V&quot;,0.0,150.0,300.0}, … {&quot;EOG_4&quot;,&quot;EOG&quot;,&quot;V&quot;,0.0,150.0,300.0}]</td><td>[{7.226667,4.922045,null,25,2168}, {12.15,9.118227,null,1,3645}, … {193.126667,56.071045,null,15,57938}]</td><td>&lt;RawBrainVision | sub-PDI4_ses-3_task-copydraw_run-3_ieeg.eeg, 24 x 74759 (249.2 s), ~24 KiB, data not loaded&gt;</td></tr><tr><td>&quot;sub-PDI4&quot;</td><td>null</td><td>null</td><td>null</td><td>null</td><td>null</td><td>&quot;ses-3&quot;</td><td>&quot;/home/bobby/repos/latent-neura…</td><td>&quot;sub-PDI4_ses-3_task-copydraw_r…</td><td>&quot;ieeg&quot;</td><td>&quot;vhdr&quot;</td><td>&quot;run-5&quot;</td><td>[{&quot;LFP_1&quot;,&quot;DBS&quot;,&quot;V&quot;,0.0,150.0,300.0}, {&quot;LFP_2&quot;,&quot;DBS&quot;,&quot;V&quot;,0.0,150.0,300.0}, … {&quot;EOG_4&quot;,&quot;EOG&quot;,&quot;V&quot;,0.0,150.0,300.0}]</td><td>[{8.11,4.156818,null,25,2433}, {12.266667,9.090409,null,1,3680}, … {199.966667,24.289955,null,15,59990}]</td><td>&lt;RawBrainVision | sub-PDI4_ses-3_task-copydraw_run-5_ieeg.eeg, 24 x 67277 (224.3 s), ~24 KiB, data not loaded&gt;</td></tr></tbody></table></div>"
      ],
      "text/plain": [
       "shape: (10, 15)\n",
       "┌────────────────┬──────┬──────┬──────┬───┬────────┬───────────────┬───────────────┬───────────────┐\n",
       "│ participant_id ┆ age  ┆ sex  ┆ hand ┆ … ┆ run    ┆ channels_info ┆ events        ┆ raw_vhdr      │\n",
       "│ ---            ┆ ---  ┆ ---  ┆ ---  ┆   ┆ ---    ┆ ---           ┆ ---           ┆ ---           │\n",
       "│ str            ┆ str  ┆ str  ┆ str  ┆   ┆ str    ┆ list[struct[6 ┆ list[struct[5 ┆ object        │\n",
       "│                ┆      ┆      ┆      ┆   ┆        ┆ ]]            ┆ ]]            ┆               │\n",
       "╞════════════════╪══════╪══════╪══════╪═══╪════════╪═══════════════╪═══════════════╪═══════════════╡\n",
       "│ sub-PDI4       ┆ null ┆ null ┆ null ┆ … ┆ run-7  ┆ [{\"LFP_1\",\"DB ┆ [{6.91,1.6520 ┆ <RawBrainVisi │\n",
       "│                ┆      ┆      ┆      ┆   ┆        ┆ S\",\"V\",0.0,15 ┆ 91,null,25,20 ┆ on |          │\n",
       "│                ┆      ┆      ┆      ┆   ┆        ┆ 0.0,…         ┆ 73},…         ┆ sub-PDI4_ses… │\n",
       "│ sub-PDI4       ┆ null ┆ null ┆ null ┆ … ┆ run-8  ┆ [{\"LFP_1\",\"DB ┆ [{9.426667,1. ┆ <RawBrainVisi │\n",
       "│                ┆      ┆      ┆      ┆   ┆        ┆ S\",\"V\",0.0,15 ┆ 755,null,25,2 ┆ on |          │\n",
       "│                ┆      ┆      ┆      ┆   ┆        ┆ 0.0,…         ┆ 828}…         ┆ sub-PDI4_ses… │\n",
       "│ sub-PDI4       ┆ null ┆ null ┆ null ┆ … ┆ run-2  ┆ [{\"LFP_1\",\"DB ┆ [{8.006667,1. ┆ <RawBrainVisi │\n",
       "│                ┆      ┆      ┆      ┆   ┆        ┆ S\",\"V\",0.0,15 ┆ 752273,null,2 ┆ on |          │\n",
       "│                ┆      ┆      ┆      ┆   ┆        ┆ 0.0,…         ┆ 5,24…         ┆ sub-PDI4_ses… │\n",
       "│ sub-PDI4       ┆ null ┆ null ┆ null ┆ … ┆ run-11 ┆ [{\"LFP_1\",\"DB ┆ [{25.2,3.1705 ┆ <RawBrainVisi │\n",
       "│                ┆      ┆      ┆      ┆   ┆        ┆ S\",\"V\",0.0,15 ┆ ,null,25,7560 ┆ on |          │\n",
       "│                ┆      ┆      ┆      ┆   ┆        ┆ 0.0,…         ┆ }, {…         ┆ sub-PDI4_ses… │\n",
       "│ sub-PDI4       ┆ null ┆ null ┆ null ┆ … ┆ run-6  ┆ [{\"LFP_1\",\"DB ┆ [{12.356667,3 ┆ <RawBrainVisi │\n",
       "│                ┆      ┆      ┆      ┆   ┆        ┆ S\",\"V\",0.0,15 ┆ .842682,null, ┆ on |          │\n",
       "│                ┆      ┆      ┆      ┆   ┆        ┆ 0.0,…         ┆ 25,3…         ┆ sub-PDI4_ses… │\n",
       "│ sub-PDI4       ┆ null ┆ null ┆ null ┆ … ┆ run-4  ┆ [{\"LFP_1\",\"DB ┆ [{6.033333,2. ┆ <RawBrainVisi │\n",
       "│                ┆      ┆      ┆      ┆   ┆        ┆ S\",\"V\",0.0,15 ┆ 190818,null,2 ┆ on |          │\n",
       "│                ┆      ┆      ┆      ┆   ┆        ┆ 0.0,…         ┆ 5,18…         ┆ sub-PDI4_ses… │\n",
       "│ sub-PDI4       ┆ null ┆ null ┆ null ┆ … ┆ run-12 ┆ [{\"LFP_1\",\"DB ┆ [{10.873333,2 ┆ <RawBrainVisi │\n",
       "│                ┆      ┆      ┆      ┆   ┆        ┆ S\",\"V\",0.0,15 ┆ .071727,null, ┆ on |          │\n",
       "│                ┆      ┆      ┆      ┆   ┆        ┆ 0.0,…         ┆ 25,3…         ┆ sub-PDI4_ses… │\n",
       "│ sub-PDI4       ┆ null ┆ null ┆ null ┆ … ┆ run-10 ┆ [{\"LFP_1\",\"DB ┆ [{10.396667,2 ┆ <RawBrainVisi │\n",
       "│                ┆      ┆      ┆      ┆   ┆        ┆ S\",\"V\",0.0,15 ┆ .184591,null, ┆ on |          │\n",
       "│                ┆      ┆      ┆      ┆   ┆        ┆ 0.0,…         ┆ 25,3…         ┆ sub-PDI4_ses… │\n",
       "│ sub-PDI4       ┆ null ┆ null ┆ null ┆ … ┆ run-3  ┆ [{\"LFP_1\",\"DB ┆ [{7.226667,4. ┆ <RawBrainVisi │\n",
       "│                ┆      ┆      ┆      ┆   ┆        ┆ S\",\"V\",0.0,15 ┆ 922045,null,2 ┆ on |          │\n",
       "│                ┆      ┆      ┆      ┆   ┆        ┆ 0.0,…         ┆ 5,21…         ┆ sub-PDI4_ses… │\n",
       "│ sub-PDI4       ┆ null ┆ null ┆ null ┆ … ┆ run-5  ┆ [{\"LFP_1\",\"DB ┆ [{8.11,4.1568 ┆ <RawBrainVisi │\n",
       "│                ┆      ┆      ┆      ┆   ┆        ┆ S\",\"V\",0.0,15 ┆ 18,null,25,24 ┆ on |          │\n",
       "│                ┆      ┆      ┆      ┆   ┆        ┆ 0.0,…         ┆ 33},…         ┆ sub-PDI4_ses… │\n",
       "└────────────────┴──────┴──────┴──────┴───┴────────┴───────────────┴───────────────┴───────────────┘"
      ]
     },
     "execution_count": 127,
     "metadata": {},
     "output_type": "execute_result"
    }
   ],
   "source": [
    "import mne\n",
    "\n",
    "def load_vhdr(row: dict):\n",
    "    file_path = os.path.join(row[\"ieeg_path\"], row[\"ieeg_file\"])\n",
    "    # read the BrainVision vhdr file (preload is set to False to avoid loading the full data into memory)\n",
    "    raw = mne.io.read_raw_brainvision(file_path, preload=False)\n",
    "    return raw\n",
    "\n",
    "vhdr_files_df = participants_ieeg.filter(\n",
    "    (pl.col(\"data_format\") == \"vhdr\") & (pl.col(\"type\") == \"ieeg\")\n",
    ").with_columns(\n",
    "    pl.struct([\"ieeg_path\", \"ieeg_file\"]).map_elements(\n",
    "        lambda s: load_vhdr(s),\n",
    "        return_dtype=pl.Object\n",
    "    ).alias(\"raw_vhdr\")\n",
    ")\n",
    "\n",
    "vhdr_files_df"
   ]
  },
  {
   "cell_type": "code",
   "execution_count": 126,
   "id": "723d837e",
   "metadata": {},
   "outputs": [
    {
     "data": {
      "text/html": [
       "<div><style>\n",
       ".dataframe > thead > tr,\n",
       ".dataframe > tbody > tr {\n",
       "  text-align: right;\n",
       "  white-space: pre-wrap;\n",
       "}\n",
       "</style>\n",
       "<small>shape: (30, 14)</small><table border=\"1\" class=\"dataframe\"><thead><tr><th>participant_id</th><th>age</th><th>sex</th><th>hand</th><th>weight</th><th>height</th><th>session</th><th>ieeg_path</th><th>ieeg_file</th><th>type</th><th>data_format</th><th>run</th><th>channels_info</th><th>events</th></tr><tr><td>str</td><td>str</td><td>str</td><td>str</td><td>str</td><td>str</td><td>str</td><td>str</td><td>str</td><td>str</td><td>str</td><td>str</td><td>list[struct[6]]</td><td>list[struct[5]]</td></tr></thead><tbody><tr><td>&quot;sub-PDI4&quot;</td><td>null</td><td>null</td><td>null</td><td>null</td><td>null</td><td>&quot;ses-3&quot;</td><td>&quot;/home/bobby/repos/latent-neura…</td><td>&quot;sub-PDI4_ses-3_task-copydraw_r…</td><td>&quot;ieeg&quot;</td><td>&quot;eeg&quot;</td><td>&quot;run-7&quot;</td><td>[{&quot;LFP_1&quot;,&quot;DBS&quot;,&quot;V&quot;,0.0,150.0,300.0}, {&quot;LFP_2&quot;,&quot;DBS&quot;,&quot;V&quot;,0.0,150.0,300.0}, … {&quot;EOG_4&quot;,&quot;EOG&quot;,&quot;V&quot;,0.0,150.0,300.0}]</td><td>[{6.91,1.652091,null,25,2073}, {8.563333,9.126364,null,1,2569}, … {200.97,17.894227,null,15,60291}]</td></tr><tr><td>&quot;sub-PDI4&quot;</td><td>null</td><td>null</td><td>null</td><td>null</td><td>null</td><td>&quot;ses-3&quot;</td><td>&quot;/home/bobby/repos/latent-neura…</td><td>&quot;sub-PDI4_ses-3_task-copydraw_r…</td><td>&quot;ieeg&quot;</td><td>&quot;vhdr&quot;</td><td>&quot;run-7&quot;</td><td>[{&quot;LFP_1&quot;,&quot;DBS&quot;,&quot;V&quot;,0.0,150.0,300.0}, {&quot;LFP_2&quot;,&quot;DBS&quot;,&quot;V&quot;,0.0,150.0,300.0}, … {&quot;EOG_4&quot;,&quot;EOG&quot;,&quot;V&quot;,0.0,150.0,300.0}]</td><td>[{6.91,1.652091,null,25,2073}, {8.563333,9.126364,null,1,2569}, … {200.97,17.894227,null,15,60291}]</td></tr><tr><td>&quot;sub-PDI4&quot;</td><td>null</td><td>null</td><td>null</td><td>null</td><td>null</td><td>&quot;ses-3&quot;</td><td>&quot;/home/bobby/repos/latent-neura…</td><td>&quot;sub-PDI4_ses-3_task-copydraw_r…</td><td>&quot;ieeg&quot;</td><td>&quot;eeg&quot;</td><td>&quot;run-11&quot;</td><td>[{&quot;LFP_1&quot;,&quot;DBS&quot;,&quot;V&quot;,0.0,150.0,300.0}, {&quot;LFP_2&quot;,&quot;DBS&quot;,&quot;V&quot;,0.0,150.0,300.0}, … {&quot;EOG_4&quot;,&quot;EOG&quot;,&quot;V&quot;,0.0,150.0,300.0}]</td><td>[{25.2,3.1705,null,25,7560}, {28.37,9.000364,null,1,8511}, … {222.836667,18.552,null,15,66851}]</td></tr><tr><td>&quot;sub-PDI4&quot;</td><td>null</td><td>null</td><td>null</td><td>null</td><td>null</td><td>&quot;ses-3&quot;</td><td>&quot;/home/bobby/repos/latent-neura…</td><td>&quot;sub-PDI4_ses-3_task-copydraw_r…</td><td>&quot;ieeg&quot;</td><td>&quot;eeg&quot;</td><td>&quot;run-3&quot;</td><td>[{&quot;LFP_1&quot;,&quot;DBS&quot;,&quot;V&quot;,0.0,150.0,300.0}, {&quot;LFP_2&quot;,&quot;DBS&quot;,&quot;V&quot;,0.0,150.0,300.0}, … {&quot;EOG_4&quot;,&quot;EOG&quot;,&quot;V&quot;,0.0,150.0,300.0}]</td><td>[{7.226667,4.922045,null,25,2168}, {12.15,9.118227,null,1,3645}, … {193.126667,56.071045,null,15,57938}]</td></tr><tr><td>&quot;sub-PDI4&quot;</td><td>null</td><td>null</td><td>null</td><td>null</td><td>null</td><td>&quot;ses-3&quot;</td><td>&quot;/home/bobby/repos/latent-neura…</td><td>&quot;sub-PDI4_ses-3_task-copydraw_r…</td><td>&quot;ieeg&quot;</td><td>&quot;vhdr&quot;</td><td>&quot;run-8&quot;</td><td>[{&quot;LFP_1&quot;,&quot;DBS&quot;,&quot;V&quot;,0.0,150.0,300.0}, {&quot;LFP_2&quot;,&quot;DBS&quot;,&quot;V&quot;,0.0,150.0,300.0}, … {&quot;EOG_4&quot;,&quot;EOG&quot;,&quot;V&quot;,0.0,150.0,300.0}]</td><td>[{9.426667,1.755,null,25,2828}, {11.183333,9.032591,null,1,3355}, … {207.833333,23.003455,null,15,62350}]</td></tr><tr><td>&hellip;</td><td>&hellip;</td><td>&hellip;</td><td>&hellip;</td><td>&hellip;</td><td>&hellip;</td><td>&hellip;</td><td>&hellip;</td><td>&hellip;</td><td>&hellip;</td><td>&hellip;</td><td>&hellip;</td><td>&hellip;</td><td>&hellip;</td></tr><tr><td>&quot;sub-PDI4&quot;</td><td>null</td><td>null</td><td>null</td><td>null</td><td>null</td><td>&quot;ses-3&quot;</td><td>&quot;/home/bobby/repos/latent-neura…</td><td>&quot;sub-PDI4_ses-3_task-copydraw_r…</td><td>&quot;ieeg&quot;</td><td>&quot;eeg&quot;</td><td>&quot;run-5&quot;</td><td>[{&quot;LFP_1&quot;,&quot;DBS&quot;,&quot;V&quot;,0.0,150.0,300.0}, {&quot;LFP_2&quot;,&quot;DBS&quot;,&quot;V&quot;,0.0,150.0,300.0}, … {&quot;EOG_4&quot;,&quot;EOG&quot;,&quot;V&quot;,0.0,150.0,300.0}]</td><td>[{8.11,4.156818,null,25,2433}, {12.266667,9.090409,null,1,3680}, … {199.966667,24.289955,null,15,59990}]</td></tr><tr><td>&quot;sub-PDI4&quot;</td><td>null</td><td>null</td><td>null</td><td>null</td><td>null</td><td>&quot;ses-3&quot;</td><td>&quot;/home/bobby/repos/latent-neura…</td><td>&quot;sub-PDI4_ses-3_task-copydraw_r…</td><td>&quot;ieeg&quot;</td><td>&quot;eeg&quot;</td><td>&quot;run-8&quot;</td><td>[{&quot;LFP_1&quot;,&quot;DBS&quot;,&quot;V&quot;,0.0,150.0,300.0}, {&quot;LFP_2&quot;,&quot;DBS&quot;,&quot;V&quot;,0.0,150.0,300.0}, … {&quot;EOG_4&quot;,&quot;EOG&quot;,&quot;V&quot;,0.0,150.0,300.0}]</td><td>[{9.426667,1.755,null,25,2828}, {11.183333,9.032591,null,1,3355}, … {207.833333,23.003455,null,15,62350}]</td></tr><tr><td>&quot;sub-PDI4&quot;</td><td>null</td><td>null</td><td>null</td><td>null</td><td>null</td><td>&quot;ses-3&quot;</td><td>&quot;/home/bobby/repos/latent-neura…</td><td>&quot;sub-PDI4_ses-3_task-copydraw_r…</td><td>&quot;ieeg&quot;</td><td>&quot;eeg&quot;</td><td>&quot;run-6&quot;</td><td>[{&quot;LFP_1&quot;,&quot;DBS&quot;,&quot;V&quot;,0.0,150.0,300.0}, {&quot;LFP_2&quot;,&quot;DBS&quot;,&quot;V&quot;,0.0,150.0,300.0}, … {&quot;EOG_4&quot;,&quot;EOG&quot;,&quot;V&quot;,0.0,150.0,300.0}]</td><td>[{12.356667,3.842682,null,25,3707}, {16.2,9.009409,null,1,4860}, … {203.396667,30.345227,null,15,61019}]</td></tr><tr><td>&quot;sub-PDI4&quot;</td><td>null</td><td>null</td><td>null</td><td>null</td><td>null</td><td>&quot;ses-3&quot;</td><td>&quot;/home/bobby/repos/latent-neura…</td><td>&quot;sub-PDI4_ses-3_task-copydraw_r…</td><td>&quot;ieeg&quot;</td><td>&quot;vhdr&quot;</td><td>&quot;run-5&quot;</td><td>[{&quot;LFP_1&quot;,&quot;DBS&quot;,&quot;V&quot;,0.0,150.0,300.0}, {&quot;LFP_2&quot;,&quot;DBS&quot;,&quot;V&quot;,0.0,150.0,300.0}, … {&quot;EOG_4&quot;,&quot;EOG&quot;,&quot;V&quot;,0.0,150.0,300.0}]</td><td>[{8.11,4.156818,null,25,2433}, {12.266667,9.090409,null,1,3680}, … {199.966667,24.289955,null,15,59990}]</td></tr><tr><td>&quot;sub-PDI4&quot;</td><td>null</td><td>null</td><td>null</td><td>null</td><td>null</td><td>&quot;ses-3&quot;</td><td>&quot;/home/bobby/repos/latent-neura…</td><td>&quot;sub-PDI4_ses-3_task-copydraw_r…</td><td>&quot;ieeg&quot;</td><td>&quot;vmrk&quot;</td><td>&quot;run-10&quot;</td><td>[{&quot;LFP_1&quot;,&quot;DBS&quot;,&quot;V&quot;,0.0,150.0,300.0}, {&quot;LFP_2&quot;,&quot;DBS&quot;,&quot;V&quot;,0.0,150.0,300.0}, … {&quot;EOG_4&quot;,&quot;EOG&quot;,&quot;V&quot;,0.0,150.0,300.0}]</td><td>[{10.396667,2.184591,null,25,3119}, {12.58,8.995864,null,1,3774}, … {204.013333,244.918636,null,15,61204}]</td></tr></tbody></table></div>"
      ],
      "text/plain": [
       "shape: (30, 14)\n",
       "┌────────────────┬──────┬──────┬──────┬───┬─────────────┬────────┬────────────────┬────────────────┐\n",
       "│ participant_id ┆ age  ┆ sex  ┆ hand ┆ … ┆ data_format ┆ run    ┆ channels_info  ┆ events         │\n",
       "│ ---            ┆ ---  ┆ ---  ┆ ---  ┆   ┆ ---         ┆ ---    ┆ ---            ┆ ---            │\n",
       "│ str            ┆ str  ┆ str  ┆ str  ┆   ┆ str         ┆ str    ┆ list[struct[6] ┆ list[struct[5] │\n",
       "│                ┆      ┆      ┆      ┆   ┆             ┆        ┆ ]              ┆ ]              │\n",
       "╞════════════════╪══════╪══════╪══════╪═══╪═════════════╪════════╪════════════════╪════════════════╡\n",
       "│ sub-PDI4       ┆ null ┆ null ┆ null ┆ … ┆ eeg         ┆ run-7  ┆ [{\"LFP_1\",\"DBS ┆ [{6.91,1.65209 │\n",
       "│                ┆      ┆      ┆      ┆   ┆             ┆        ┆ \",\"V\",0.0,150. ┆ 1,null,25,2073 │\n",
       "│                ┆      ┆      ┆      ┆   ┆             ┆        ┆ 0,…            ┆ },…            │\n",
       "│ sub-PDI4       ┆ null ┆ null ┆ null ┆ … ┆ vhdr        ┆ run-7  ┆ [{\"LFP_1\",\"DBS ┆ [{6.91,1.65209 │\n",
       "│                ┆      ┆      ┆      ┆   ┆             ┆        ┆ \",\"V\",0.0,150. ┆ 1,null,25,2073 │\n",
       "│                ┆      ┆      ┆      ┆   ┆             ┆        ┆ 0,…            ┆ },…            │\n",
       "│ sub-PDI4       ┆ null ┆ null ┆ null ┆ … ┆ eeg         ┆ run-11 ┆ [{\"LFP_1\",\"DBS ┆ [{25.2,3.1705, │\n",
       "│                ┆      ┆      ┆      ┆   ┆             ┆        ┆ \",\"V\",0.0,150. ┆ null,25,7560}, │\n",
       "│                ┆      ┆      ┆      ┆   ┆             ┆        ┆ 0,…            ┆ {…             │\n",
       "│ sub-PDI4       ┆ null ┆ null ┆ null ┆ … ┆ eeg         ┆ run-3  ┆ [{\"LFP_1\",\"DBS ┆ [{7.226667,4.9 │\n",
       "│                ┆      ┆      ┆      ┆   ┆             ┆        ┆ \",\"V\",0.0,150. ┆ 22045,null,25, │\n",
       "│                ┆      ┆      ┆      ┆   ┆             ┆        ┆ 0,…            ┆ 21…            │\n",
       "│ sub-PDI4       ┆ null ┆ null ┆ null ┆ … ┆ vhdr        ┆ run-8  ┆ [{\"LFP_1\",\"DBS ┆ [{9.426667,1.7 │\n",
       "│                ┆      ┆      ┆      ┆   ┆             ┆        ┆ \",\"V\",0.0,150. ┆ 55,null,25,282 │\n",
       "│                ┆      ┆      ┆      ┆   ┆             ┆        ┆ 0,…            ┆ 8}…            │\n",
       "│ …              ┆ …    ┆ …    ┆ …    ┆ … ┆ …           ┆ …      ┆ …              ┆ …              │\n",
       "│ sub-PDI4       ┆ null ┆ null ┆ null ┆ … ┆ eeg         ┆ run-5  ┆ [{\"LFP_1\",\"DBS ┆ [{8.11,4.15681 │\n",
       "│                ┆      ┆      ┆      ┆   ┆             ┆        ┆ \",\"V\",0.0,150. ┆ 8,null,25,2433 │\n",
       "│                ┆      ┆      ┆      ┆   ┆             ┆        ┆ 0,…            ┆ },…            │\n",
       "│ sub-PDI4       ┆ null ┆ null ┆ null ┆ … ┆ eeg         ┆ run-8  ┆ [{\"LFP_1\",\"DBS ┆ [{9.426667,1.7 │\n",
       "│                ┆      ┆      ┆      ┆   ┆             ┆        ┆ \",\"V\",0.0,150. ┆ 55,null,25,282 │\n",
       "│                ┆      ┆      ┆      ┆   ┆             ┆        ┆ 0,…            ┆ 8}…            │\n",
       "│ sub-PDI4       ┆ null ┆ null ┆ null ┆ … ┆ eeg         ┆ run-6  ┆ [{\"LFP_1\",\"DBS ┆ [{12.356667,3. │\n",
       "│                ┆      ┆      ┆      ┆   ┆             ┆        ┆ \",\"V\",0.0,150. ┆ 842682,null,25 │\n",
       "│                ┆      ┆      ┆      ┆   ┆             ┆        ┆ 0,…            ┆ ,3…            │\n",
       "│ sub-PDI4       ┆ null ┆ null ┆ null ┆ … ┆ vhdr        ┆ run-5  ┆ [{\"LFP_1\",\"DBS ┆ [{8.11,4.15681 │\n",
       "│                ┆      ┆      ┆      ┆   ┆             ┆        ┆ \",\"V\",0.0,150. ┆ 8,null,25,2433 │\n",
       "│                ┆      ┆      ┆      ┆   ┆             ┆        ┆ 0,…            ┆ },…            │\n",
       "│ sub-PDI4       ┆ null ┆ null ┆ null ┆ … ┆ vmrk        ┆ run-10 ┆ [{\"LFP_1\",\"DBS ┆ [{10.396667,2. │\n",
       "│                ┆      ┆      ┆      ┆   ┆             ┆        ┆ \",\"V\",0.0,150. ┆ 184591,null,25 │\n",
       "│                ┆      ┆      ┆      ┆   ┆             ┆        ┆ 0,…            ┆ ,3…            │\n",
       "└────────────────┴──────┴──────┴──────┴───┴─────────────┴────────┴────────────────┴────────────────┘"
      ]
     },
     "execution_count": 126,
     "metadata": {},
     "output_type": "execute_result"
    }
   ],
   "source": [
    "participants_ieeg"
   ]
  },
  {
   "cell_type": "code",
   "execution_count": null,
   "id": "580a60d3",
   "metadata": {},
   "outputs": [],
   "source": [
    "participants_motion = participants.with_columns(\n",
    "    pl.concat_str([\n",
    "        pl.lit(DATA_PATH),\n",
    "        pl.col(\"participant_id\"),\n",
    "        pl.col(\"session\"),\n",
    "        pl.lit(\"motion\")\n",
    "    ], separator=\"/\").alias(\"motion_path\"),\n",
    ")"
   ]
  },
  {
   "cell_type": "code",
   "execution_count": 54,
   "id": "a7e55ae5",
   "metadata": {},
   "outputs": [],
   "source": [
    "participants_motion = participants_motion.with_columns(pl.col(\"motion_path\").map_elements(lambda motion_path: list_files(motion_path, root_=True), return_dtype=pl.List(pl.String)).alias(\"motion_file\")).explode(pl.col(\"motion_file\"))"
   ]
  },
  {
   "cell_type": "code",
   "execution_count": 55,
   "id": "d745e1e2",
   "metadata": {},
   "outputs": [
    {
     "data": {
      "text/html": [
       "<div><style>\n",
       ".dataframe > thead > tr,\n",
       ".dataframe > tbody > tr {\n",
       "  text-align: right;\n",
       "  white-space: pre-wrap;\n",
       "}\n",
       "</style>\n",
       "<small>shape: (444, 9)</small><table border=\"1\" class=\"dataframe\"><thead><tr><th>participant_id</th><th>age</th><th>sex</th><th>hand</th><th>weight</th><th>height</th><th>session</th><th>motion_path</th><th>motion_file</th></tr><tr><td>str</td><td>str</td><td>str</td><td>str</td><td>str</td><td>str</td><td>str</td><td>str</td><td>str</td></tr></thead><tbody><tr><td>&quot;sub-PDI4&quot;</td><td>null</td><td>null</td><td>null</td><td>null</td><td>null</td><td>&quot;ses-3&quot;</td><td>&quot;/home/bobby/repos/latent-neura…</td><td>&quot;sub-PDI4_ses-3_task-copydraw_r…</td></tr><tr><td>&quot;sub-PDI4&quot;</td><td>null</td><td>null</td><td>null</td><td>null</td><td>null</td><td>&quot;ses-3&quot;</td><td>&quot;/home/bobby/repos/latent-neura…</td><td>&quot;sub-PDI4_ses-3_task-copydraw_r…</td></tr><tr><td>&quot;sub-PDI4&quot;</td><td>null</td><td>null</td><td>null</td><td>null</td><td>null</td><td>&quot;ses-3&quot;</td><td>&quot;/home/bobby/repos/latent-neura…</td><td>&quot;sub-PDI4_ses-3_task-copydraw_r…</td></tr><tr><td>&quot;sub-PDI4&quot;</td><td>null</td><td>null</td><td>null</td><td>null</td><td>null</td><td>&quot;ses-3&quot;</td><td>&quot;/home/bobby/repos/latent-neura…</td><td>&quot;sub-PDI4_ses-3_task-copydraw_r…</td></tr><tr><td>&quot;sub-PDI4&quot;</td><td>null</td><td>null</td><td>null</td><td>null</td><td>null</td><td>&quot;ses-3&quot;</td><td>&quot;/home/bobby/repos/latent-neura…</td><td>&quot;sub-PDI4_ses-3_task-copydraw_r…</td></tr><tr><td>&hellip;</td><td>&hellip;</td><td>&hellip;</td><td>&hellip;</td><td>&hellip;</td><td>&hellip;</td><td>&hellip;</td><td>&hellip;</td><td>&hellip;</td></tr><tr><td>&quot;sub-PDI4&quot;</td><td>null</td><td>null</td><td>null</td><td>null</td><td>null</td><td>&quot;ses-3&quot;</td><td>&quot;/home/bobby/repos/latent-neura…</td><td>&quot;sub-PDI4_ses-3_task-copydraw_r…</td></tr><tr><td>&quot;sub-PDI4&quot;</td><td>null</td><td>null</td><td>null</td><td>null</td><td>null</td><td>&quot;ses-3&quot;</td><td>&quot;/home/bobby/repos/latent-neura…</td><td>&quot;sub-PDI4_ses-3_task-copydraw_r…</td></tr><tr><td>&quot;sub-PDI4&quot;</td><td>null</td><td>null</td><td>null</td><td>null</td><td>null</td><td>&quot;ses-3&quot;</td><td>&quot;/home/bobby/repos/latent-neura…</td><td>&quot;sub-PDI4_ses-3_task-copydraw_r…</td></tr><tr><td>&quot;sub-PDI4&quot;</td><td>null</td><td>null</td><td>null</td><td>null</td><td>null</td><td>&quot;ses-3&quot;</td><td>&quot;/home/bobby/repos/latent-neura…</td><td>&quot;sub-PDI4_ses-3_task-copydraw_r…</td></tr><tr><td>&quot;sub-PDI4&quot;</td><td>null</td><td>null</td><td>null</td><td>null</td><td>null</td><td>&quot;ses-3&quot;</td><td>&quot;/home/bobby/repos/latent-neura…</td><td>&quot;sub-PDI4_ses-3_task-copydraw_r…</td></tr></tbody></table></div>"
      ],
      "text/plain": [
       "shape: (444, 9)\n",
       "┌────────────────┬──────┬──────┬──────┬───┬────────┬─────────┬──────────────────┬──────────────────┐\n",
       "│ participant_id ┆ age  ┆ sex  ┆ hand ┆ … ┆ height ┆ session ┆ motion_path      ┆ motion_file      │\n",
       "│ ---            ┆ ---  ┆ ---  ┆ ---  ┆   ┆ ---    ┆ ---     ┆ ---              ┆ ---              │\n",
       "│ str            ┆ str  ┆ str  ┆ str  ┆   ┆ str    ┆ str     ┆ str              ┆ str              │\n",
       "╞════════════════╪══════╪══════╪══════╪═══╪════════╪═════════╪══════════════════╪══════════════════╡\n",
       "│ sub-PDI4       ┆ null ┆ null ┆ null ┆ … ┆ null   ┆ ses-3   ┆ /home/bobby/repo ┆ sub-PDI4_ses-3_t │\n",
       "│                ┆      ┆      ┆      ┆   ┆        ┆         ┆ s/latent-neura…  ┆ ask-copydraw_r…  │\n",
       "│ sub-PDI4       ┆ null ┆ null ┆ null ┆ … ┆ null   ┆ ses-3   ┆ /home/bobby/repo ┆ sub-PDI4_ses-3_t │\n",
       "│                ┆      ┆      ┆      ┆   ┆        ┆         ┆ s/latent-neura…  ┆ ask-copydraw_r…  │\n",
       "│ sub-PDI4       ┆ null ┆ null ┆ null ┆ … ┆ null   ┆ ses-3   ┆ /home/bobby/repo ┆ sub-PDI4_ses-3_t │\n",
       "│                ┆      ┆      ┆      ┆   ┆        ┆         ┆ s/latent-neura…  ┆ ask-copydraw_r…  │\n",
       "│ sub-PDI4       ┆ null ┆ null ┆ null ┆ … ┆ null   ┆ ses-3   ┆ /home/bobby/repo ┆ sub-PDI4_ses-3_t │\n",
       "│                ┆      ┆      ┆      ┆   ┆        ┆         ┆ s/latent-neura…  ┆ ask-copydraw_r…  │\n",
       "│ sub-PDI4       ┆ null ┆ null ┆ null ┆ … ┆ null   ┆ ses-3   ┆ /home/bobby/repo ┆ sub-PDI4_ses-3_t │\n",
       "│                ┆      ┆      ┆      ┆   ┆        ┆         ┆ s/latent-neura…  ┆ ask-copydraw_r…  │\n",
       "│ …              ┆ …    ┆ …    ┆ …    ┆ … ┆ …      ┆ …       ┆ …                ┆ …                │\n",
       "│ sub-PDI4       ┆ null ┆ null ┆ null ┆ … ┆ null   ┆ ses-3   ┆ /home/bobby/repo ┆ sub-PDI4_ses-3_t │\n",
       "│                ┆      ┆      ┆      ┆   ┆        ┆         ┆ s/latent-neura…  ┆ ask-copydraw_r…  │\n",
       "│ sub-PDI4       ┆ null ┆ null ┆ null ┆ … ┆ null   ┆ ses-3   ┆ /home/bobby/repo ┆ sub-PDI4_ses-3_t │\n",
       "│                ┆      ┆      ┆      ┆   ┆        ┆         ┆ s/latent-neura…  ┆ ask-copydraw_r…  │\n",
       "│ sub-PDI4       ┆ null ┆ null ┆ null ┆ … ┆ null   ┆ ses-3   ┆ /home/bobby/repo ┆ sub-PDI4_ses-3_t │\n",
       "│                ┆      ┆      ┆      ┆   ┆        ┆         ┆ s/latent-neura…  ┆ ask-copydraw_r…  │\n",
       "│ sub-PDI4       ┆ null ┆ null ┆ null ┆ … ┆ null   ┆ ses-3   ┆ /home/bobby/repo ┆ sub-PDI4_ses-3_t │\n",
       "│                ┆      ┆      ┆      ┆   ┆        ┆         ┆ s/latent-neura…  ┆ ask-copydraw_r…  │\n",
       "│ sub-PDI4       ┆ null ┆ null ┆ null ┆ … ┆ null   ┆ ses-3   ┆ /home/bobby/repo ┆ sub-PDI4_ses-3_t │\n",
       "│                ┆      ┆      ┆      ┆   ┆        ┆         ┆ s/latent-neura…  ┆ ask-copydraw_r…  │\n",
       "└────────────────┴──────┴──────┴──────┴───┴────────┴─────────┴──────────────────┴──────────────────┘"
      ]
     },
     "execution_count": 55,
     "metadata": {},
     "output_type": "execute_result"
    }
   ],
   "source": [
    "participants_motion"
   ]
  },
  {
   "cell_type": "markdown",
   "id": "7568b981",
   "metadata": {},
   "source": []
  }
 ],
 "metadata": {
  "kernelspec": {
   "display_name": "neuro",
   "language": "python",
   "name": "python3"
  },
  "language_info": {
   "codemirror_mode": {
    "name": "ipython",
    "version": 3
   },
   "file_extension": ".py",
   "mimetype": "text/x-python",
   "name": "python",
   "nbconvert_exporter": "python",
   "pygments_lexer": "ipython3",
   "version": "3.11.13"
  }
 },
 "nbformat": 4,
 "nbformat_minor": 5
}
