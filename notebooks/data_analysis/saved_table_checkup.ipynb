{
 "cells": [
  {
   "cell_type": "code",
   "execution_count": 1,
   "id": "78303fab",
   "metadata": {},
   "outputs": [],
   "source": [
    "from pathlib import Path\n",
    "import polars as pl"
   ]
  },
  {
   "cell_type": "code",
   "execution_count": 2,
   "id": "c76c8bb0",
   "metadata": {},
   "outputs": [],
   "source": [
    "ROOT_DIR = Path(\"/home/bobby/repos/latent-neural-dynamics-modeling\")\n",
    "saved_dir = ROOT_DIR / \"data/resampled\""
   ]
  },
  {
   "cell_type": "code",
   "execution_count": 11,
   "id": "dfd25b55",
   "metadata": {},
   "outputs": [],
   "source": [
    "participants = pl.read_parquet(saved_dir / \"participants_intermediate.parquet\")"
   ]
  },
  {
   "cell_type": "code",
   "execution_count": 19,
   "id": "b26f783c",
   "metadata": {},
   "outputs": [
    {
     "data": {
      "text/html": [
       "<div><style>\n",
       ".dataframe > thead > tr,\n",
       ".dataframe > tbody > tr {\n",
       "  text-align: right;\n",
       "  white-space: pre-wrap;\n",
       "}\n",
       "</style>\n",
       "<small>shape: (8, 10)</small><table border=\"1\" class=\"dataframe\"><thead><tr><th>participant_id</th><th>participant_path</th><th>session_path</th><th>ieeg_path</th><th>ieeg_file</th><th>session</th><th>run</th><th>onsets</th><th>durations</th><th>ieeg_headers_file</th></tr><tr><td>str</td><td>str</td><td>str</td><td>str</td><td>str</td><td>u64</td><td>u64</td><td>list[f64]</td><td>list[f64]</td><td>str</td></tr></thead><tbody><tr><td>&quot;sub-PDI2&quot;</td><td>&quot;/Users/matthias.dold/workspace…</td><td>&quot;/Users/matthias.dold/workspace…</td><td>&quot;/Users/matthias.dold/workspace…</td><td>&quot;/Users/matthias.dold/workspace…</td><td>2</td><td>1</td><td>[11.898273, 28.406273, … 187.821045]</td><td>[0.0, 0.0, … 0.0]</td><td>&quot;/Users/matthias.dold/workspace…</td></tr><tr><td>&quot;sub-PDI1&quot;</td><td>&quot;/Users/matthias.dold/workspace…</td><td>&quot;/Users/matthias.dold/workspace…</td><td>&quot;/Users/matthias.dold/workspace…</td><td>&quot;/Users/matthias.dold/workspace…</td><td>2</td><td>1</td><td>[18.102864, 36.896455, … 213.614364]</td><td>[0.0, 0.0, … 0.0]</td><td>&quot;/Users/matthias.dold/workspace…</td></tr><tr><td>&quot;sub-PDI3&quot;</td><td>&quot;/Users/matthias.dold/workspace…</td><td>&quot;/Users/matthias.dold/workspace…</td><td>&quot;/Users/matthias.dold/workspace…</td><td>&quot;/Users/matthias.dold/workspace…</td><td>4</td><td>1</td><td>[62.370591, 84.879727, … 269.472682]</td><td>[0.0, 0.0, … 0.0]</td><td>&quot;/Users/matthias.dold/workspace…</td></tr><tr><td>&quot;sub-PDI2&quot;</td><td>&quot;/Users/matthias.dold/workspace…</td><td>&quot;/Users/matthias.dold/workspace…</td><td>&quot;/Users/matthias.dold/workspace…</td><td>&quot;/Users/matthias.dold/workspace…</td><td>4</td><td>1</td><td>[11.087409, 27.757045, … 201.780773]</td><td>[0.0, 0.0, … 0.0]</td><td>&quot;/Users/matthias.dold/workspace…</td></tr><tr><td>&quot;sub-PDI3&quot;</td><td>&quot;/Users/matthias.dold/workspace…</td><td>&quot;/Users/matthias.dold/workspace…</td><td>&quot;/Users/matthias.dold/workspace…</td><td>&quot;/Users/matthias.dold/workspace…</td><td>2</td><td>1</td><td>[24.419318, 43.171591, … 212.397273]</td><td>[0.0, 0.0, … 0.0]</td><td>&quot;/Users/matthias.dold/workspace…</td></tr><tr><td>&quot;sub-PDI4&quot;</td><td>&quot;/Users/matthias.dold/workspace…</td><td>&quot;/Users/matthias.dold/workspace…</td><td>&quot;/Users/matthias.dold/workspace…</td><td>&quot;/Users/matthias.dold/workspace…</td><td>2</td><td>10</td><td>[13.940909, 32.218273, … 274.905364]</td><td>[0.0, 0.0, … 0.0]</td><td>&quot;/Users/matthias.dold/workspace…</td></tr><tr><td>&quot;sub-PDI4&quot;</td><td>&quot;/Users/matthias.dold/workspace…</td><td>&quot;/Users/matthias.dold/workspace…</td><td>&quot;/Users/matthias.dold/workspace…</td><td>&quot;/Users/matthias.dold/workspace…</td><td>3</td><td>1</td><td>[23.048864, 41.951409, … 211.680636]</td><td>[0.0, 0.0, … 0.0]</td><td>&quot;/Users/matthias.dold/workspace…</td></tr><tr><td>&quot;sub-PDI1&quot;</td><td>&quot;/Users/matthias.dold/workspace…</td><td>&quot;/Users/matthias.dold/workspace…</td><td>&quot;/Users/matthias.dold/workspace…</td><td>&quot;/Users/matthias.dold/workspace…</td><td>4</td><td>1</td><td>[17.353227, 34.576955, … 216.299818]</td><td>[0.0, 0.0, … 0.0]</td><td>&quot;/Users/matthias.dold/workspace…</td></tr></tbody></table></div>"
      ],
      "text/plain": [
       "shape: (8, 10)\n",
       "┌────────────┬────────────┬────────────┬────────────┬───┬─────┬────────────┬───────────┬───────────┐\n",
       "│ participan ┆ participan ┆ session_pa ┆ ieeg_path  ┆ … ┆ run ┆ onsets     ┆ durations ┆ ieeg_head │\n",
       "│ t_id       ┆ t_path     ┆ th         ┆ ---        ┆   ┆ --- ┆ ---        ┆ ---       ┆ ers_file  │\n",
       "│ ---        ┆ ---        ┆ ---        ┆ str        ┆   ┆ u64 ┆ list[f64]  ┆ list[f64] ┆ ---       │\n",
       "│ str        ┆ str        ┆ str        ┆            ┆   ┆     ┆            ┆           ┆ str       │\n",
       "╞════════════╪════════════╪════════════╪════════════╪═══╪═════╪════════════╪═══════════╪═══════════╡\n",
       "│ sub-PDI2   ┆ /Users/mat ┆ /Users/mat ┆ /Users/mat ┆ … ┆ 1   ┆ [11.898273 ┆ [0.0,     ┆ /Users/ma │\n",
       "│            ┆ thias.dold ┆ thias.dold ┆ thias.dold ┆   ┆     ┆ ,          ┆ 0.0, …    ┆ tthias.do │\n",
       "│            ┆ /workspace ┆ /workspace ┆ /workspace ┆   ┆     ┆ 28.406273, ┆ 0.0]      ┆ ld/worksp │\n",
       "│            ┆ …          ┆ …          ┆ …          ┆   ┆     ┆ … 187.8…   ┆           ┆ ace…      │\n",
       "│ sub-PDI1   ┆ /Users/mat ┆ /Users/mat ┆ /Users/mat ┆ … ┆ 1   ┆ [18.102864 ┆ [0.0,     ┆ /Users/ma │\n",
       "│            ┆ thias.dold ┆ thias.dold ┆ thias.dold ┆   ┆     ┆ ,          ┆ 0.0, …    ┆ tthias.do │\n",
       "│            ┆ /workspace ┆ /workspace ┆ /workspace ┆   ┆     ┆ 36.896455, ┆ 0.0]      ┆ ld/worksp │\n",
       "│            ┆ …          ┆ …          ┆ …          ┆   ┆     ┆ … 213.6…   ┆           ┆ ace…      │\n",
       "│ sub-PDI3   ┆ /Users/mat ┆ /Users/mat ┆ /Users/mat ┆ … ┆ 1   ┆ [62.370591 ┆ [0.0,     ┆ /Users/ma │\n",
       "│            ┆ thias.dold ┆ thias.dold ┆ thias.dold ┆   ┆     ┆ ,          ┆ 0.0, …    ┆ tthias.do │\n",
       "│            ┆ /workspace ┆ /workspace ┆ /workspace ┆   ┆     ┆ 84.879727, ┆ 0.0]      ┆ ld/worksp │\n",
       "│            ┆ …          ┆ …          ┆ …          ┆   ┆     ┆ … 269.4…   ┆           ┆ ace…      │\n",
       "│ sub-PDI2   ┆ /Users/mat ┆ /Users/mat ┆ /Users/mat ┆ … ┆ 1   ┆ [11.087409 ┆ [0.0,     ┆ /Users/ma │\n",
       "│            ┆ thias.dold ┆ thias.dold ┆ thias.dold ┆   ┆     ┆ ,          ┆ 0.0, …    ┆ tthias.do │\n",
       "│            ┆ /workspace ┆ /workspace ┆ /workspace ┆   ┆     ┆ 27.757045, ┆ 0.0]      ┆ ld/worksp │\n",
       "│            ┆ …          ┆ …          ┆ …          ┆   ┆     ┆ … 201.7…   ┆           ┆ ace…      │\n",
       "│ sub-PDI3   ┆ /Users/mat ┆ /Users/mat ┆ /Users/mat ┆ … ┆ 1   ┆ [24.419318 ┆ [0.0,     ┆ /Users/ma │\n",
       "│            ┆ thias.dold ┆ thias.dold ┆ thias.dold ┆   ┆     ┆ ,          ┆ 0.0, …    ┆ tthias.do │\n",
       "│            ┆ /workspace ┆ /workspace ┆ /workspace ┆   ┆     ┆ 43.171591, ┆ 0.0]      ┆ ld/worksp │\n",
       "│            ┆ …          ┆ …          ┆ …          ┆   ┆     ┆ … 212.3…   ┆           ┆ ace…      │\n",
       "│ sub-PDI4   ┆ /Users/mat ┆ /Users/mat ┆ /Users/mat ┆ … ┆ 10  ┆ [13.940909 ┆ [0.0,     ┆ /Users/ma │\n",
       "│            ┆ thias.dold ┆ thias.dold ┆ thias.dold ┆   ┆     ┆ ,          ┆ 0.0, …    ┆ tthias.do │\n",
       "│            ┆ /workspace ┆ /workspace ┆ /workspace ┆   ┆     ┆ 32.218273, ┆ 0.0]      ┆ ld/worksp │\n",
       "│            ┆ …          ┆ …          ┆ …          ┆   ┆     ┆ … 274.9…   ┆           ┆ ace…      │\n",
       "│ sub-PDI4   ┆ /Users/mat ┆ /Users/mat ┆ /Users/mat ┆ … ┆ 1   ┆ [23.048864 ┆ [0.0,     ┆ /Users/ma │\n",
       "│            ┆ thias.dold ┆ thias.dold ┆ thias.dold ┆   ┆     ┆ ,          ┆ 0.0, …    ┆ tthias.do │\n",
       "│            ┆ /workspace ┆ /workspace ┆ /workspace ┆   ┆     ┆ 41.951409, ┆ 0.0]      ┆ ld/worksp │\n",
       "│            ┆ …          ┆ …          ┆ …          ┆   ┆     ┆ … 211.6…   ┆           ┆ ace…      │\n",
       "│ sub-PDI1   ┆ /Users/mat ┆ /Users/mat ┆ /Users/mat ┆ … ┆ 1   ┆ [17.353227 ┆ [0.0,     ┆ /Users/ma │\n",
       "│            ┆ thias.dold ┆ thias.dold ┆ thias.dold ┆   ┆     ┆ ,          ┆ 0.0, …    ┆ tthias.do │\n",
       "│            ┆ /workspace ┆ /workspace ┆ /workspace ┆   ┆     ┆ 34.576955, ┆ 0.0]      ┆ ld/worksp │\n",
       "│            ┆ …          ┆ …          ┆ …          ┆   ┆     ┆ … 216.2…   ┆           ┆ ace…      │\n",
       "└────────────┴────────────┴────────────┴────────────┴───┴─────┴────────────┴───────────┴───────────┘"
      ]
     },
     "execution_count": 19,
     "metadata": {},
     "output_type": "execute_result"
    }
   ],
   "source": [
    "participants.unique([\"participant_id\", \"session_path\"])"
   ]
  },
  {
   "cell_type": "code",
   "execution_count": 20,
   "id": "e4cf910e",
   "metadata": {},
   "outputs": [
    {
     "data": {
      "text/plain": [
       "'/Users/matthias.dold/workspace/teaching/students/Giedrius/latent-neural-dynamics-modeling/data/sub-PDI1/ses-2'"
      ]
     },
     "execution_count": 20,
     "metadata": {},
     "output_type": "execute_result"
    }
   ],
   "source": [
    "participants[\"session_path\"][0]"
   ]
  }
 ],
 "metadata": {
  "kernelspec": {
   "display_name": "neuro",
   "language": "python",
   "name": "python3"
  },
  "language_info": {
   "codemirror_mode": {
    "name": "ipython",
    "version": 3
   },
   "file_extension": ".py",
   "mimetype": "text/x-python",
   "name": "python",
   "nbconvert_exporter": "python",
   "pygments_lexer": "ipython3",
   "version": "3.11.13"
  }
 },
 "nbformat": 4,
 "nbformat_minor": 5
}
