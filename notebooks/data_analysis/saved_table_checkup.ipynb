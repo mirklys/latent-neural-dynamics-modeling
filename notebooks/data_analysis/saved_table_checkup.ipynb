{
 "cells": [
  {
   "cell_type": "code",
   "execution_count": 7,
   "id": "78303fab",
   "metadata": {},
   "outputs": [],
   "source": [
    "from pathlib import Path\n",
    "import polars as pl"
   ]
  },
  {
   "cell_type": "code",
   "execution_count": 8,
   "id": "c76c8bb0",
   "metadata": {},
   "outputs": [],
   "source": [
    "ROOT_DIR = Path(\"/home/bobby/repos/latent-neural-dynamics-modeling\")\n",
    "saved_dir = ROOT_DIR / \"data/resampled\""
   ]
  },
  {
   "cell_type": "code",
   "execution_count": 12,
   "id": "dfd25b55",
   "metadata": {},
   "outputs": [],
   "source": [
    "participants = pl.read_parquet(\n",
    "    \"/home/bobby/repos/latent-neural-dynamics-modeling/data/resampled/sub-PDI4_ses-3_task-copydraw_run-5_ieeg.parquet\"\n",
    ")"
   ]
  },
  {
   "cell_type": "code",
   "execution_count": null,
   "id": "b26f783c",
   "metadata": {},
   "outputs": [
    {
     "ename": "TypeError",
     "evalue": "invalid input for `col`\n\nExpected `str` or `DataType`, got 'Expr'.",
     "output_type": "error",
     "traceback": [
      "\u001b[31m---------------------------------------------------------------------------\u001b[39m",
      "\u001b[31mTypeError\u001b[39m                                 Traceback (most recent call last)",
      "\u001b[36mCell\u001b[39m\u001b[36m \u001b[39m\u001b[32mIn[14]\u001b[39m\u001b[32m, line 1\u001b[39m\n\u001b[32m----> \u001b[39m\u001b[32m1\u001b[39m participants.select(\u001b[43mpl\u001b[49m\u001b[43m.\u001b[49m\u001b[43mimplode\u001b[49m\u001b[43m(\u001b[49m\u001b[43mpl\u001b[49m\u001b[43m.\u001b[49m\u001b[43mall\u001b[49m\u001b[43m(\u001b[49m\u001b[43m)\u001b[49m\u001b[43m)\u001b[49m)\n",
      "\u001b[36mFile \u001b[39m\u001b[32m~/miniconda3/envs/neuro/lib/python3.11/site-packages/polars/functions/lazy.py:292\u001b[39m, in \u001b[36mimplode\u001b[39m\u001b[34m(*columns)\u001b[39m\n\u001b[32m    252\u001b[39m \u001b[38;5;28;01mdef\u001b[39;00m\u001b[38;5;250m \u001b[39m\u001b[34mimplode\u001b[39m(*columns: \u001b[38;5;28mstr\u001b[39m) -> Expr:\n\u001b[32m    253\u001b[39m \u001b[38;5;250m    \u001b[39m\u001b[33;03m\"\"\"\u001b[39;00m\n\u001b[32m    254\u001b[39m \u001b[33;03m    Aggregate all column values into a list.\u001b[39;00m\n\u001b[32m    255\u001b[39m \n\u001b[32m   (...)\u001b[39m\u001b[32m    290\u001b[39m \n\u001b[32m    291\u001b[39m \u001b[33;03m    \"\"\"\u001b[39;00m\n\u001b[32m--> \u001b[39m\u001b[32m292\u001b[39m     \u001b[38;5;28;01mreturn\u001b[39;00m \u001b[43mF\u001b[49m\u001b[43m.\u001b[49m\u001b[43mcol\u001b[49m\u001b[43m(\u001b[49m\u001b[43m*\u001b[49m\u001b[43mcolumns\u001b[49m\u001b[43m)\u001b[49m.implode()\n",
      "\u001b[36mFile \u001b[39m\u001b[32m~/miniconda3/envs/neuro/lib/python3.11/site-packages/polars/functions/col.py:335\u001b[39m, in \u001b[36mCol.__call__\u001b[39m\u001b[34m(self, name, *more_names)\u001b[39m\n\u001b[32m    182\u001b[39m \u001b[38;5;28;01mdef\u001b[39;00m\u001b[38;5;250m \u001b[39m\u001b[34m__call__\u001b[39m(\n\u001b[32m    183\u001b[39m     \u001b[38;5;28mself\u001b[39m,\n\u001b[32m    184\u001b[39m     name: (\n\u001b[32m   (...)\u001b[39m\u001b[32m    191\u001b[39m     *more_names: \u001b[38;5;28mstr\u001b[39m | PolarsDataType | PythonDataType,\n\u001b[32m    192\u001b[39m ) -> Expr:\n\u001b[32m    193\u001b[39m \u001b[38;5;250m    \u001b[39m\u001b[33;03m\"\"\"\u001b[39;00m\n\u001b[32m    194\u001b[39m \u001b[33;03m    Create one or more expressions representing columns in a DataFrame.\u001b[39;00m\n\u001b[32m    195\u001b[39m \n\u001b[32m   (...)\u001b[39m\u001b[32m    333\u001b[39m \u001b[33;03m    └─────┴───────────┴─────┘\u001b[39;00m\n\u001b[32m    334\u001b[39m \u001b[33;03m    \"\"\"\u001b[39;00m\n\u001b[32m--> \u001b[39m\u001b[32m335\u001b[39m     \u001b[38;5;28;01mreturn\u001b[39;00m \u001b[43m_create_col\u001b[49m\u001b[43m(\u001b[49m\u001b[43mname\u001b[49m\u001b[43m,\u001b[49m\u001b[43m \u001b[49m\u001b[43m*\u001b[49m\u001b[43mmore_names\u001b[49m\u001b[43m)\u001b[49m\n",
      "\u001b[36mFile \u001b[39m\u001b[32m~/miniconda3/envs/neuro/lib/python3.11/site-packages/polars/functions/col.py:103\u001b[39m, in \u001b[36m_create_col\u001b[39m\u001b[34m(name, *more_names)\u001b[39m\n\u001b[32m     98\u001b[39m \u001b[38;5;28;01melse\u001b[39;00m:\n\u001b[32m     99\u001b[39m     msg = (\n\u001b[32m    100\u001b[39m         \u001b[33m\"\u001b[39m\u001b[33minvalid input for `col`\u001b[39m\u001b[33m\"\u001b[39m\n\u001b[32m    101\u001b[39m         \u001b[33mf\u001b[39m\u001b[33m\"\u001b[39m\u001b[38;5;130;01m\\n\u001b[39;00m\u001b[38;5;130;01m\\n\u001b[39;00m\u001b[33mExpected `str` or `DataType`, got \u001b[39m\u001b[38;5;132;01m{\u001b[39;00m\u001b[38;5;28mtype\u001b[39m(name).\u001b[34m__name__\u001b[39m\u001b[38;5;132;01m!r}\u001b[39;00m\u001b[33m.\u001b[39m\u001b[33m\"\u001b[39m\n\u001b[32m    102\u001b[39m     )\n\u001b[32m--> \u001b[39m\u001b[32m103\u001b[39m     \u001b[38;5;28;01mraise\u001b[39;00m \u001b[38;5;167;01mTypeError\u001b[39;00m(msg)\n",
      "\u001b[31mTypeError\u001b[39m: invalid input for `col`\n\nExpected `str` or `DataType`, got 'Expr'."
     ]
    }
   ],
   "source": [
    "participants.select(pl.implode(pl.all()))"
   ]
  },
  {
   "cell_type": "code",
   "execution_count": 20,
   "id": "e4cf910e",
   "metadata": {},
   "outputs": [
    {
     "data": {
      "text/plain": [
       "'/Users/matthias.dold/workspace/teaching/students/Giedrius/latent-neural-dynamics-modeling/data/sub-PDI1/ses-2'"
      ]
     },
     "execution_count": 20,
     "metadata": {},
     "output_type": "execute_result"
    }
   ],
   "source": [
    "participants[\"session_path\"][0]"
   ]
  }
 ],
 "metadata": {
  "kernelspec": {
   "display_name": "neuro",
   "language": "python",
   "name": "python3"
  },
  "language_info": {
   "codemirror_mode": {
    "name": "ipython",
    "version": 3
   },
   "file_extension": ".py",
   "mimetype": "text/x-python",
   "name": "python",
   "nbconvert_exporter": "python",
   "pygments_lexer": "ipython3",
   "version": "3.11.13"
  }
 },
 "nbformat": 4,
 "nbformat_minor": 5
}
