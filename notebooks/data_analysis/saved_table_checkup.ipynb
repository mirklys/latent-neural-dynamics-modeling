{
 "cells": [
  {
   "cell_type": "code",
   "execution_count": 1,
   "id": "78303fab",
   "metadata": {},
   "outputs": [],
   "source": [
    "from pathlib import Path\n",
    "import polars as pl"
   ]
  },
  {
   "cell_type": "code",
   "execution_count": 2,
   "id": "c76c8bb0",
   "metadata": {},
   "outputs": [],
   "source": [
    "ROOT_DIR = Path(\"/home/bobby/repos/latent-neural-dynamics-modeling\")\n",
    "saved_dir = ROOT_DIR / \"resampled_recordings\""
   ]
  },
  {
   "cell_type": "code",
   "execution_count": 3,
   "id": "dfd25b55",
   "metadata": {},
   "outputs": [],
   "source": [
    "participants = pl.read_parquet(saved_dir / \"participants.parquet\")"
   ]
  },
  {
   "cell_type": "code",
   "execution_count": 5,
   "id": "e4cf910e",
   "metadata": {},
   "outputs": [
    {
     "data": {
      "text/html": [
       "<div><style>\n",
       ".dataframe > thead > tr,\n",
       ".dataframe > tbody > tr {\n",
       "  text-align: right;\n",
       "  white-space: pre-wrap;\n",
       "}\n",
       "</style>\n",
       "<small>shape: (936, 47)</small><table border=\"1\" class=\"dataframe\"><thead><tr><th>participant_id</th><th>participant_path</th><th>session_path</th><th>ieeg_path</th><th>ieeg_file</th><th>session</th><th>run</th><th>ieeg_headers_file</th><th>LFP_1</th><th>LFP_2</th><th>LFP_3</th><th>LFP_4</th><th>LFP_5</th><th>LFP_6</th><th>LFP_7</th><th>LFP_8</th><th>LFP_9</th><th>LFP_10</th><th>LFP_11</th><th>LFP_12</th><th>LFP_13</th><th>LFP_14</th><th>LFP_15</th><th>LFP_16</th><th>ECOG_1</th><th>ECOG_2</th><th>ECOG_3</th><th>ECOG_4</th><th>EOG_1</th><th>EOG_2</th><th>EOG_3</th><th>EOG_4</th><th>sfreq</th><th>participant_path_right</th><th>session_path_right</th><th>motion_path</th><th>motion_file</th><th>type</th><th>data_format</th><th>chunk</th><th>x</th><th>y</th><th>dbs_stim</th><th>onset</th><th>duration</th><th>start_ts</th><th>chunk_length_ts</th></tr><tr><td>str</td><td>str</td><td>str</td><td>str</td><td>str</td><td>u64</td><td>u64</td><td>str</td><td>list[f64]</td><td>list[f64]</td><td>list[f64]</td><td>list[f64]</td><td>list[f64]</td><td>list[f64]</td><td>list[f64]</td><td>list[f64]</td><td>list[f64]</td><td>list[f64]</td><td>list[f64]</td><td>list[f64]</td><td>list[f64]</td><td>list[f64]</td><td>list[f64]</td><td>list[f64]</td><td>list[f64]</td><td>list[f64]</td><td>list[f64]</td><td>list[f64]</td><td>list[f64]</td><td>list[f64]</td><td>list[f64]</td><td>list[f64]</td><td>f64</td><td>str</td><td>str</td><td>str</td><td>str</td><td>str</td><td>str</td><td>u64</td><td>list[i64]</td><td>list[i64]</td><td>str</td><td>f64</td><td>f64</td><td>i64</td><td>i64</td></tr></thead><tbody><tr><td>&quot;sub-PDI4&quot;</td><td>&quot;/home/bobby/repos/latent-neura…</td><td>&quot;/home/bobby/repos/latent-neura…</td><td>&quot;/home/bobby/repos/latent-neura…</td><td>&quot;/home/bobby/repos/latent-neura…</td><td>3</td><td>1</td><td>&quot;/home/bobby/repos/latent-neura…</td><td>[0.000004, -0.000008, … 0.000052]</td><td>[0.000004, 2.8489e-8, … 0.000041]</td><td>[0.000001, -0.000069, … -0.000013]</td><td>[-0.000013, -0.000108, … 0.00002]</td><td>[0.000012, 0.000004, … 0.000052]</td><td>[-0.000011, -0.000112, … 0.000006]</td><td>[-0.000069, -0.000082, … -0.000051]</td><td>[-0.000011, -0.00002, … 0.000039]</td><td>[0.000009, 0.000006, … 0.000033]</td><td>[-0.000032, -0.000035, … 0.000019]</td><td>[0.000007, 0.000016, … 0.000042]</td><td>[0.000005, 0.000012, … 0.000006]</td><td>[0.000016, 0.000019, … 0.000051]</td><td>[-0.000014, -0.00001, … 0.000034]</td><td>[0.000025, 0.000028, … 0.000037]</td><td>[0.000003, 0.000009, … 0.000027]</td><td>[0.00001, 0.000017, … 0.000001]</td><td>[0.000003, 0.000007, … 0.000002]</td><td>[-0.000002, -0.000001, … 0.000003]</td><td>[0.000002, 6.3849e-7, … -0.000001]</td><td>[-0.000007, 0.000016, … 2.9848e-7]</td><td>[-0.000001, -0.000004, … 0.000013]</td><td>[-0.000003, 0.000003, … -0.000002]</td><td>[0.000003, -0.000002, … 0.000007]</td><td>150.0</td><td>&quot;/home/bobby/repos/latent-neura…</td><td>&quot;/home/bobby/repos/latent-neura…</td><td>&quot;/home/bobby/repos/latent-neura…</td><td>&quot;/home/bobby/repos/latent-neura…</td><td>&quot;motion&quot;</td><td>&quot;tsv&quot;</td><td>1</td><td>[-332, -486, … -601]</td><td>[100, 37, … 34]</td><td>&quot;on&quot;</td><td>21.05</td><td>11.111227</td><td>3157</td><td>1666</td></tr><tr><td>&quot;sub-PDI4&quot;</td><td>&quot;/home/bobby/repos/latent-neura…</td><td>&quot;/home/bobby/repos/latent-neura…</td><td>&quot;/home/bobby/repos/latent-neura…</td><td>&quot;/home/bobby/repos/latent-neura…</td><td>3</td><td>1</td><td>&quot;/home/bobby/repos/latent-neura…</td><td>[-0.000092, -0.000037, … -0.00002]</td><td>[-0.000096, -0.000037, … -0.000046]</td><td>[-0.000048, -0.000001, … -0.000003]</td><td>[-0.000039, 0.000038, … 0.000059]</td><td>[-0.000071, -0.000006, … -0.000027]</td><td>[-0.000028, 0.000058, … 0.000022]</td><td>[-0.000061, 0.000074, … 0.000044]</td><td>[-0.000071, -0.000017, … -0.000003]</td><td>[-0.000037, 0.000014, … 0.000007]</td><td>[-0.000046, 0.000001, … 0.000017]</td><td>[-0.000048, 0.000004, … 0.000027]</td><td>[-0.000043, 0.000006, … -0.000049]</td><td>[-0.000045, 0.000003, … -0.000012]</td><td>[-0.000044, 0.000005, … 0.000004]</td><td>[-0.00005, 7.1914e-7, … -0.000061]</td><td>[-0.000049, 0.000005, … -0.00001]</td><td>[-0.000038, -0.000042, … 0.000011]</td><td>[-0.000028, -0.000039, … -0.000003]</td><td>[-0.000022, -0.00004, … -0.000013]</td><td>[-0.000013, -0.000028, … -0.000002]</td><td>[-0.000014, 0.000002, … 0.00001]</td><td>[-0.000012, 0.000008, … 0.000006]</td><td>[0.000005, 3.5332e-7, … -0.000002]</td><td>[-0.000016, 5.3132e-7, … 0.000008]</td><td>150.0</td><td>&quot;/home/bobby/repos/latent-neura…</td><td>&quot;/home/bobby/repos/latent-neura…</td><td>&quot;/home/bobby/repos/latent-neura…</td><td>&quot;/home/bobby/repos/latent-neura…</td><td>&quot;motion&quot;</td><td>&quot;tsv&quot;</td><td>2</td><td>[-189, 110, … 84]</td><td>[20, -139, … 98]</td><td>&quot;on&quot;</td><td>39.95</td><td>11.110909</td><td>5992</td><td>1666</td></tr><tr><td>&quot;sub-PDI4&quot;</td><td>&quot;/home/bobby/repos/latent-neura…</td><td>&quot;/home/bobby/repos/latent-neura…</td><td>&quot;/home/bobby/repos/latent-neura…</td><td>&quot;/home/bobby/repos/latent-neura…</td><td>3</td><td>1</td><td>&quot;/home/bobby/repos/latent-neura…</td><td>[-0.000042, -0.000039, … 0.000029]</td><td>[-0.000016, -0.000003, … 0.000032]</td><td>[-0.000034, -0.000025, … 0.000035]</td><td>[-0.000053, 0.00002, … 0.000005]</td><td>[-0.000026, -0.000017, … 0.000005]</td><td>[-0.000031, -0.000063, … -0.000062]</td><td>[-0.000031, -0.000029, … -0.000054]</td><td>[-0.000035, -0.000025, … 0.000006]</td><td>[-0.000017, -6.6352e-7, … 0.000015]</td><td>[-0.000011, 0.000008, … 0.000021]</td><td>[-0.000039, -0.000022, … -0.00001]</td><td>[0.000007, 0.000025, … 0.000021]</td><td>[0.000011, 0.000024, … 0.000032]</td><td>[0.000001, 0.000015, … 0.000018]</td><td>[0.000007, 0.00002, … 0.000018]</td><td>[-0.000012, 0.000002, … 0.000013]</td><td>[-0.000018, -0.000024, … 0.000012]</td><td>[-0.000015, -0.000026, … 0.000017]</td><td>[-0.000014, -0.000034, … 0.000021]</td><td>[-0.000017, -0.000031, … 0.000027]</td><td>[-0.000018, -0.000039, … 0.000018]</td><td>[-0.000015, -0.000012, … 0.000018]</td><td>[-0.000008, -0.000012, … -0.000002]</td><td>[-0.000015, -0.00003, … 0.000025]</td><td>150.0</td><td>&quot;/home/bobby/repos/latent-neura…</td><td>&quot;/home/bobby/repos/latent-neura…</td><td>&quot;/home/bobby/repos/latent-neura…</td><td>&quot;/home/bobby/repos/latent-neura…</td><td>&quot;motion&quot;</td><td>&quot;tsv&quot;</td><td>3</td><td>[-323, 173, … 98]</td><td>[-179, -29, … -79]</td><td>&quot;on&quot;</td><td>61.52</td><td>11.123636</td><td>9228</td><td>1668</td></tr><tr><td>&quot;sub-PDI4&quot;</td><td>&quot;/home/bobby/repos/latent-neura…</td><td>&quot;/home/bobby/repos/latent-neura…</td><td>&quot;/home/bobby/repos/latent-neura…</td><td>&quot;/home/bobby/repos/latent-neura…</td><td>3</td><td>1</td><td>&quot;/home/bobby/repos/latent-neura…</td><td>[-0.000065, -0.000003, … 0.000029]</td><td>[-0.000035, 0.000035, … 0.000033]</td><td>[-0.000002, -0.000016, … 0.000018]</td><td>[-0.00004, -0.000004, … 0.000011]</td><td>[-0.000018, 0.000056, … 0.000053]</td><td>[-0.000025, 0.000025, … -0.000101]</td><td>[-0.000085, -0.000013, … 0.000059]</td><td>[-0.000047, 0.00003, … 0.000032]</td><td>[-0.000039, 0.000017, … 0.000013]</td><td>[-0.00004, 0.000021, … 0.000025]</td><td>[-0.000023, 0.000023, … 0.000019]</td><td>[6.8709e-7, 0.000065, … 0.000011]</td><td>[-0.000122, -0.000054, … 0.000023]</td><td>[-0.000009, 0.000043, … 0.000011]</td><td>[-0.000021, 0.000031, … 0.00002]</td><td>[-0.000044, 0.000007, … 0.000018]</td><td>[0.000015, 0.000023, … -0.000012]</td><td>[0.000015, 0.000025, … -0.000014]</td><td>[0.000011, 0.000027, … -0.000017]</td><td>[0.000006, 0.000027, … -0.000018]</td><td>[-0.000002, 0.000009, … -0.000037]</td><td>[-0.000007, 0.000012, … 0.000009]</td><td>[-0.000015, 0.000004, … -0.000005]</td><td>[0.000002, 0.00002, … -0.000019]</td><td>150.0</td><td>&quot;/home/bobby/repos/latent-neura…</td><td>&quot;/home/bobby/repos/latent-neura…</td><td>&quot;/home/bobby/repos/latent-neura…</td><td>&quot;/home/bobby/repos/latent-neura…</td><td>&quot;motion&quot;</td><td>&quot;tsv&quot;</td><td>4</td><td>[-160, 13, … -279]</td><td>[56, 209, … -142]</td><td>&quot;on&quot;</td><td>77.043333</td><td>11.012091</td><td>11556</td><td>1651</td></tr><tr><td>&quot;sub-PDI4&quot;</td><td>&quot;/home/bobby/repos/latent-neura…</td><td>&quot;/home/bobby/repos/latent-neura…</td><td>&quot;/home/bobby/repos/latent-neura…</td><td>&quot;/home/bobby/repos/latent-neura…</td><td>3</td><td>1</td><td>&quot;/home/bobby/repos/latent-neura…</td><td>[0.000054, 0.000088, … 0.000008]</td><td>[0.000078, 0.000119, … 0.000031]</td><td>[0.000159, 0.000086, … -0.000014]</td><td>[0.000044, 0.000079, … 0.000032]</td><td>[0.000077, 0.000119, … 0.000026]</td><td>[0.000078, 0.000107, … 0.000015]</td><td>[0.000141, 0.000168, … 0.000099]</td><td>[0.000046, 0.000077, … 0.000026]</td><td>[0.000042, 0.000085, … 0.000025]</td><td>[0.000029, 0.000076, … 0.000016]</td><td>[0.000014, 0.000057, … 0.000007]</td><td>[0.000084, 0.000126, … 0.000035]</td><td>[0.000032, 0.000083, … 0.000017]</td><td>[0.00003, 0.000075, … 0.000021]</td><td>[0.000051, 0.000092, … 0.00002]</td><td>[0.000057, 0.000096, … 0.000022]</td><td>[0.000026, 0.000051, … 0.000008]</td><td>[0.000026, 0.000048, … 0.000005]</td><td>[0.000025, 0.000046, … 0.000005]</td><td>[0.00003, 0.000053, … 0.000003]</td><td>[0.00002, 0.00001, … 0.00001]</td><td>[-0.000007, -0.000015, … 0.000006]</td><td>[0.000028, 0.000017, … 0.000009]</td><td>[0.00001, -0.00001, … 0.000005]</td><td>150.0</td><td>&quot;/home/bobby/repos/latent-neura…</td><td>&quot;/home/bobby/repos/latent-neura…</td><td>&quot;/home/bobby/repos/latent-neura…</td><td>&quot;/home/bobby/repos/latent-neura…</td><td>&quot;motion&quot;</td><td>&quot;tsv&quot;</td><td>5</td><td>[78, -266, … -257]</td><td>[-167, -178, … 179]</td><td>&quot;on&quot;</td><td>94.436667</td><td>11.012409</td><td>14165</td><td>1651</td></tr><tr><td>&hellip;</td><td>&hellip;</td><td>&hellip;</td><td>&hellip;</td><td>&hellip;</td><td>&hellip;</td><td>&hellip;</td><td>&hellip;</td><td>&hellip;</td><td>&hellip;</td><td>&hellip;</td><td>&hellip;</td><td>&hellip;</td><td>&hellip;</td><td>&hellip;</td><td>&hellip;</td><td>&hellip;</td><td>&hellip;</td><td>&hellip;</td><td>&hellip;</td><td>&hellip;</td><td>&hellip;</td><td>&hellip;</td><td>&hellip;</td><td>&hellip;</td><td>&hellip;</td><td>&hellip;</td><td>&hellip;</td><td>&hellip;</td><td>&hellip;</td><td>&hellip;</td><td>&hellip;</td><td>&hellip;</td><td>&hellip;</td><td>&hellip;</td><td>&hellip;</td><td>&hellip;</td><td>&hellip;</td><td>&hellip;</td><td>&hellip;</td><td>&hellip;</td><td>&hellip;</td><td>&hellip;</td><td>&hellip;</td><td>&hellip;</td><td>&hellip;</td><td>&hellip;</td></tr><tr><td>&quot;sub-PDI4&quot;</td><td>&quot;/home/bobby/repos/latent-neura…</td><td>&quot;/home/bobby/repos/latent-neura…</td><td>&quot;/home/bobby/repos/latent-neura…</td><td>&quot;/home/bobby/repos/latent-neura…</td><td>3</td><td>9</td><td>&quot;/home/bobby/repos/latent-neura…</td><td>[0.000007, 0.000009, … 0.000042]</td><td>[0.000017, 0.000013, … 0.000008]</td><td>[0.000038, 0.000066, … 0.000025]</td><td>[-0.000018, -0.000033, … 7.7235e-7]</td><td>[-0.000012, -0.000014, … 0.000044]</td><td>[0.000046, -0.00005, … 0.000072]</td><td>[0.000027, -0.000079, … 0.000037]</td><td>[-0.000003, -0.000007, … 8.8652e-7]</td><td>[0.000015, 3.6631e-7, … -0.00001]</td><td>[0.000011, -0.000009, … 0.00003]</td><td>[0.00001, -0.000002, … 0.000041]</td><td>[0.000019, 0.000008, … -0.000049]</td><td>[-0.000001, -0.000009, … -0.000006]</td><td>[0.000003, -0.000008, … 0.000009]</td><td>[-0.000005, -0.000016, … -0.00001]</td><td>[-0.000007, -0.000013, … 0.000013]</td><td>[-0.000003, -0.000009, … 0.000004]</td><td>[-0.000005, -0.000018, … -0.000003]</td><td>[-0.000011, -0.000029, … -0.00001]</td><td>[-0.000022, -0.000038, … -0.000022]</td><td>[0.000016, -0.000011, … 0.000011]</td><td>[0.000008, -3.2298e-7, … 0.000036]</td><td>[0.000003, -0.000011, … -0.000002]</td><td>[0.000014, -0.000002, … 0.000013]</td><td>150.0</td><td>&quot;/home/bobby/repos/latent-neura…</td><td>&quot;/home/bobby/repos/latent-neura…</td><td>&quot;/home/bobby/repos/latent-neura…</td><td>&quot;/home/bobby/repos/latent-neura…</td><td>&quot;motion&quot;</td><td>&quot;tsv&quot;</td><td>8</td><td>[-193, -228, … 252]</td><td>[-138, 207, … -206]</td><td>&quot;off&quot;</td><td>126.376667</td><td>11.006455</td><td>18956</td><td>1650</td></tr><tr><td>&quot;sub-PDI4&quot;</td><td>&quot;/home/bobby/repos/latent-neura…</td><td>&quot;/home/bobby/repos/latent-neura…</td><td>&quot;/home/bobby/repos/latent-neura…</td><td>&quot;/home/bobby/repos/latent-neura…</td><td>3</td><td>9</td><td>&quot;/home/bobby/repos/latent-neura…</td><td>[-0.000072, -0.000066, … -0.000043]</td><td>[-0.000066, -0.000061, … -0.000045]</td><td>[0.000092, -0.000022, … -0.000096]</td><td>[-0.000021, 0.000018, … -0.000023]</td><td>[-0.00005, -0.000041, … -0.000057]</td><td>[0.000025, 0.000005, … 0.000025]</td><td>[-0.00001, 0.000001, … -0.000021]</td><td>[-0.000052, -0.000042, … -0.000073]</td><td>[-0.000041, -0.000036, … -0.000054]</td><td>[-0.000056, -0.000041, … -0.000042]</td><td>[-0.000036, -0.00003, … -0.000045]</td><td>[-0.000045, -0.000035, … -0.000045]</td><td>[-0.000044, -0.000028, … -0.000041]</td><td>[-0.000036, -0.000029, … -0.00005]</td><td>[-0.000039, -0.000034, … -0.000053]</td><td>[-0.000028, -0.000027, … -0.000048]</td><td>[0.000019, 0.000005, … -0.000004]</td><td>[0.000003, -0.000004, … -0.000007]</td><td>[-0.000013, -0.000022, … -0.000024]</td><td>[-0.000023, -0.000037, … -0.000047]</td><td>[0.000011, 0.000009, … -0.00001]</td><td>[0.000005, -0.000005, … -0.000016]</td><td>[0.000015, 0.000002, … -0.000016]</td><td>[0.000008, 0.000003, … -0.000016]</td><td>150.0</td><td>&quot;/home/bobby/repos/latent-neura…</td><td>&quot;/home/bobby/repos/latent-neura…</td><td>&quot;/home/bobby/repos/latent-neura…</td><td>&quot;/home/bobby/repos/latent-neura…</td><td>&quot;motion&quot;</td><td>&quot;tsv&quot;</td><td>9</td><td>[-378, -249, … -239]</td><td>[37, -202, … -47]</td><td>&quot;off&quot;</td><td>141.103333</td><td>11.096273</td><td>21165</td><td>1664</td></tr><tr><td>&quot;sub-PDI4&quot;</td><td>&quot;/home/bobby/repos/latent-neura…</td><td>&quot;/home/bobby/repos/latent-neura…</td><td>&quot;/home/bobby/repos/latent-neura…</td><td>&quot;/home/bobby/repos/latent-neura…</td><td>3</td><td>9</td><td>&quot;/home/bobby/repos/latent-neura…</td><td>[0.000006, -0.00006, … 0.000034]</td><td>[-0.000009, -0.000055, … 0.00003]</td><td>[0.000025, 0.000041, … 0.000017]</td><td>[0.000061, -0.000003, … -0.000011]</td><td>[0.000007, -0.000042, … 0.000029]</td><td>[0.000028, 0.000008, … 0.000048]</td><td>[0.000074, 0.00002, … 0.000038]</td><td>[0.000007, -0.000053, … 0.000025]</td><td>[0.000007, -0.000047, … 0.000041]</td><td>[0.000012, -0.000041, … 0.000039]</td><td>[0.000009, -0.00005, … 0.000042]</td><td>[0.000007, -0.000054, … 0.00004]</td><td>[0.000007, -0.00005, … 0.000032]</td><td>[0.000005, -0.000054, … 0.000038]</td><td>[0.000006, -0.000057, … 0.00004]</td><td>[0.000005, -0.000061, … 0.000039]</td><td>[0.000055, 0.000043, … 0.00002]</td><td>[0.000043, 0.000027, … 0.000025]</td><td>[0.000024, 0.000005, … 0.00003]</td><td>[0.000009, -0.000014, … 0.000032]</td><td>[0.000003, -0.000008, … 0.000012]</td><td>[0.000014, -0.00001, … 0.000012]</td><td>[-7.6107e-7, -0.000015, … 0.000014]</td><td>[0.000011, -0.000014, … 0.000019]</td><td>150.0</td><td>&quot;/home/bobby/repos/latent-neura…</td><td>&quot;/home/bobby/repos/latent-neura…</td><td>&quot;/home/bobby/repos/latent-neura…</td><td>&quot;/home/bobby/repos/latent-neura…</td><td>&quot;motion&quot;</td><td>&quot;tsv&quot;</td><td>10</td><td>[-28, -260, … -37]</td><td>[-227, -143, … 182]</td><td>&quot;off&quot;</td><td>155.473333</td><td>11.000864</td><td>23321</td><td>1650</td></tr><tr><td>&quot;sub-PDI4&quot;</td><td>&quot;/home/bobby/repos/latent-neura…</td><td>&quot;/home/bobby/repos/latent-neura…</td><td>&quot;/home/bobby/repos/latent-neura…</td><td>&quot;/home/bobby/repos/latent-neura…</td><td>3</td><td>9</td><td>&quot;/home/bobby/repos/latent-neura…</td><td>[0.000053, 0.000055, … 0.00004]</td><td>[0.000064, 0.000065, … -0.000035]</td><td>[-0.000016, 0.000037, … -0.000034]</td><td>[0.000049, -0.000045, … 0.000009]</td><td>[0.000072, 0.000061, … 0.000014]</td><td>[0.000085, 0.00009, … -0.000059]</td><td>[-0.000043, -0.000013, … -0.000047]</td><td>[0.000061, 0.000064, … 0.000035]</td><td>[0.000032, 0.000028, … 0.000014]</td><td>[0.000022, 0.000035, … 0.000051]</td><td>[0.000016, 0.000012, … 0.000069]</td><td>[0.000034, 0.000034, … -0.000052]</td><td>[0.000026, 0.000043, … 0.00001]</td><td>[0.000027, 0.000029, … 0.000052]</td><td>[0.000031, 0.000037, … 0.000025]</td><td>[0.000034, 0.000031, … 0.00003]</td><td>[0.000033, 0.000037, … -0.000028]</td><td>[0.000029, 0.00004, … -0.00003]</td><td>[0.000033, 0.00004, … -0.00004]</td><td>[0.000046, 0.000048, … -0.000047]</td><td>[-0.000003, -0.00001, … -0.000017]</td><td>[0.000005, 0.00001, … -0.000074]</td><td>[6.8953e-8, -0.000005, … 0.000017]</td><td>[0.000014, 0.000014, … -0.000072]</td><td>150.0</td><td>&quot;/home/bobby/repos/latent-neura…</td><td>&quot;/home/bobby/repos/latent-neura…</td><td>&quot;/home/bobby/repos/latent-neura…</td><td>&quot;/home/bobby/repos/latent-neura…</td><td>&quot;motion&quot;</td><td>&quot;tsv&quot;</td><td>11</td><td>[16, -311, … -194]</td><td>[-30, -16, … 78]</td><td>&quot;off&quot;</td><td>169.843333</td><td>11.000545</td><td>25476</td><td>1650</td></tr><tr><td>&quot;sub-PDI4&quot;</td><td>&quot;/home/bobby/repos/latent-neura…</td><td>&quot;/home/bobby/repos/latent-neura…</td><td>&quot;/home/bobby/repos/latent-neura…</td><td>&quot;/home/bobby/repos/latent-neura…</td><td>3</td><td>9</td><td>&quot;/home/bobby/repos/latent-neura…</td><td>[0.000005, 0.000039, … 0.000007]</td><td>[0.000006, 0.000043, … -0.000009]</td><td>[-0.000023, 0.000093, … -0.000022]</td><td>[-0.00005, -0.00003, … -0.000023]</td><td>[-0.000011, 0.000023, … -0.000004]</td><td>[-0.000009, 0.000094, … -0.000068]</td><td>[0.000065, 0.000078, … -0.000037]</td><td>[-0.000024, 0.000013, … 0.000025]</td><td>[0.00002, 0.000043, … 0.000025]</td><td>[0.000012, 0.000041, … 0.000038]</td><td>[0.000021, 0.000043, … 0.00002]</td><td>[0.00002, 0.000043, … 0.000022]</td><td>[0.000018, 0.000042, … 0.000026]</td><td>[0.000017, 0.00004, … 0.000023]</td><td>[0.000019, 0.000036, … 0.000012]</td><td>[0.000017, 0.000037, … 0.000023]</td><td>[0.000001, 0.000003, … 0.000003]</td><td>[0.000002, 0.000008, … 0.00001]</td><td>[-0.000006, 0.000006, … 0.000018]</td><td>[-0.000008, -0.000001, … 0.000015]</td><td>[0.000017, 0.000005, … 0.000003]</td><td>[0.000018, 0.000015, … 0.000012]</td><td>[-8.6673e-7, -0.000003, … 0.000011]</td><td>[0.00002, 0.000005, … -0.000001]</td><td>150.0</td><td>&quot;/home/bobby/repos/latent-neura…</td><td>&quot;/home/bobby/repos/latent-neura…</td><td>&quot;/home/bobby/repos/latent-neura…</td><td>&quot;/home/bobby/repos/latent-neura…</td><td>&quot;motion&quot;</td><td>&quot;tsv&quot;</td><td>12</td><td>[-10, 56, … -278]</td><td>[-228, 156, … -207]</td><td>&quot;off&quot;</td><td>188.073333</td><td>11.095409</td><td>28211</td><td>1664</td></tr></tbody></table></div>"
      ],
      "text/plain": [
       "shape: (936, 47)\n",
       "┌───────────┬───────────┬───────────┬───────────┬───┬───────────┬───────────┬──────────┬───────────┐\n",
       "│ participa ┆ participa ┆ session_p ┆ ieeg_path ┆ … ┆ onset     ┆ duration  ┆ start_ts ┆ chunk_len │\n",
       "│ nt_id     ┆ nt_path   ┆ ath       ┆ ---       ┆   ┆ ---       ┆ ---       ┆ ---      ┆ gth_ts    │\n",
       "│ ---       ┆ ---       ┆ ---       ┆ str       ┆   ┆ f64       ┆ f64       ┆ i64      ┆ ---       │\n",
       "│ str       ┆ str       ┆ str       ┆           ┆   ┆           ┆           ┆          ┆ i64       │\n",
       "╞═══════════╪═══════════╪═══════════╪═══════════╪═══╪═══════════╪═══════════╪══════════╪═══════════╡\n",
       "│ sub-PDI4  ┆ /home/bob ┆ /home/bob ┆ /home/bob ┆ … ┆ 21.05     ┆ 11.111227 ┆ 3157     ┆ 1666      │\n",
       "│           ┆ by/repos/ ┆ by/repos/ ┆ by/repos/ ┆   ┆           ┆           ┆          ┆           │\n",
       "│           ┆ latent-ne ┆ latent-ne ┆ latent-ne ┆   ┆           ┆           ┆          ┆           │\n",
       "│           ┆ ura…      ┆ ura…      ┆ ura…      ┆   ┆           ┆           ┆          ┆           │\n",
       "│ sub-PDI4  ┆ /home/bob ┆ /home/bob ┆ /home/bob ┆ … ┆ 39.95     ┆ 11.110909 ┆ 5992     ┆ 1666      │\n",
       "│           ┆ by/repos/ ┆ by/repos/ ┆ by/repos/ ┆   ┆           ┆           ┆          ┆           │\n",
       "│           ┆ latent-ne ┆ latent-ne ┆ latent-ne ┆   ┆           ┆           ┆          ┆           │\n",
       "│           ┆ ura…      ┆ ura…      ┆ ura…      ┆   ┆           ┆           ┆          ┆           │\n",
       "│ sub-PDI4  ┆ /home/bob ┆ /home/bob ┆ /home/bob ┆ … ┆ 61.52     ┆ 11.123636 ┆ 9228     ┆ 1668      │\n",
       "│           ┆ by/repos/ ┆ by/repos/ ┆ by/repos/ ┆   ┆           ┆           ┆          ┆           │\n",
       "│           ┆ latent-ne ┆ latent-ne ┆ latent-ne ┆   ┆           ┆           ┆          ┆           │\n",
       "│           ┆ ura…      ┆ ura…      ┆ ura…      ┆   ┆           ┆           ┆          ┆           │\n",
       "│ sub-PDI4  ┆ /home/bob ┆ /home/bob ┆ /home/bob ┆ … ┆ 77.043333 ┆ 11.012091 ┆ 11556    ┆ 1651      │\n",
       "│           ┆ by/repos/ ┆ by/repos/ ┆ by/repos/ ┆   ┆           ┆           ┆          ┆           │\n",
       "│           ┆ latent-ne ┆ latent-ne ┆ latent-ne ┆   ┆           ┆           ┆          ┆           │\n",
       "│           ┆ ura…      ┆ ura…      ┆ ura…      ┆   ┆           ┆           ┆          ┆           │\n",
       "│ sub-PDI4  ┆ /home/bob ┆ /home/bob ┆ /home/bob ┆ … ┆ 94.436667 ┆ 11.012409 ┆ 14165    ┆ 1651      │\n",
       "│           ┆ by/repos/ ┆ by/repos/ ┆ by/repos/ ┆   ┆           ┆           ┆          ┆           │\n",
       "│           ┆ latent-ne ┆ latent-ne ┆ latent-ne ┆   ┆           ┆           ┆          ┆           │\n",
       "│           ┆ ura…      ┆ ura…      ┆ ura…      ┆   ┆           ┆           ┆          ┆           │\n",
       "│ …         ┆ …         ┆ …         ┆ …         ┆ … ┆ …         ┆ …         ┆ …        ┆ …         │\n",
       "│ sub-PDI4  ┆ /home/bob ┆ /home/bob ┆ /home/bob ┆ … ┆ 126.37666 ┆ 11.006455 ┆ 18956    ┆ 1650      │\n",
       "│           ┆ by/repos/ ┆ by/repos/ ┆ by/repos/ ┆   ┆ 7         ┆           ┆          ┆           │\n",
       "│           ┆ latent-ne ┆ latent-ne ┆ latent-ne ┆   ┆           ┆           ┆          ┆           │\n",
       "│           ┆ ura…      ┆ ura…      ┆ ura…      ┆   ┆           ┆           ┆          ┆           │\n",
       "│ sub-PDI4  ┆ /home/bob ┆ /home/bob ┆ /home/bob ┆ … ┆ 141.10333 ┆ 11.096273 ┆ 21165    ┆ 1664      │\n",
       "│           ┆ by/repos/ ┆ by/repos/ ┆ by/repos/ ┆   ┆ 3         ┆           ┆          ┆           │\n",
       "│           ┆ latent-ne ┆ latent-ne ┆ latent-ne ┆   ┆           ┆           ┆          ┆           │\n",
       "│           ┆ ura…      ┆ ura…      ┆ ura…      ┆   ┆           ┆           ┆          ┆           │\n",
       "│ sub-PDI4  ┆ /home/bob ┆ /home/bob ┆ /home/bob ┆ … ┆ 155.47333 ┆ 11.000864 ┆ 23321    ┆ 1650      │\n",
       "│           ┆ by/repos/ ┆ by/repos/ ┆ by/repos/ ┆   ┆ 3         ┆           ┆          ┆           │\n",
       "│           ┆ latent-ne ┆ latent-ne ┆ latent-ne ┆   ┆           ┆           ┆          ┆           │\n",
       "│           ┆ ura…      ┆ ura…      ┆ ura…      ┆   ┆           ┆           ┆          ┆           │\n",
       "│ sub-PDI4  ┆ /home/bob ┆ /home/bob ┆ /home/bob ┆ … ┆ 169.84333 ┆ 11.000545 ┆ 25476    ┆ 1650      │\n",
       "│           ┆ by/repos/ ┆ by/repos/ ┆ by/repos/ ┆   ┆ 3         ┆           ┆          ┆           │\n",
       "│           ┆ latent-ne ┆ latent-ne ┆ latent-ne ┆   ┆           ┆           ┆          ┆           │\n",
       "│           ┆ ura…      ┆ ura…      ┆ ura…      ┆   ┆           ┆           ┆          ┆           │\n",
       "│ sub-PDI4  ┆ /home/bob ┆ /home/bob ┆ /home/bob ┆ … ┆ 188.07333 ┆ 11.095409 ┆ 28211    ┆ 1664      │\n",
       "│           ┆ by/repos/ ┆ by/repos/ ┆ by/repos/ ┆   ┆ 3         ┆           ┆          ┆           │\n",
       "│           ┆ latent-ne ┆ latent-ne ┆ latent-ne ┆   ┆           ┆           ┆          ┆           │\n",
       "│           ┆ ura…      ┆ ura…      ┆ ura…      ┆   ┆           ┆           ┆          ┆           │\n",
       "└───────────┴───────────┴───────────┴───────────┴───┴───────────┴───────────┴──────────┴───────────┘"
      ]
     },
     "execution_count": 5,
     "metadata": {},
     "output_type": "execute_result"
    }
   ],
   "source": [
    "participants"
   ]
  }
 ],
 "metadata": {
  "kernelspec": {
   "display_name": "neuro",
   "language": "python",
   "name": "python3"
  },
  "language_info": {
   "codemirror_mode": {
    "name": "ipython",
    "version": 3
   },
   "file_extension": ".py",
   "mimetype": "text/x-python",
   "name": "python",
   "nbconvert_exporter": "python",
   "pygments_lexer": "ipython3",
   "version": "3.11.13"
  }
 },
 "nbformat": 4,
 "nbformat_minor": 5
}
