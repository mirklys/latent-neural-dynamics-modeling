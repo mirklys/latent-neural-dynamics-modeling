{
 "cells": [
  {
   "cell_type": "code",
   "execution_count": 1,
   "id": "ae25dfaf",
   "metadata": {},
   "outputs": [],
   "source": [
    "from pathlib import Path\n",
    "import polars as pl"
   ]
  },
  {
   "cell_type": "code",
   "execution_count": 2,
   "id": "23b569ed",
   "metadata": {},
   "outputs": [],
   "source": [
    "ROOT_DIR = Path(\"/home/bobby/repos/latent-neural-dynamics-modeling\")\n",
    "saved_dir = ROOT_DIR / \"data\""
   ]
  },
  {
   "cell_type": "code",
   "execution_count": 41,
   "id": "534c9c4c",
   "metadata": {},
   "outputs": [],
   "source": [
    "participants = pl.read_parquet(\n",
    "    saved_dir / \"resampled\" / \"participants_intermediate.parquet\"\n",
    ")"
   ]
  },
  {
   "cell_type": "code",
   "execution_count": 42,
   "id": "b273bde6",
   "metadata": {},
   "outputs": [],
   "source": [
    "PDI_labels = pl.read_csv(saved_dir / \"PDI_labels.csv\")\n",
    "PDI_labels_trials = pl.read_csv(saved_dir / \"PDI_labels_trials.csv\")\n",
    "PDI_trial_durations = pl.read_csv(saved_dir / \"PDI_trial_durations.csv\")"
   ]
  },
  {
   "cell_type": "code",
   "execution_count": 43,
   "id": "3b259b05",
   "metadata": {},
   "outputs": [],
   "source": [
    "PDI_labels_trials = PDI_labels_trials.select(\n",
    "    pl.col(\"subject\").alias(\"participant_id\"),\n",
    "    pl.col(\"session\").cast(pl.UInt32),\n",
    "    pl.col(\"ix_block\").cast(pl.UInt32).alias(\"block\"),\n",
    "    pl.col(\"ix_trial\").cast(pl.UInt32).alias(\"trial\"),\n",
    "    pl.when(pl.col(\"dbs_stim\") == \"on\").then(1).otherwise(0).alias(\"dbs_stim\"),\n",
    "    pl.col(\"yscore\").cast(pl.Float32),\n",
    ")\n",
    "\n",
    "PDI_labels_trials = PDI_labels_trials.sort(\n",
    "    [\"participant_id\", \"session\", \"block\", \"trial\"]\n",
    ")\n",
    "\n",
    "PDI_labels_trials = (\n",
    "    PDI_labels_trials.group_by(\n",
    "        [\"participant_id\", \"session\", \"block\"], maintain_order=True\n",
    "    )\n",
    "    .agg(\n",
    "        pl.col(\"trial\").alias(\"trials\"),\n",
    "        pl.col(\"dbs_stim\"),\n",
    "        pl.col(\"yscore\").alias(\"yscores\"),\n",
    "    )\n",
    "    .with_columns(pl.col(\"trials\").list.len().alias(\"trial_count\"))\n",
    ")"
   ]
  },
  {
   "cell_type": "code",
   "execution_count": null,
   "id": "65dd5172",
   "metadata": {},
   "outputs": [],
   "source": [
    "PDI_labels = PDI_labels.select(\n",
    "    pl.col(\"subject\").alias(\"participant_id\"),\n",
    "    pl.col(\"session\").cast(pl.UInt32),\n",
    "    pl.col(\"ix_block\").cast(pl.UInt32).alias(\"block\"),\n",
    "    pl.when(pl.col(\"dbs_stim\") == \"on\").then(1).otherwise(0).alias(\"dbs_stim\"),\n",
    "    pl.col(\"valid_trial_cnt\").cast(pl.UInt32),\n",
    ")\n",
    "\n",
    "PDI_labels = PDI_labels.sort([\"participant_id\", \"session\", \"block\"])"
   ]
  },
  {
   "cell_type": "code",
   "execution_count": 45,
   "id": "38e5cbe3",
   "metadata": {},
   "outputs": [],
   "source": [
    "PDI_trial_durations = PDI_trial_durations.select(\n",
    "    pl.col(\"sub\").str.split(by=\"-\").list.get(-1).alias(\"participant_id\"),\n",
    "    pl.col(\"ses\").str.split(by=\"-\").list.get(-1).cast(pl.UInt32).alias(\"session\"),\n",
    "    pl.col(\"block\").cast(pl.UInt32),\n",
    "    pl.col(\"dt_s\").cast(pl.Float32),\n",
    ").sort([\"participant_id\", \"session\", \"block\"])"
   ]
  },
  {
   "cell_type": "code",
   "execution_count": 46,
   "id": "24781b4e",
   "metadata": {},
   "outputs": [],
   "source": [
    "participants = (\n",
    "    participants.with_columns(pl.col(\"participant_id\").str.split(by=\"-\").list.get(-1))\n",
    "    .with_columns(\n",
    "        pl.col(\"ieeg_headers_file\")\n",
    "        .str.split(\"/\")\n",
    "        .list.get(-1)\n",
    "        .str.split(\".\")\n",
    "        .list.get(0)\n",
    "        .alias(\"base_ieeg_file\")\n",
    "    )\n",
    "    .with_columns(\n",
    "        pl.concat_str(\n",
    "            pl.lit(str(saved_dir / \"resampled\")),\n",
    "            pl.concat_str(pl.col(\"base_ieeg_file\"), pl.lit(\"parquet\"), separator=\".\"),\n",
    "            separator=\"/\",\n",
    "        ).alias(\"ieeg_parquet\"),\n",
    "        pl.col(\"session\").cast(pl.UInt32),\n",
    "        pl.col(\"run\").cast(pl.UInt32).alias(\"block\"),\n",
    "        pl.col(\"session_path\")\n",
    "        .str.split(by=\"/\")\n",
    "        .list.tail(2)\n",
    "        .list.join(separator=\"/\")\n",
    "        .map_elements(lambda s: str(saved_dir.joinpath(s)), return_dtype=pl.String)\n",
    "        .alias(\"session_path\"),\n",
    "    )\n",
    "    .drop(\"base_ieeg_file\", \"ieeg_headers_file\", \"durations\", \"run\")\n",
    ")\n",
    "\n",
    "participants = participants.drop(\"participant_path\", \"ieeg_path\", \"ieeg_file\").unique()"
   ]
  },
  {
   "cell_type": "code",
   "execution_count": null,
   "id": "8cead8c3",
   "metadata": {},
   "outputs": [],
   "source": [
    "PDI_trial_durations = PDI_trial_durations.join(\n",
    "    PDI_labels, on=[\"participant_id\", \"session\", \"block\"], how=\"left\"\n",
    ")\n",
    "PDI_trial_durations = PDI_trial_durations.join(\n",
    "    PDI_labels_trials, on=[\"participant_id\", \"session\", \"block\"], how=\"left\"\n",
    ")"
   ]
  },
  {
   "cell_type": "code",
   "execution_count": 48,
   "id": "a0852789",
   "metadata": {},
   "outputs": [],
   "source": [
    "PDI_trial_durations = PDI_trial_durations.with_columns(\n",
    "    pl.col(\"valid_trial_cnt\").fill_null(-1), pl.col(\"trial_count\").fill_null(-1)\n",
    ")"
   ]
  },
  {
   "cell_type": "code",
   "execution_count": null,
   "id": "b5c17db6",
   "metadata": {},
   "outputs": [
    {
     "data": {
      "text/html": [
       "<div><style>\n",
       ".dataframe > thead > tr,\n",
       ".dataframe > tbody > tr {\n",
       "  text-align: right;\n",
       "  white-space: pre-wrap;\n",
       "}\n",
       "</style>\n",
       "<small>shape: (2, 10)</small><table border=\"1\" class=\"dataframe\"><thead><tr><th>participant_id</th><th>session</th><th>block</th><th>dt_s</th><th>dbs_stim</th><th>valid_trial_cnt</th><th>trials</th><th>dbs_stim_right</th><th>yscores</th><th>trial_count</th></tr><tr><td>str</td><td>u32</td><td>u32</td><td>f32</td><td>i32</td><td>i64</td><td>list[u32]</td><td>list[i32]</td><td>list[f32]</td><td>i64</td></tr></thead><tbody><tr><td>&quot;PDI3&quot;</td><td>4</td><td>12</td><td>9.018765</td><td>1</td><td>11</td><td>null</td><td>null</td><td>null</td><td>-1</td></tr><tr><td>&quot;PDI4&quot;</td><td>3</td><td>12</td><td>9.002478</td><td>1</td><td>12</td><td>null</td><td>null</td><td>null</td><td>-1</td></tr></tbody></table></div>"
      ],
      "text/plain": [
       "shape: (2, 10)\n",
       "┌─────────────┬─────────┬───────┬──────────┬───┬───────────┬─────────────┬───────────┬─────────────┐\n",
       "│ participant ┆ session ┆ block ┆ dt_s     ┆ … ┆ trials    ┆ dbs_stim_ri ┆ yscores   ┆ trial_count │\n",
       "│ _id         ┆ ---     ┆ ---   ┆ ---      ┆   ┆ ---       ┆ ght         ┆ ---       ┆ ---         │\n",
       "│ ---         ┆ u32     ┆ u32   ┆ f32      ┆   ┆ list[u32] ┆ ---         ┆ list[f32] ┆ i64         │\n",
       "│ str         ┆         ┆       ┆          ┆   ┆           ┆ list[i32]   ┆           ┆             │\n",
       "╞═════════════╪═════════╪═══════╪══════════╪═══╪═══════════╪═════════════╪═══════════╪═════════════╡\n",
       "│ PDI3        ┆ 4       ┆ 12    ┆ 9.018765 ┆ … ┆ null      ┆ null        ┆ null      ┆ -1          │\n",
       "│ PDI4        ┆ 3       ┆ 12    ┆ 9.002478 ┆ … ┆ null      ┆ null        ┆ null      ┆ -1          │\n",
       "└─────────────┴─────────┴───────┴──────────┴───┴───────────┴─────────────┴───────────┴─────────────┘"
      ]
     },
     "execution_count": 49,
     "metadata": {},
     "output_type": "execute_result"
    }
   ],
   "source": [
    "# PDI4-3-12 all trials valid\n",
    "# PDI3-4-12 all good for classification but won't take the x and y coordinates\n",
    "PDI_trial_durations.filter(pl.col(\"valid_trial_cnt\") != pl.col(\"trial_count\"))"
   ]
  },
  {
   "cell_type": "code",
   "execution_count": 50,
   "id": "f2477f83",
   "metadata": {},
   "outputs": [
    {
     "data": {
      "text/plain": [
       "\"\\nProcess the PDI_trial_durations DataFrame according to the following logic:\\n    - For any row where trial_count is -1 but valid_trial_cnt is not -1, set the 'trials'\\n        column to the list [1, 2, ..., 12]. (This indicates there are no pre-assigned trial labels.)\\n    - For rows where both trial_count and valid_trial_cnt are -1, remove these rows from\\n        the DataFrame.\\nThe function prints all the rows that were removed.\\n\""
      ]
     },
     "execution_count": 50,
     "metadata": {},
     "output_type": "execute_result"
    }
   ],
   "source": [
    "\"\"\"\n",
    "Process the PDI_trial_durations DataFrame according to the following logic:\n",
    "    - For any row where trial_count is -1 but valid_trial_cnt is not -1, set the 'trials'\n",
    "        column to the list [1, 2, ..., 12]. (This indicates there are no pre-assigned trial labels.)\n",
    "    - For rows where both trial_count and valid_trial_cnt are -1, remove these rows from\n",
    "        the DataFrame.\n",
    "The function prints all the rows that were removed.\n",
    "\"\"\""
   ]
  },
  {
   "cell_type": "code",
   "execution_count": null,
   "id": "35a4b3e5",
   "metadata": {},
   "outputs": [
    {
     "name": "stdout",
     "output_type": "stream",
     "text": [
      "Removed rows:\n",
      "shape: (4, 5)\n",
      "┌────────────────┬─────────┬───────┬─────────────────┬─────────────┐\n",
      "│ participant_id ┆ session ┆ block ┆ valid_trial_cnt ┆ trial_count │\n",
      "│ ---            ┆ ---     ┆ ---   ┆ ---             ┆ ---         │\n",
      "│ str            ┆ u32     ┆ u32   ┆ i64             ┆ i64         │\n",
      "╞════════════════╪═════════╪═══════╪═════════════════╪═════════════╡\n",
      "│ PDI3           ┆ 4       ┆ 1     ┆ -1              ┆ -1          │\n",
      "│ PDI3           ┆ 4       ┆ 2     ┆ -1              ┆ -1          │\n",
      "│ PDI3           ┆ 4       ┆ 3     ┆ -1              ┆ -1          │\n",
      "│ PDI4           ┆ 3       ┆ 9     ┆ -1              ┆ -1          │\n",
      "└────────────────┴─────────┴───────┴─────────────────┴─────────────┘\n"
     ]
    }
   ],
   "source": [
    "removed_rows = PDI_trial_durations.filter(\n",
    "    (pl.col(\"trial_count\") == -1) & (pl.col(\"valid_trial_cnt\") == -1)\n",
    ")\n",
    "print(\"Removed rows:\")\n",
    "print(\n",
    "    removed_rows.select(\n",
    "        \"participant_id\", \"session\", \"block\", \"valid_trial_cnt\", \"trial_count\"\n",
    "    )\n",
    ")"
   ]
  },
  {
   "cell_type": "code",
   "execution_count": null,
   "id": "86bcdd18",
   "metadata": {},
   "outputs": [],
   "source": [
    "# Exclude the rows where both trial_count and valid_trial_cnt are -1\n",
    "PDI_trial_durations = PDI_trial_durations.filter(\n",
    "    ~((pl.col(\"trial_count\") == -1) & (pl.col(\"valid_trial_cnt\") == -1))\n",
    ")"
   ]
  },
  {
   "cell_type": "code",
   "execution_count": null,
   "id": "a78c6e17",
   "metadata": {},
   "outputs": [],
   "source": [
    "PDI_trial_durations = PDI_trial_durations.with_columns(\n",
    "    [\n",
    "        pl.when(pl.col(\"trial_count\") == -1)\n",
    "        .then(pl.lit(list(range(1, 13))))\n",
    "        .otherwise(pl.col(\"trials\"))\n",
    "        .alias(\"trials\"),\n",
    "        pl.when(pl.col(\"trial_count\") == -1)\n",
    "        .then(pl.col(\"valid_trial_cnt\").eq(12))\n",
    "        .otherwise(pl.col(\"trial_count\") == pl.col(\"valid_trial_cnt\"))\n",
    "        .alias(\"labels\"),\n",
    "    ]\n",
    ")"
   ]
  },
  {
   "cell_type": "code",
   "execution_count": 55,
   "id": "097cd752",
   "metadata": {},
   "outputs": [
    {
     "data": {
      "text/html": [
       "<div><style>\n",
       ".dataframe > thead > tr,\n",
       ".dataframe > tbody > tr {\n",
       "  text-align: right;\n",
       "  white-space: pre-wrap;\n",
       "}\n",
       "</style>\n",
       "<small>shape: (1, 11)</small><table border=\"1\" class=\"dataframe\"><thead><tr><th>participant_id</th><th>session</th><th>block</th><th>dt_s</th><th>dbs_stim</th><th>valid_trial_cnt</th><th>trials</th><th>dbs_stim_right</th><th>yscores</th><th>trial_count</th><th>labels</th></tr><tr><td>str</td><td>u32</td><td>u32</td><td>f32</td><td>i32</td><td>i64</td><td>list[u32]</td><td>list[i32]</td><td>list[f32]</td><td>i64</td><td>bool</td></tr></thead><tbody><tr><td>&quot;PDI3&quot;</td><td>4</td><td>12</td><td>9.018765</td><td>1</td><td>11</td><td>[1, 2, … 12]</td><td>null</td><td>null</td><td>-1</td><td>false</td></tr></tbody></table></div>"
      ],
      "text/plain": [
       "shape: (1, 11)\n",
       "┌───────────────┬─────────┬───────┬──────────┬───┬──────────────┬───────────┬─────────────┬────────┐\n",
       "│ participant_i ┆ session ┆ block ┆ dt_s     ┆ … ┆ dbs_stim_rig ┆ yscores   ┆ trial_count ┆ labels │\n",
       "│ d             ┆ ---     ┆ ---   ┆ ---      ┆   ┆ ht           ┆ ---       ┆ ---         ┆ ---    │\n",
       "│ ---           ┆ u32     ┆ u32   ┆ f32      ┆   ┆ ---          ┆ list[f32] ┆ i64         ┆ bool   │\n",
       "│ str           ┆         ┆       ┆          ┆   ┆ list[i32]    ┆           ┆             ┆        │\n",
       "╞═══════════════╪═════════╪═══════╪══════════╪═══╪══════════════╪═══════════╪═════════════╪════════╡\n",
       "│ PDI3          ┆ 4       ┆ 12    ┆ 9.018765 ┆ … ┆ null         ┆ null      ┆ -1          ┆ false  │\n",
       "└───────────────┴─────────┴───────┴──────────┴───┴──────────────┴───────────┴─────────────┴────────┘"
      ]
     },
     "execution_count": 55,
     "metadata": {},
     "output_type": "execute_result"
    }
   ],
   "source": [
    "PDI_trial_durations.filter(~pl.col(\"labels\"))"
   ]
  },
  {
   "cell_type": "code",
   "execution_count": null,
   "id": "e8d98640",
   "metadata": {},
   "outputs": [],
   "source": [
    "PDI_trial_durations = PDI_trial_durations.drop(\n",
    "    \"valid_trial_cnt\", \"trial_count\", \"dbs_stim_right\"\n",
    ")"
   ]
  },
  {
   "cell_type": "code",
   "execution_count": null,
   "id": "b51ebc3e",
   "metadata": {},
   "outputs": [],
   "source": [
    "participants = participants.join(\n",
    "    PDI_trial_durations, on=[\"participant_id\", \"session\", \"block\"], how=\"left\"\n",
    ")"
   ]
  },
  {
   "cell_type": "code",
   "execution_count": 59,
   "id": "93faf300",
   "metadata": {},
   "outputs": [
    {
     "data": {
      "text/html": [
       "<div><style>\n",
       ".dataframe > thead > tr,\n",
       ".dataframe > tbody > tr {\n",
       "  text-align: right;\n",
       "  white-space: pre-wrap;\n",
       "}\n",
       "</style>\n",
       "<small>shape: (4, 11)</small><table border=\"1\" class=\"dataframe\"><thead><tr><th>participant_id</th><th>session_path</th><th>session</th><th>onsets</th><th>ieeg_parquet</th><th>block</th><th>dt_s</th><th>dbs_stim</th><th>trials</th><th>yscores</th><th>labels</th></tr><tr><td>str</td><td>str</td><td>u32</td><td>list[f64]</td><td>str</td><td>u32</td><td>f32</td><td>i32</td><td>list[u32]</td><td>list[f32]</td><td>bool</td></tr></thead><tbody><tr><td>&quot;PDI4&quot;</td><td>&quot;/home/bobby/repos/latent-neura…</td><td>3</td><td>[10.723909, 25.000409, … 190.073364]</td><td>&quot;/home/bobby/repos/latent-neura…</td><td>9</td><td>null</td><td>null</td><td>null</td><td>null</td><td>null</td></tr><tr><td>&quot;PDI3&quot;</td><td>&quot;/home/bobby/repos/latent-neura…</td><td>4</td><td>[12.854636, 30.407727, … 268.204773]</td><td>&quot;/home/bobby/repos/latent-neura…</td><td>2</td><td>null</td><td>null</td><td>null</td><td>null</td><td>null</td></tr><tr><td>&quot;PDI3&quot;</td><td>&quot;/home/bobby/repos/latent-neura…</td><td>4</td><td>[62.370591, 84.879727, … 269.472682]</td><td>&quot;/home/bobby/repos/latent-neura…</td><td>1</td><td>null</td><td>null</td><td>null</td><td>null</td><td>null</td></tr><tr><td>&quot;PDI3&quot;</td><td>&quot;/home/bobby/repos/latent-neura…</td><td>4</td><td>[12.227955, 29.381682, … 199.263364]</td><td>&quot;/home/bobby/repos/latent-neura…</td><td>3</td><td>null</td><td>null</td><td>null</td><td>null</td><td>null</td></tr></tbody></table></div>"
      ],
      "text/plain": [
       "shape: (4, 11)\n",
       "┌─────────────┬─────────────┬─────────┬────────────┬───┬──────────┬───────────┬───────────┬────────┐\n",
       "│ participant ┆ session_pat ┆ session ┆ onsets     ┆ … ┆ dbs_stim ┆ trials    ┆ yscores   ┆ labels │\n",
       "│ _id         ┆ h           ┆ ---     ┆ ---        ┆   ┆ ---      ┆ ---       ┆ ---       ┆ ---    │\n",
       "│ ---         ┆ ---         ┆ u32     ┆ list[f64]  ┆   ┆ i32      ┆ list[u32] ┆ list[f32] ┆ bool   │\n",
       "│ str         ┆ str         ┆         ┆            ┆   ┆          ┆           ┆           ┆        │\n",
       "╞═════════════╪═════════════╪═════════╪════════════╪═══╪══════════╪═══════════╪═══════════╪════════╡\n",
       "│ PDI4        ┆ /home/bobby ┆ 3       ┆ [10.723909 ┆ … ┆ null     ┆ null      ┆ null      ┆ null   │\n",
       "│             ┆ /repos/late ┆         ┆ ,          ┆   ┆          ┆           ┆           ┆        │\n",
       "│             ┆ nt-neura…   ┆         ┆ 25.000409, ┆   ┆          ┆           ┆           ┆        │\n",
       "│             ┆             ┆         ┆ … 190.0…   ┆   ┆          ┆           ┆           ┆        │\n",
       "│ PDI3        ┆ /home/bobby ┆ 4       ┆ [12.854636 ┆ … ┆ null     ┆ null      ┆ null      ┆ null   │\n",
       "│             ┆ /repos/late ┆         ┆ ,          ┆   ┆          ┆           ┆           ┆        │\n",
       "│             ┆ nt-neura…   ┆         ┆ 30.407727, ┆   ┆          ┆           ┆           ┆        │\n",
       "│             ┆             ┆         ┆ … 268.2…   ┆   ┆          ┆           ┆           ┆        │\n",
       "│ PDI3        ┆ /home/bobby ┆ 4       ┆ [62.370591 ┆ … ┆ null     ┆ null      ┆ null      ┆ null   │\n",
       "│             ┆ /repos/late ┆         ┆ ,          ┆   ┆          ┆           ┆           ┆        │\n",
       "│             ┆ nt-neura…   ┆         ┆ 84.879727, ┆   ┆          ┆           ┆           ┆        │\n",
       "│             ┆             ┆         ┆ … 269.4…   ┆   ┆          ┆           ┆           ┆        │\n",
       "│ PDI3        ┆ /home/bobby ┆ 4       ┆ [12.227955 ┆ … ┆ null     ┆ null      ┆ null      ┆ null   │\n",
       "│             ┆ /repos/late ┆         ┆ ,          ┆   ┆          ┆           ┆           ┆        │\n",
       "│             ┆ nt-neura…   ┆         ┆ 29.381682, ┆   ┆          ┆           ┆           ┆        │\n",
       "│             ┆             ┆         ┆ … 199.2…   ┆   ┆          ┆           ┆           ┆        │\n",
       "└─────────────┴─────────────┴─────────┴────────────┴───┴──────────┴───────────┴───────────┴────────┘"
      ]
     },
     "execution_count": 59,
     "metadata": {},
     "output_type": "execute_result"
    }
   ],
   "source": [
    "participants.filter(pl.col(\"dbs_stim\").is_null())"
   ]
  },
  {
   "cell_type": "code",
   "execution_count": 60,
   "id": "7ff5545c",
   "metadata": {},
   "outputs": [],
   "source": [
    "participants = participants.filter(pl.col(\"dbs_stim\").is_not_null())"
   ]
  },
  {
   "cell_type": "code",
   "execution_count": 61,
   "id": "c3add831",
   "metadata": {},
   "outputs": [],
   "source": [
    "participants.write_parquet(\n",
    "    saved_dir / \"participants.parquet\",\n",
    "    partition_by=[\"participant_id\", \"session\"],\n",
    ")"
   ]
  },
  {
   "cell_type": "code",
   "execution_count": 9,
   "id": "9e9245a1",
   "metadata": {},
   "outputs": [],
   "source": [
    "participants = pl.read_parquet(\n",
    "    \"/home/bobby/repos/latent-neural-dynamics-modeling/resampled_recordings/participants/participant_id=PDI1/session=2/*\"\n",
    ")"
   ]
  },
  {
   "cell_type": "code",
   "execution_count": 10,
   "id": "c60c3004",
   "metadata": {},
   "outputs": [
    {
     "data": {
      "text/html": [
       "<div><style>\n",
       ".dataframe > thead > tr,\n",
       ".dataframe > tbody > tr {\n",
       "  text-align: right;\n",
       "  white-space: pre-wrap;\n",
       "}\n",
       "</style>\n",
       "<small>shape: (144, 35)</small><table border=\"1\" class=\"dataframe\"><thead><tr><th>participant_id</th><th>session</th><th>block</th><th>trial</th><th>onset</th><th>duration</th><th>time</th><th>start_ts</th><th>trial_length_ts</th><th>chunk_margin</th><th>dbs_stim</th><th>yscore</th><th>LFP_1</th><th>LFP_2</th><th>LFP_3</th><th>LFP_4</th><th>LFP_5</th><th>LFP_6</th><th>LFP_7</th><th>LFP_8</th><th>LFP_9</th><th>LFP_10</th><th>LFP_11</th><th>LFP_12</th><th>LFP_13</th><th>LFP_14</th><th>LFP_15</th><th>LFP_16</th><th>ECOG_1</th><th>ECOG_2</th><th>ECOG_3</th><th>ECOG_4</th><th>x</th><th>y</th><th>tracing_coordinates_present</th></tr><tr><td>str</td><td>u32</td><td>u32</td><td>u32</td><td>f64</td><td>f32</td><td>list[f64]</td><td>u32</td><td>u32</td><td>i32</td><td>i32</td><td>f32</td><td>list[f32]</td><td>list[f32]</td><td>list[f32]</td><td>list[f32]</td><td>list[f32]</td><td>list[f32]</td><td>list[f32]</td><td>list[f32]</td><td>list[f32]</td><td>list[f32]</td><td>list[f32]</td><td>list[f32]</td><td>list[f32]</td><td>list[f32]</td><td>list[f32]</td><td>list[f32]</td><td>list[f32]</td><td>list[f32]</td><td>list[f32]</td><td>list[f32]</td><td>list[i64]</td><td>list[i64]</td><td>bool</td></tr></thead><tbody><tr><td>&quot;PDI1&quot;</td><td>2</td><td>1</td><td>1</td><td>16.102864</td><td>11.019526</td><td>[16.102864, 16.103864, … 27.120864]</td><td>16102</td><td>11019</td><td>2</td><td>0</td><td>2.703554</td><td>[0.00001, 0.000007, … -0.000001]</td><td>[0.000009, 0.000005, … -0.000001]</td><td>[0.000027, 0.000002, … -0.00003]</td><td>[0.000006, 0.000079, … 0.000089]</td><td>[0.000004, 3.8836e-7, … -0.000002]</td><td>[-0.000028, -0.000034, … -0.000048]</td><td>[-0.000022, -0.000053, … -0.000019]</td><td>[0.000005, 0.000002, … 0.000002]</td><td>[0.000006, 2.1811e-7, … -0.000001]</td><td>[5.0463e-7, -0.000005, … 0.000002]</td><td>[0.000002, -0.000002, … -5.1700e-7]</td><td>[0.000002, -0.000002, … -2.2884e-7]</td><td>[0.000005, -7.1312e-7, … 6.5943e-7]</td><td>[0.000004, -0.000002, … 0.000003]</td><td>[0.000004, -0.000002, … -0.000003]</td><td>[0.000004, -0.000001, … -4.0172e-7]</td><td>[-0.000019, -0.000023, … 0.000012]</td><td>[-0.000017, -0.000018, … 0.000013]</td><td>[-0.000015, -0.000015, … 0.00001]</td><td>[-0.000013, -0.00001, … 0.000007]</td><td>[-15, -113, … -360]</td><td>[217, 45, … 47]</td><td>true</td></tr><tr><td>&quot;PDI1&quot;</td><td>2</td><td>1</td><td>2</td><td>34.896455</td><td>11.019526</td><td>[34.896455, 34.897455, … 45.914455]</td><td>34896</td><td>11019</td><td>2</td><td>0</td><td>1.811423</td><td>[0.000001, -6.8187e-7, … 6.2975e-7]</td><td>[-0.000005, -0.000007, … -0.000005]</td><td>[0.000009, -0.000004, … -0.000032]</td><td>[5.1902e-7, -0.00005, … 0.000014]</td><td>[-0.000002, -0.000005, … -0.000006]</td><td>[0.00001, 0.00001, … -0.000009]</td><td>[-0.000022, -0.000035, … -0.000036]</td><td>[-0.000005, -0.000007, … -8.7612e-8]</td><td>[-4.5056e-7, -0.000002, … -0.000009]</td><td>[0.000001, -0.000001, … -0.000007]</td><td>[-0.000003, -0.000004, … -0.000004]</td><td>[-0.000005, -0.000007, … -0.000003]</td><td>[-0.000002, -0.000005, … -0.000003]</td><td>[-0.000004, -0.000006, … -0.000002]</td><td>[-0.000012, -0.000014, … 0.000004]</td><td>[-0.000006, -0.000008, … 6.7189e-9]</td><td>[0.000008, 0.000004, … -0.000005]</td><td>[0.000002, -0.000002, … -0.000007]</td><td>[0.000004, 2.4216e-7, … -0.00001]</td><td>[0.000008, 0.000007, … -0.000009]</td><td>[-6, -23, … -301]</td><td>[48, -6, … 24]</td><td>true</td></tr><tr><td>&quot;PDI1&quot;</td><td>2</td><td>1</td><td>3</td><td>53.729091</td><td>11.019526</td><td>[53.729091, 53.730091, … 64.747091]</td><td>53729</td><td>11019</td><td>2</td><td>0</td><td>2.518298</td><td>[0.000004, 0.000006, … -0.000015]</td><td>[0.000004, 0.000005, … -0.000027]</td><td>[0.00005, 0.000018, … -0.000042]</td><td>[-0.000046, -0.00002, … -0.000041]</td><td>[0.000004, 0.000006, … -0.000023]</td><td>[0.000036, 0.000017, … -0.000023]</td><td>[0.000032, 0.000026, … -0.000038]</td><td>[0.000005, 0.000006, … -0.000026]</td><td>[0.000012, 0.000013, … -0.000019]</td><td>[0.000013, 0.000013, … -0.000016]</td><td>[0.000014, 0.000015, … -0.000023]</td><td>[0.00001, 0.000011, … -0.000026]</td><td>[0.000016, 0.000017, … -0.000028]</td><td>[-0.000005, -0.000004, … -0.000032]</td><td>[-0.000005, -0.000004, … -0.000043]</td><td>[0.000008, 0.000009, … -0.000029]</td><td>[0.000014, 0.000012, … 0.000009]</td><td>[0.000021, 0.000021, … 0.000016]</td><td>[0.000017, 0.000017, … 0.000014]</td><td>[0.000012, 0.000012, … 0.00001]</td><td>[-281, -209, … 3]</td><td>[-1, 110, … -193]</td><td>true</td></tr><tr><td>&quot;PDI1&quot;</td><td>2</td><td>1</td><td>4</td><td>70.946727</td><td>11.019526</td><td>[70.946727, 70.947727, … 81.964727]</td><td>70946</td><td>11019</td><td>2</td><td>0</td><td>2.052713</td><td>[-0.000001, 0.000003, … 0.00002]</td><td>[-0.000005, -9.3995e-7, … 0.000018]</td><td>[-0.000016, -0.000022, … -0.000024]</td><td>[-0.000067, -0.000082, … -0.000057]</td><td>[-0.000002, 0.000001, … 0.000021]</td><td>[-0.000024, -0.000007, … 0.000027]</td><td>[0.000002, 0.000026, … 0.00002]</td><td>[-0.000003, 1.3734e-7, … 0.000019]</td><td>[-0.000008, -0.000004, … 0.000006]</td><td>[-0.000006, -0.000002, … 0.000003]</td><td>[4.5071e-7, 0.000004, … 0.000009]</td><td>[-0.000004, -6.8121e-7, … 0.000006]</td><td>[-0.000004, -0.000001, … 0.000007]</td><td>[-0.000005, -0.000003, … 0.00001]</td><td>[-0.000016, -0.000013, … 0.000006]</td><td>[-0.000004, -0.000001, … 0.00001]</td><td>[-0.000003, -0.000013, … -0.000015]</td><td>[-0.000007, -0.000018, … -0.000007]</td><td>[-0.000006, -0.000015, … -0.000002]</td><td>[-0.000013, -0.000021, … -0.000004]</td><td>[-56, 41, … -199]</td><td>[-175, 132, … -168]</td><td>true</td></tr><tr><td>&quot;PDI1&quot;</td><td>2</td><td>1</td><td>5</td><td>89.455591</td><td>11.019526</td><td>[89.455591, 89.456591, … 100.473591]</td><td>89455</td><td>11019</td><td>2</td><td>0</td><td>0.443145</td><td>[0.000009, 0.000001, … -0.000025]</td><td>[0.000004, -0.000004, … -0.000023]</td><td>[-0.000008, -0.000029, … -0.000048]</td><td>[0.000063, -0.000077, … -0.000084]</td><td>[0.000004, -0.000003, … -0.000023]</td><td>[-0.000031, -0.000035, … 0.00002]</td><td>[0.000017, 0.000022, … -0.000005]</td><td>[0.000006, 8.9125e-8, … -0.000029]</td><td>[0.000008, 0.000003, … -0.000027]</td><td>[0.000012, 0.000007, … -0.000029]</td><td>[0.00001, 0.000005, … -0.000026]</td><td>[0.000008, 0.000001, … -0.000025]</td><td>[0.000012, 0.000007, … -0.000027]</td><td>[0.000003, -0.000002, … -0.000026]</td><td>[-0.000004, -0.00001, … -0.000015]</td><td>[0.000009, 0.000003, … -0.000025]</td><td>[0.000002, 0.000003, … 0.000005]</td><td>[0.000008, 0.000009, … -9.8528e-7]</td><td>[0.000009, 0.000009, … -0.000008]</td><td>[0.000008, 0.000007, … -0.000012]</td><td>[-277, -291, … -221]</td><td>[-85, -205, … 12]</td><td>true</td></tr><tr><td>&hellip;</td><td>&hellip;</td><td>&hellip;</td><td>&hellip;</td><td>&hellip;</td><td>&hellip;</td><td>&hellip;</td><td>&hellip;</td><td>&hellip;</td><td>&hellip;</td><td>&hellip;</td><td>&hellip;</td><td>&hellip;</td><td>&hellip;</td><td>&hellip;</td><td>&hellip;</td><td>&hellip;</td><td>&hellip;</td><td>&hellip;</td><td>&hellip;</td><td>&hellip;</td><td>&hellip;</td><td>&hellip;</td><td>&hellip;</td><td>&hellip;</td><td>&hellip;</td><td>&hellip;</td><td>&hellip;</td><td>&hellip;</td><td>&hellip;</td><td>&hellip;</td><td>&hellip;</td><td>&hellip;</td><td>&hellip;</td><td>&hellip;</td></tr><tr><td>&quot;PDI1&quot;</td><td>2</td><td>12</td><td>8</td><td>134.893955</td><td>11.018443</td><td>[134.893955, 134.894955, … 145.910955]</td><td>134893</td><td>11018</td><td>2</td><td>1</td><td>1.339005</td><td>[0.000706, 0.000113, … 0.0]</td><td>[0.000015, 0.000009, … 5.4210e-20]</td><td>[-0.00001, -4.9192e-8, … 6.7763e-21]</td><td>[0.000267, 0.000046, … 0.0]</td><td>[6.3018e-8, -2.6153e-8, … 7.3017e-20]</td><td>[0.000403, 0.00001, … 0.0]</td><td>[-0.000063, -0.000059, … 5.0822e-21]</td><td>[0.00097, 0.000235, … 0.0]</td><td>[-0.000004, -0.000002, … 1.0164e-20]</td><td>[-0.000006, -0.000003, … -2.0329e-20]</td><td>[-0.000009, -0.000007, … -5.4210e-20]</td><td>[-0.000006, -0.000003, … -5.0822e-21]</td><td>[-0.000002, 0.000001, … 1.0164e-20]</td><td>[-0.000003, -4.5280e-7, … 0.0]</td><td>[-0.000009, -0.000007, … -6.7763e-21]</td><td>[-0.000005, -0.000002, … 1.0164e-20]</td><td>[0.000002, -0.000006, … -2.5411e-21]</td><td>[0.000006, -0.000001, … -6.7763e-21]</td><td>[0.000011, 0.000003, … -1.1858e-20]</td><td>[0.000017, 0.000006, … -4.2352e-21]</td><td>[-296, -222, … -293]</td><td>[-31, -136, … 119]</td><td>true</td></tr><tr><td>&quot;PDI1&quot;</td><td>2</td><td>12</td><td>9</td><td>150.167591</td><td>11.018443</td><td>[150.167591, 150.168591, … 161.184591]</td><td>150167</td><td>11018</td><td>2</td><td>1</td><td>2.221776</td><td>[-0.000121, 0.000795, … 0.0]</td><td>[0.000013, 0.000014, … 5.4210e-20]</td><td>[0.000028, 0.000013, … 6.7763e-21]</td><td>[-0.000088, 0.000068, … 0.0]</td><td>[-9.2487e-9, 3.1576e-7, … 7.3017e-20]</td><td>[-0.000295, 0.000355, … 0.0]</td><td>[0.000024, 0.000003, … 5.0822e-21]</td><td>[-0.001348, 0.00062, … 0.0]</td><td>[0.000007, 0.000011, … 1.0164e-20]</td><td>[0.000018, 0.000021, … -2.0329e-20]</td><td>[0.000003, 0.000006, … -5.4210e-20]</td><td>[-0.000002, 7.5282e-7, … -5.0822e-21]</td><td>[0.000004, 0.000006, … 1.0164e-20]</td><td>[0.000034, 0.000036, … 0.0]</td><td>[-0.000006, -0.000004, … -6.7763e-21]</td><td>[0.000013, 0.000014, … 1.0164e-20]</td><td>[0.000009, 0.000006, … -2.5411e-21]</td><td>[0.000004, 3.4474e-7, … -6.7763e-21]</td><td>[0.000006, 0.000004, … -1.1858e-20]</td><td>[0.000011, 0.000007, … -4.2352e-21]</td><td>[-208, -42, … -17]</td><td>[-54, 200, … -146]</td><td>true</td></tr><tr><td>&quot;PDI1&quot;</td><td>2</td><td>12</td><td>10</td><td>167.065227</td><td>11.018443</td><td>[167.065227, 167.066227, … 178.082227]</td><td>167065</td><td>11018</td><td>2</td><td>1</td><td>-0.696225</td><td>[0.00048, -0.000111, … 0.0]</td><td>[-0.000003, -0.000007, … 5.4210e-20]</td><td>[-0.000035, -0.00004, … 6.7763e-21]</td><td>[0.000264, 0.000042, … 0.0]</td><td>[-1.3278e-7, 2.9667e-10, … 7.3017e-20]</td><td>[0.000527, 0.000248, … 0.0]</td><td>[-0.000007, 0.000022, … 5.0822e-21]</td><td>[0.00096, 0.000974, … 0.0]</td><td>[-0.000003, -0.000005, … 1.0164e-20]</td><td>[-2.8684e-7, -0.000002, … -2.0329e-20]</td><td>[0.000002, -1.6764e-7, … -5.4210e-20]</td><td>[-0.000003, -0.000006, … -5.0822e-21]</td><td>[-0.000003, -0.000005, … 1.0164e-20]</td><td>[-0.000008, -0.000011, … 0.0]</td><td>[-0.000004, -0.000007, … -6.7763e-21]</td><td>[0.000004, 0.000002, … 1.0164e-20]</td><td>[0.000007, 0.000004, … -2.5411e-21]</td><td>[-0.000006, -0.000007, … -6.7763e-21]</td><td>[-0.00001, -0.00001, … -1.1858e-20]</td><td>[-0.000018, -0.000018, … -4.2352e-21]</td><td>[-70, 15, … -239]</td><td>[120, 190, … 215]</td><td>true</td></tr><tr><td>&quot;PDI1&quot;</td><td>2</td><td>12</td><td>11</td><td>182.940955</td><td>11.018443</td><td>[182.940955, 182.941955, … 193.957955]</td><td>182940</td><td>11018</td><td>2</td><td>1</td><td>-0.450917</td><td>[-0.000564, 0.000683, … 0.0]</td><td>[0.000047, 0.000014, … 5.4210e-20]</td><td>[0.000014, -0.000007, … 6.7763e-21]</td><td>[-0.000349, 0.000079, … 0.0]</td><td>[1.9035e-7, 2.9359e-7, … 7.3017e-20]</td><td>[-0.000929, 0.000207, … 0.0]</td><td>[0.00001, 0.000003, … 5.0822e-21]</td><td>[-0.001829, 0.000117, … 0.0]</td><td>[-0.00003, -0.00002, … 1.0164e-20]</td><td>[-0.000026, -0.000019, … -2.0329e-20]</td><td>[-0.000037, -0.000026, … -5.4210e-20]</td><td>[-0.000033, -0.000023, … -5.0822e-21]</td><td>[-0.000021, -0.000013, … 1.0164e-20]</td><td>[-0.000047, -0.000039, … 0.0]</td><td>[-0.000016, -0.000007, … -6.7763e-21]</td><td>[-0.00003, -0.000022, … 1.0164e-20]</td><td>[-0.000019, -0.000022, … -2.5411e-21]</td><td>[-0.000011, -0.000013, … -6.7763e-21]</td><td>[-0.000009, -0.000008, … -1.1858e-20]</td><td>[-0.000013, -0.000012, … -4.2352e-21]</td><td>[-313, -49, … -233]</td><td>[-61, 182, … 218]</td><td>true</td></tr><tr><td>&quot;PDI1&quot;</td><td>2</td><td>12</td><td>12</td><td>200.216591</td><td>11.018443</td><td>[200.216591, 200.217591, … 211.233591]</td><td>200216</td><td>11018</td><td>2</td><td>1</td><td>1.400404</td><td>[0.000198, 0.00015, … 0.0]</td><td>[0.000003, -0.000014, … 5.4210e-20]</td><td>[5.0305e-7, 0.000005, … 6.7763e-21]</td><td>[0.000284, 0.000051, … 0.0]</td><td>[-3.6222e-9, 2.9967e-7, … 7.3017e-20]</td><td>[0.000072, 0.000252, … 0.0]</td><td>[0.000026, 0.000014, … 5.0822e-21]</td><td>[0.000325, 0.000265, … 0.0]</td><td>[0.000034, 0.000033, … 1.0164e-20]</td><td>[0.000048, 0.000049, … -2.0329e-20]</td><td>[0.000021, 0.000021, … -5.4210e-20]</td><td>[0.000026, 0.000025, … -5.0822e-21]</td><td>[0.000032, 0.000033, … 1.0164e-20]</td><td>[0.000019, 0.000019, … 0.0]</td><td>[-0.000013, -0.000013, … -6.7763e-21]</td><td>[0.000021, 0.000021, … 1.0164e-20]</td><td>[-0.000007, -0.000008, … -2.5411e-21]</td><td>[-0.000019, -0.000022, … -6.7763e-21]</td><td>[-0.000024, -0.000027, … -1.1858e-20]</td><td>[-0.000029, -0.000028, … -4.2352e-21]</td><td>[-202, -186, … 12]</td><td>[-86, 43, … 171]</td><td>true</td></tr></tbody></table></div>"
      ],
      "text/plain": [
       "shape: (144, 35)\n",
       "┌─────────────┬─────────┬───────┬───────┬───┬─────────────┬─────────────┬─────────────┬────────────┐\n",
       "│ participant ┆ session ┆ block ┆ trial ┆ … ┆ ECOG_4      ┆ x           ┆ y           ┆ tracing_co │\n",
       "│ _id         ┆ ---     ┆ ---   ┆ ---   ┆   ┆ ---         ┆ ---         ┆ ---         ┆ ordinates_ │\n",
       "│ ---         ┆ u32     ┆ u32   ┆ u32   ┆   ┆ list[f32]   ┆ list[i64]   ┆ list[i64]   ┆ present    │\n",
       "│ str         ┆         ┆       ┆       ┆   ┆             ┆             ┆             ┆ ---        │\n",
       "│             ┆         ┆       ┆       ┆   ┆             ┆             ┆             ┆ bool       │\n",
       "╞═════════════╪═════════╪═══════╪═══════╪═══╪═════════════╪═════════════╪═════════════╪════════════╡\n",
       "│ PDI1        ┆ 2       ┆ 1     ┆ 1     ┆ … ┆ [-0.000013, ┆ [-15, -113, ┆ [217, 45, … ┆ true       │\n",
       "│             ┆         ┆       ┆       ┆   ┆ -0.00001, … ┆ … -360]     ┆ 47]         ┆            │\n",
       "│             ┆         ┆       ┆       ┆   ┆ 0.0000…     ┆             ┆             ┆            │\n",
       "│ PDI1        ┆ 2       ┆ 1     ┆ 2     ┆ … ┆ [0.000008,  ┆ [-6, -23, … ┆ [48, -6, …  ┆ true       │\n",
       "│             ┆         ┆       ┆       ┆   ┆ 0.000007, … ┆ -301]       ┆ 24]         ┆            │\n",
       "│             ┆         ┆       ┆       ┆   ┆ -0.0000…    ┆             ┆             ┆            │\n",
       "│ PDI1        ┆ 2       ┆ 1     ┆ 3     ┆ … ┆ [0.000012,  ┆ [-281,      ┆ [-1, 110, … ┆ true       │\n",
       "│             ┆         ┆       ┆       ┆   ┆ 0.000012, … ┆ -209, … 3]  ┆ -193]       ┆            │\n",
       "│             ┆         ┆       ┆       ┆   ┆ 0.00001…    ┆             ┆             ┆            │\n",
       "│ PDI1        ┆ 2       ┆ 1     ┆ 4     ┆ … ┆ [-0.000013, ┆ [-56, 41, … ┆ [-175, 132, ┆ true       │\n",
       "│             ┆         ┆       ┆       ┆   ┆ -0.000021,  ┆ -199]       ┆ … -168]     ┆            │\n",
       "│             ┆         ┆       ┆       ┆   ┆ … -0.00…    ┆             ┆             ┆            │\n",
       "│ PDI1        ┆ 2       ┆ 1     ┆ 5     ┆ … ┆ [0.000008,  ┆ [-277,      ┆ [-85, -205, ┆ true       │\n",
       "│             ┆         ┆       ┆       ┆   ┆ 0.000007, … ┆ -291, …     ┆ … 12]       ┆            │\n",
       "│             ┆         ┆       ┆       ┆   ┆ -0.0000…    ┆ -221]       ┆             ┆            │\n",
       "│ …           ┆ …       ┆ …     ┆ …     ┆ … ┆ …           ┆ …           ┆ …           ┆ …          │\n",
       "│ PDI1        ┆ 2       ┆ 12    ┆ 8     ┆ … ┆ [0.000017,  ┆ [-296,      ┆ [-31, -136, ┆ true       │\n",
       "│             ┆         ┆       ┆       ┆   ┆ 0.000006, … ┆ -222, …     ┆ … 119]      ┆            │\n",
       "│             ┆         ┆       ┆       ┆   ┆ -4.2352…    ┆ -293]       ┆             ┆            │\n",
       "│ PDI1        ┆ 2       ┆ 12    ┆ 9     ┆ … ┆ [0.000011,  ┆ [-208, -42, ┆ [-54, 200,  ┆ true       │\n",
       "│             ┆         ┆       ┆       ┆   ┆ 0.000007, … ┆ … -17]      ┆ … -146]     ┆            │\n",
       "│             ┆         ┆       ┆       ┆   ┆ -4.2352…    ┆             ┆             ┆            │\n",
       "│ PDI1        ┆ 2       ┆ 12    ┆ 10    ┆ … ┆ [-0.000018, ┆ [-70, 15, … ┆ [120, 190,  ┆ true       │\n",
       "│             ┆         ┆       ┆       ┆   ┆ -0.000018,  ┆ -239]       ┆ … 215]      ┆            │\n",
       "│             ┆         ┆       ┆       ┆   ┆ … -4.23…    ┆             ┆             ┆            │\n",
       "│ PDI1        ┆ 2       ┆ 12    ┆ 11    ┆ … ┆ [-0.000013, ┆ [-313, -49, ┆ [-61, 182,  ┆ true       │\n",
       "│             ┆         ┆       ┆       ┆   ┆ -0.000012,  ┆ … -233]     ┆ … 218]      ┆            │\n",
       "│             ┆         ┆       ┆       ┆   ┆ … -4.23…    ┆             ┆             ┆            │\n",
       "│ PDI1        ┆ 2       ┆ 12    ┆ 12    ┆ … ┆ [-0.000029, ┆ [-202,      ┆ [-86, 43, … ┆ true       │\n",
       "│             ┆         ┆       ┆       ┆   ┆ -0.000028,  ┆ -186, … 12] ┆ 171]        ┆            │\n",
       "│             ┆         ┆       ┆       ┆   ┆ … -4.23…    ┆             ┆             ┆            │\n",
       "└─────────────┴─────────┴───────┴───────┴───┴─────────────┴─────────────┴─────────────┴────────────┘"
      ]
     },
     "execution_count": 10,
     "metadata": {},
     "output_type": "execute_result"
    }
   ],
   "source": [
    "participants"
   ]
  }
 ],
 "metadata": {
  "kernelspec": {
   "display_name": "neuro",
   "language": "python",
   "name": "python3"
  },
  "language_info": {
   "codemirror_mode": {
    "name": "ipython",
    "version": 3
   },
   "file_extension": ".py",
   "mimetype": "text/x-python",
   "name": "python",
   "nbconvert_exporter": "python",
   "pygments_lexer": "ipython3",
   "version": "3.11.13"
  }
 },
 "nbformat": 4,
 "nbformat_minor": 5
}
