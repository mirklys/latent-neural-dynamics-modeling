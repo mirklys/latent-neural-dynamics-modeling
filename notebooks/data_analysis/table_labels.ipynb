{
 "cells": [
  {
   "cell_type": "code",
   "execution_count": 1,
   "id": "ae25dfaf",
   "metadata": {},
   "outputs": [],
   "source": [
    "from pathlib import Path\n",
    "import polars as pl"
   ]
  },
  {
   "cell_type": "code",
   "execution_count": 2,
   "id": "23b569ed",
   "metadata": {},
   "outputs": [],
   "source": [
    "ROOT_DIR = Path(\"/home/bobby/repos/latent-neural-dynamics-modeling\")\n",
    "saved_dir = ROOT_DIR / \"data\""
   ]
  },
  {
   "cell_type": "code",
   "execution_count": 3,
   "id": "534c9c4c",
   "metadata": {},
   "outputs": [],
   "source": [
    "participants = pl.read_parquet(\n",
    "    saved_dir / \"resampled\" / \"participants_intermediate.parquet\"\n",
    ")"
   ]
  },
  {
   "cell_type": "code",
   "execution_count": 4,
   "id": "b273bde6",
   "metadata": {},
   "outputs": [],
   "source": [
    "PDI_labels = pl.read_csv(saved_dir / \"PDI_labels.csv\")\n",
    "PDI_labels_trials = pl.read_csv(saved_dir / \"PDI_labels_trials.csv\")\n",
    "PDI_trial_durations = pl.read_csv(saved_dir / \"PDI_trial_durations.csv\")"
   ]
  },
  {
   "cell_type": "code",
   "execution_count": 5,
   "id": "3b259b05",
   "metadata": {},
   "outputs": [],
   "source": [
    "PDI_labels_trials = PDI_labels_trials.select(\n",
    "    pl.col(\"subject\").alias(\"participant_id\"),\n",
    "    pl.col(\"session\").cast(pl.UInt32),\n",
    "    pl.col(\"ix_block\").cast(pl.UInt32).alias(\"block\"),\n",
    "    pl.col(\"ix_trial\").cast(pl.UInt32).alias(\"trial\"),\n",
    "    pl.when(pl.col(\"dbs_stim\") == \"on\").then(1).otherwise(0).alias(\"dbs_stim\"),\n",
    "    pl.col(\"yscore\").cast(pl.Float32),\n",
    ")\n",
    "\n",
    "PDI_labels_trials = PDI_labels_trials.sort(\n",
    "    [\"participant_id\", \"session\", \"block\", \"trial\"]\n",
    ")\n",
    "\n",
    "PDI_labels_trials = (\n",
    "    PDI_labels_trials.group_by(\n",
    "        [\"participant_id\", \"session\", \"block\"], maintain_order=True\n",
    "    )\n",
    "    .agg(\n",
    "        pl.col(\"trial\").alias(\"trials\"),\n",
    "        pl.col(\"dbs_stim\"),\n",
    "        pl.col(\"yscore\").alias(\"yscores\"),\n",
    "    )\n",
    "    .with_columns(pl.col(\"trials\").list.len().alias(\"trial_count\"))\n",
    ")"
   ]
  },
  {
   "cell_type": "code",
   "execution_count": 6,
   "id": "65dd5172",
   "metadata": {},
   "outputs": [],
   "source": [
    "PDI_labels = PDI_labels.select(\n",
    "    pl.col(\"subject\").alias(\"participant_id\"),\n",
    "    pl.col(\"session\").cast(pl.UInt32),\n",
    "    pl.col(\"ix_block\").cast(pl.UInt32).alias(\"block\"),\n",
    "    pl.when(pl.col(\"dbs_stim\") == \"on\").then(1).otherwise(0).alias(\"dbs_stim\"),\n",
    "    pl.col(\"valid_trial_cnt\").cast(pl.UInt32),\n",
    ")\n",
    "\n",
    "PDI_labels = PDI_labels.sort([\"participant_id\", \"session\", \"block\"])"
   ]
  },
  {
   "cell_type": "code",
   "execution_count": 7,
   "id": "38e5cbe3",
   "metadata": {},
   "outputs": [],
   "source": [
    "PDI_trial_durations = PDI_trial_durations.select(\n",
    "    pl.col(\"sub\").str.split(by=\"-\").list.get(-1).alias(\"participant_id\"),\n",
    "    pl.col(\"ses\").str.split(by=\"-\").list.get(-1).cast(pl.UInt32).alias(\"session\"),\n",
    "    pl.col(\"block\").cast(pl.UInt32),\n",
    "    pl.col(\"dt_s\").cast(pl.Float32),\n",
    ").sort([\"participant_id\", \"session\", \"block\"])"
   ]
  },
  {
   "cell_type": "code",
   "execution_count": 8,
   "id": "24781b4e",
   "metadata": {},
   "outputs": [],
   "source": [
    "participants = (\n",
    "    participants.with_columns(pl.col(\"participant_id\").str.split(by=\"-\").list.get(-1))\n",
    "    .with_columns(\n",
    "        pl.col(\"ieeg_headers_file\")\n",
    "        .str.split(\"/\")\n",
    "        .list.get(-1)\n",
    "        .str.split(\".\")\n",
    "        .list.get(0)\n",
    "        .alias(\"base_ieeg_file\")\n",
    "    )\n",
    "    .with_columns(\n",
    "        pl.concat_str(\n",
    "            pl.lit(str(saved_dir / \"resampled\")),\n",
    "            pl.concat_str(pl.col(\"base_ieeg_file\"), pl.lit(\"parquet\"), separator=\".\"),\n",
    "            separator=\"/\",\n",
    "        ).alias(\"ieeg_parquet\"),\n",
    "        pl.col(\"session\").cast(pl.UInt32),\n",
    "        pl.col(\"run\").cast(pl.UInt32).alias(\"block\"),\n",
    "        pl.col(\"session_path\")\n",
    "        .str.split(by=\"/\")\n",
    "        .list.tail(2)\n",
    "        .list.join(separator=\"/\")\n",
    "        .map_elements(lambda s: str(saved_dir.joinpath(s)), return_dtype=pl.String)\n",
    "        .alias(\"session_path\"),\n",
    "    )\n",
    "    .drop(\"base_ieeg_file\", \"ieeg_headers_file\", \"durations\", \"run\")\n",
    ")\n",
    "\n",
    "participants = participants.drop(\"participant_path\", \"ieeg_path\", \"ieeg_file\").unique()"
   ]
  },
  {
   "cell_type": "code",
   "execution_count": 9,
   "id": "8cead8c3",
   "metadata": {},
   "outputs": [],
   "source": [
    "PDI_trial_durations = PDI_trial_durations.join(\n",
    "    PDI_labels, on=[\"participant_id\", \"session\", \"block\"], how=\"left\"\n",
    ")\n",
    "PDI_trial_durations = PDI_trial_durations.join(\n",
    "    PDI_labels_trials, on=[\"participant_id\", \"session\", \"block\"], how=\"left\"\n",
    ")"
   ]
  },
  {
   "cell_type": "code",
   "execution_count": 10,
   "id": "a0852789",
   "metadata": {},
   "outputs": [],
   "source": [
    "PDI_trial_durations = PDI_trial_durations.with_columns(\n",
    "    pl.col(\"valid_trial_cnt\").fill_null(-1), pl.col(\"trial_count\").fill_null(-1)\n",
    ")"
   ]
  },
  {
   "cell_type": "code",
   "execution_count": 11,
   "id": "b5c17db6",
   "metadata": {},
   "outputs": [
    {
     "data": {
      "text/html": [
       "<div><style>\n",
       ".dataframe > thead > tr,\n",
       ".dataframe > tbody > tr {\n",
       "  text-align: right;\n",
       "  white-space: pre-wrap;\n",
       "}\n",
       "</style>\n",
       "<small>shape: (2, 10)</small><table border=\"1\" class=\"dataframe\"><thead><tr><th>participant_id</th><th>session</th><th>block</th><th>dt_s</th><th>dbs_stim</th><th>valid_trial_cnt</th><th>trials</th><th>dbs_stim_right</th><th>yscores</th><th>trial_count</th></tr><tr><td>str</td><td>u32</td><td>u32</td><td>f32</td><td>i32</td><td>i64</td><td>list[u32]</td><td>list[i32]</td><td>list[f32]</td><td>i64</td></tr></thead><tbody><tr><td>&quot;PDI3&quot;</td><td>4</td><td>12</td><td>9.018765</td><td>1</td><td>11</td><td>null</td><td>null</td><td>null</td><td>-1</td></tr><tr><td>&quot;PDI4&quot;</td><td>3</td><td>12</td><td>9.002478</td><td>1</td><td>12</td><td>null</td><td>null</td><td>null</td><td>-1</td></tr></tbody></table></div>"
      ],
      "text/plain": [
       "shape: (2, 10)\n",
       "┌─────────────┬─────────┬───────┬──────────┬───┬───────────┬─────────────┬───────────┬─────────────┐\n",
       "│ participant ┆ session ┆ block ┆ dt_s     ┆ … ┆ trials    ┆ dbs_stim_ri ┆ yscores   ┆ trial_count │\n",
       "│ _id         ┆ ---     ┆ ---   ┆ ---      ┆   ┆ ---       ┆ ght         ┆ ---       ┆ ---         │\n",
       "│ ---         ┆ u32     ┆ u32   ┆ f32      ┆   ┆ list[u32] ┆ ---         ┆ list[f32] ┆ i64         │\n",
       "│ str         ┆         ┆       ┆          ┆   ┆           ┆ list[i32]   ┆           ┆             │\n",
       "╞═════════════╪═════════╪═══════╪══════════╪═══╪═══════════╪═════════════╪═══════════╪═════════════╡\n",
       "│ PDI3        ┆ 4       ┆ 12    ┆ 9.018765 ┆ … ┆ null      ┆ null        ┆ null      ┆ -1          │\n",
       "│ PDI4        ┆ 3       ┆ 12    ┆ 9.002478 ┆ … ┆ null      ┆ null        ┆ null      ┆ -1          │\n",
       "└─────────────┴─────────┴───────┴──────────┴───┴───────────┴─────────────┴───────────┴─────────────┘"
      ]
     },
     "execution_count": 11,
     "metadata": {},
     "output_type": "execute_result"
    }
   ],
   "source": [
    "# PDI4-3-12 all trials valid\n",
    "# PDI3-4-12 all good for classification but won't take the x and y coordinates\n",
    "PDI_trial_durations.filter(pl.col(\"valid_trial_cnt\") != pl.col(\"trial_count\"))"
   ]
  },
  {
   "cell_type": "code",
   "execution_count": 12,
   "id": "f2477f83",
   "metadata": {},
   "outputs": [
    {
     "data": {
      "text/plain": [
       "\"\\nProcess the PDI_trial_durations DataFrame according to the following logic:\\n    - For any row where trial_count is -1 but valid_trial_cnt is not -1, set the 'trials'\\n        column to the list [1, 2, ..., 12]. (This indicates there are no pre-assigned trial labels.)\\n    - For rows where both trial_count and valid_trial_cnt are -1, remove these rows from\\n        the DataFrame.\\nThe function prints all the rows that were removed.\\n\""
      ]
     },
     "execution_count": 12,
     "metadata": {},
     "output_type": "execute_result"
    }
   ],
   "source": [
    "\"\"\"\n",
    "Process the PDI_trial_durations DataFrame according to the following logic:\n",
    "    - For any row where trial_count is -1 but valid_trial_cnt is not -1, set the 'trials'\n",
    "        column to the list [1, 2, ..., 12]. (This indicates there are no pre-assigned trial labels.)\n",
    "    - For rows where both trial_count and valid_trial_cnt are -1, remove these rows from\n",
    "        the DataFrame.\n",
    "The function prints all the rows that were removed.\n",
    "\"\"\""
   ]
  },
  {
   "cell_type": "code",
   "execution_count": 13,
   "id": "35a4b3e5",
   "metadata": {},
   "outputs": [
    {
     "name": "stdout",
     "output_type": "stream",
     "text": [
      "Removed rows:\n",
      "shape: (4, 5)\n",
      "┌────────────────┬─────────┬───────┬─────────────────┬─────────────┐\n",
      "│ participant_id ┆ session ┆ block ┆ valid_trial_cnt ┆ trial_count │\n",
      "│ ---            ┆ ---     ┆ ---   ┆ ---             ┆ ---         │\n",
      "│ str            ┆ u32     ┆ u32   ┆ i64             ┆ i64         │\n",
      "╞════════════════╪═════════╪═══════╪═════════════════╪═════════════╡\n",
      "│ PDI3           ┆ 4       ┆ 1     ┆ -1              ┆ -1          │\n",
      "│ PDI3           ┆ 4       ┆ 2     ┆ -1              ┆ -1          │\n",
      "│ PDI3           ┆ 4       ┆ 3     ┆ -1              ┆ -1          │\n",
      "│ PDI4           ┆ 3       ┆ 9     ┆ -1              ┆ -1          │\n",
      "└────────────────┴─────────┴───────┴─────────────────┴─────────────┘\n"
     ]
    }
   ],
   "source": [
    "removed_rows = PDI_trial_durations.filter(\n",
    "    (pl.col(\"trial_count\") == -1) & (pl.col(\"valid_trial_cnt\") == -1)\n",
    ")\n",
    "print(\"Removed rows:\")\n",
    "print(\n",
    "    removed_rows.select(\n",
    "        \"participant_id\", \"session\", \"block\", \"valid_trial_cnt\", \"trial_count\"\n",
    "    )\n",
    ")"
   ]
  },
  {
   "cell_type": "code",
   "execution_count": 14,
   "id": "86bcdd18",
   "metadata": {},
   "outputs": [],
   "source": [
    "# Exclude the rows where both trial_count and valid_trial_cnt are -1\n",
    "PDI_trial_durations = PDI_trial_durations.filter(\n",
    "    ~((pl.col(\"trial_count\") == -1) & (pl.col(\"valid_trial_cnt\") == -1))\n",
    ")"
   ]
  },
  {
   "cell_type": "code",
   "execution_count": 15,
   "id": "a78c6e17",
   "metadata": {},
   "outputs": [],
   "source": [
    "PDI_trial_durations = PDI_trial_durations.with_columns(\n",
    "    [\n",
    "        pl.when(pl.col(\"trial_count\") == -1)\n",
    "        .then(pl.lit(list(range(1, 13))))\n",
    "        .otherwise(pl.col(\"trials\"))\n",
    "        .alias(\"trials\"),\n",
    "        pl.when(pl.col(\"trial_count\") == -1)\n",
    "        .then(pl.col(\"valid_trial_cnt\").eq(12))\n",
    "        .otherwise(pl.col(\"trial_count\") == pl.col(\"valid_trial_cnt\"))\n",
    "        .alias(\"labels\"),\n",
    "    ]\n",
    ")"
   ]
  },
  {
   "cell_type": "code",
   "execution_count": 16,
   "id": "097cd752",
   "metadata": {},
   "outputs": [
    {
     "data": {
      "text/html": [
       "<div><style>\n",
       ".dataframe > thead > tr,\n",
       ".dataframe > tbody > tr {\n",
       "  text-align: right;\n",
       "  white-space: pre-wrap;\n",
       "}\n",
       "</style>\n",
       "<small>shape: (1, 11)</small><table border=\"1\" class=\"dataframe\"><thead><tr><th>participant_id</th><th>session</th><th>block</th><th>dt_s</th><th>dbs_stim</th><th>valid_trial_cnt</th><th>trials</th><th>dbs_stim_right</th><th>yscores</th><th>trial_count</th><th>labels</th></tr><tr><td>str</td><td>u32</td><td>u32</td><td>f32</td><td>i32</td><td>i64</td><td>list[u32]</td><td>list[i32]</td><td>list[f32]</td><td>i64</td><td>bool</td></tr></thead><tbody><tr><td>&quot;PDI3&quot;</td><td>4</td><td>12</td><td>9.018765</td><td>1</td><td>11</td><td>[1, 2, … 12]</td><td>null</td><td>null</td><td>-1</td><td>false</td></tr></tbody></table></div>"
      ],
      "text/plain": [
       "shape: (1, 11)\n",
       "┌───────────────┬─────────┬───────┬──────────┬───┬──────────────┬───────────┬─────────────┬────────┐\n",
       "│ participant_i ┆ session ┆ block ┆ dt_s     ┆ … ┆ dbs_stim_rig ┆ yscores   ┆ trial_count ┆ labels │\n",
       "│ d             ┆ ---     ┆ ---   ┆ ---      ┆   ┆ ht           ┆ ---       ┆ ---         ┆ ---    │\n",
       "│ ---           ┆ u32     ┆ u32   ┆ f32      ┆   ┆ ---          ┆ list[f32] ┆ i64         ┆ bool   │\n",
       "│ str           ┆         ┆       ┆          ┆   ┆ list[i32]    ┆           ┆             ┆        │\n",
       "╞═══════════════╪═════════╪═══════╪══════════╪═══╪══════════════╪═══════════╪═════════════╪════════╡\n",
       "│ PDI3          ┆ 4       ┆ 12    ┆ 9.018765 ┆ … ┆ null         ┆ null      ┆ -1          ┆ false  │\n",
       "└───────────────┴─────────┴───────┴──────────┴───┴──────────────┴───────────┴─────────────┴────────┘"
      ]
     },
     "execution_count": 16,
     "metadata": {},
     "output_type": "execute_result"
    }
   ],
   "source": [
    "PDI_trial_durations.filter(~pl.col(\"labels\"))"
   ]
  },
  {
   "cell_type": "code",
   "execution_count": 17,
   "id": "e8d98640",
   "metadata": {},
   "outputs": [],
   "source": [
    "PDI_trial_durations = PDI_trial_durations.drop(\n",
    "    \"valid_trial_cnt\", \"trial_count\", \"dbs_stim_right\"\n",
    ")"
   ]
  },
  {
   "cell_type": "code",
   "execution_count": 18,
   "id": "b51ebc3e",
   "metadata": {},
   "outputs": [],
   "source": [
    "participants = participants.join(\n",
    "    PDI_trial_durations, on=[\"participant_id\", \"session\", \"block\"], how=\"left\"\n",
    ")"
   ]
  },
  {
   "cell_type": "code",
   "execution_count": 19,
   "id": "93faf300",
   "metadata": {},
   "outputs": [
    {
     "data": {
      "text/html": [
       "<div><style>\n",
       ".dataframe > thead > tr,\n",
       ".dataframe > tbody > tr {\n",
       "  text-align: right;\n",
       "  white-space: pre-wrap;\n",
       "}\n",
       "</style>\n",
       "<small>shape: (4, 11)</small><table border=\"1\" class=\"dataframe\"><thead><tr><th>participant_id</th><th>session_path</th><th>session</th><th>onsets</th><th>ieeg_parquet</th><th>block</th><th>dt_s</th><th>dbs_stim</th><th>trials</th><th>yscores</th><th>labels</th></tr><tr><td>str</td><td>str</td><td>u32</td><td>list[f64]</td><td>str</td><td>u32</td><td>f32</td><td>i32</td><td>list[u32]</td><td>list[f32]</td><td>bool</td></tr></thead><tbody><tr><td>&quot;PDI3&quot;</td><td>&quot;/home/bobby/repos/latent-neura…</td><td>4</td><td>[12.227955, 29.381682, … 199.263364]</td><td>&quot;/home/bobby/repos/latent-neura…</td><td>3</td><td>null</td><td>null</td><td>null</td><td>null</td><td>null</td></tr><tr><td>&quot;PDI4&quot;</td><td>&quot;/home/bobby/repos/latent-neura…</td><td>3</td><td>[10.723909, 25.000409, … 190.073364]</td><td>&quot;/home/bobby/repos/latent-neura…</td><td>9</td><td>null</td><td>null</td><td>null</td><td>null</td><td>null</td></tr><tr><td>&quot;PDI3&quot;</td><td>&quot;/home/bobby/repos/latent-neura…</td><td>4</td><td>[12.854636, 30.407727, … 268.204773]</td><td>&quot;/home/bobby/repos/latent-neura…</td><td>2</td><td>null</td><td>null</td><td>null</td><td>null</td><td>null</td></tr><tr><td>&quot;PDI3&quot;</td><td>&quot;/home/bobby/repos/latent-neura…</td><td>4</td><td>[62.370591, 84.879727, … 269.472682]</td><td>&quot;/home/bobby/repos/latent-neura…</td><td>1</td><td>null</td><td>null</td><td>null</td><td>null</td><td>null</td></tr></tbody></table></div>"
      ],
      "text/plain": [
       "shape: (4, 11)\n",
       "┌─────────────┬─────────────┬─────────┬────────────┬───┬──────────┬───────────┬───────────┬────────┐\n",
       "│ participant ┆ session_pat ┆ session ┆ onsets     ┆ … ┆ dbs_stim ┆ trials    ┆ yscores   ┆ labels │\n",
       "│ _id         ┆ h           ┆ ---     ┆ ---        ┆   ┆ ---      ┆ ---       ┆ ---       ┆ ---    │\n",
       "│ ---         ┆ ---         ┆ u32     ┆ list[f64]  ┆   ┆ i32      ┆ list[u32] ┆ list[f32] ┆ bool   │\n",
       "│ str         ┆ str         ┆         ┆            ┆   ┆          ┆           ┆           ┆        │\n",
       "╞═════════════╪═════════════╪═════════╪════════════╪═══╪══════════╪═══════════╪═══════════╪════════╡\n",
       "│ PDI3        ┆ /home/bobby ┆ 4       ┆ [12.227955 ┆ … ┆ null     ┆ null      ┆ null      ┆ null   │\n",
       "│             ┆ /repos/late ┆         ┆ ,          ┆   ┆          ┆           ┆           ┆        │\n",
       "│             ┆ nt-neura…   ┆         ┆ 29.381682, ┆   ┆          ┆           ┆           ┆        │\n",
       "│             ┆             ┆         ┆ … 199.2…   ┆   ┆          ┆           ┆           ┆        │\n",
       "│ PDI4        ┆ /home/bobby ┆ 3       ┆ [10.723909 ┆ … ┆ null     ┆ null      ┆ null      ┆ null   │\n",
       "│             ┆ /repos/late ┆         ┆ ,          ┆   ┆          ┆           ┆           ┆        │\n",
       "│             ┆ nt-neura…   ┆         ┆ 25.000409, ┆   ┆          ┆           ┆           ┆        │\n",
       "│             ┆             ┆         ┆ … 190.0…   ┆   ┆          ┆           ┆           ┆        │\n",
       "│ PDI3        ┆ /home/bobby ┆ 4       ┆ [12.854636 ┆ … ┆ null     ┆ null      ┆ null      ┆ null   │\n",
       "│             ┆ /repos/late ┆         ┆ ,          ┆   ┆          ┆           ┆           ┆        │\n",
       "│             ┆ nt-neura…   ┆         ┆ 30.407727, ┆   ┆          ┆           ┆           ┆        │\n",
       "│             ┆             ┆         ┆ … 268.2…   ┆   ┆          ┆           ┆           ┆        │\n",
       "│ PDI3        ┆ /home/bobby ┆ 4       ┆ [62.370591 ┆ … ┆ null     ┆ null      ┆ null      ┆ null   │\n",
       "│             ┆ /repos/late ┆         ┆ ,          ┆   ┆          ┆           ┆           ┆        │\n",
       "│             ┆ nt-neura…   ┆         ┆ 84.879727, ┆   ┆          ┆           ┆           ┆        │\n",
       "│             ┆             ┆         ┆ … 269.4…   ┆   ┆          ┆           ┆           ┆        │\n",
       "└─────────────┴─────────────┴─────────┴────────────┴───┴──────────┴───────────┴───────────┴────────┘"
      ]
     },
     "execution_count": 19,
     "metadata": {},
     "output_type": "execute_result"
    }
   ],
   "source": [
    "participants.filter(pl.col(\"dbs_stim\").is_null())"
   ]
  },
  {
   "cell_type": "code",
   "execution_count": 20,
   "id": "7ff5545c",
   "metadata": {},
   "outputs": [],
   "source": [
    "participants = participants.filter(pl.col(\"dbs_stim\").is_not_null())"
   ]
  },
  {
   "cell_type": "code",
   "execution_count": 21,
   "id": "c3add831",
   "metadata": {},
   "outputs": [],
   "source": [
    "participants.write_parquet(\n",
    "    saved_dir / \"participants.parquet\",\n",
    "    partition_by=[\"participant_id\", \"session\"],\n",
    ")"
   ]
  },
  {
   "cell_type": "code",
   "execution_count": 22,
   "id": "9e9245a1",
   "metadata": {},
   "outputs": [],
   "source": [
    "participants = pl.read_parquet(\n",
    "    \"/home/bobby/repos/latent-neural-dynamics-modeling/resampled_recordings/participants/participant_id=PDI1/session=2/*\"\n",
    ")"
   ]
  },
  {
   "cell_type": "code",
   "execution_count": 23,
   "id": "c60c3004",
   "metadata": {},
   "outputs": [
    {
     "data": {
      "text/html": [
       "<div><style>\n",
       ".dataframe > thead > tr,\n",
       ".dataframe > tbody > tr {\n",
       "  text-align: right;\n",
       "  white-space: pre-wrap;\n",
       "}\n",
       "</style>\n",
       "<small>shape: (144, 41)</small><table border=\"1\" class=\"dataframe\"><thead><tr><th>participant_id</th><th>session</th><th>block</th><th>trial</th><th>onset</th><th>margined_onset</th><th>margined_duration</th><th>time</th><th>time_original</th><th>motion_time</th><th>original_length_ts</th><th>start_ts</th><th>trial_length_ts</th><th>chunk_margin</th><th>dbs_stim</th><th>yscore</th><th>LFP_1</th><th>LFP_2</th><th>LFP_3</th><th>LFP_4</th><th>LFP_5</th><th>LFP_6</th><th>LFP_7</th><th>LFP_8</th><th>LFP_9</th><th>LFP_10</th><th>LFP_11</th><th>LFP_12</th><th>LFP_13</th><th>LFP_14</th><th>LFP_15</th><th>LFP_16</th><th>ECOG_1</th><th>ECOG_2</th><th>ECOG_3</th><th>ECOG_4</th><th>x</th><th>y</th><th>x_interpolated</th><th>y_interpolated</th><th>tracing_coordinates_present</th></tr><tr><td>str</td><td>u32</td><td>u32</td><td>u32</td><td>f64</td><td>f64</td><td>f32</td><td>list[f64]</td><td>list[f64]</td><td>list[f64]</td><td>u32</td><td>u32</td><td>u32</td><td>i32</td><td>i32</td><td>f32</td><td>list[f32]</td><td>list[f32]</td><td>list[f32]</td><td>list[f32]</td><td>list[f32]</td><td>list[f32]</td><td>list[f32]</td><td>list[f32]</td><td>list[f32]</td><td>list[f32]</td><td>list[f32]</td><td>list[f32]</td><td>list[f32]</td><td>list[f32]</td><td>list[f32]</td><td>list[f32]</td><td>list[f32]</td><td>list[f32]</td><td>list[f32]</td><td>list[f32]</td><td>list[i64]</td><td>list[i64]</td><td>list[f32]</td><td>list[f32]</td><td>bool</td></tr></thead><tbody><tr><td>&quot;PDI1&quot;</td><td>2</td><td>1</td><td>1</td><td>18.102864</td><td>16.102864</td><td>13.019526</td><td>[16.102864, 16.103864, … 29.120864]</td><td>[18.102864, 18.103864, … 27.120864]</td><td>[18.102864, 18.111301, … 27.113953]</td><td>9019</td><td>13019</td><td>13019</td><td>2</td><td>0</td><td>2.703554</td><td>[-0.00001, -0.000014, … 0.000003]</td><td>[-0.000004, -0.000006, … 0.000006]</td><td>[0.000002, 0.000008, … 0.000003]</td><td>[0.000015, -0.000063, … -0.000079]</td><td>[-8.7940e-7, -0.000006, … 0.000004]</td><td>[-0.000014, 0.00001, … -0.000014]</td><td>[-0.000038, 0.000016, … -0.000044]</td><td>[-0.000002, -0.000004, … 0.000006]</td><td>[-0.000002, -0.000004, … 0.000007]</td><td>[0.00001, 0.00001, … 0.00001]</td><td>[-0.000002, -0.000002, … 0.000006]</td><td>[-9.6913e-7, -0.000002, … 0.000003]</td><td>[0.000002, 0.000002, … 0.000004]</td><td>[-0.000007, -0.000007, … 0.000003]</td><td>[-0.000015, -0.000015, … -0.000002]</td><td>[-0.000001, -8.7139e-7, … 0.000001]</td><td>[0.000004, 0.000006, … 0.000023]</td><td>[0.000004, 0.000006, … 0.000016]</td><td>[0.000008, 0.00001, … 0.000006]</td><td>[0.000004, 0.000007, … -0.000006]</td><td>[-377, -387, … -23]</td><td>[37, 48, … -164]</td><td>[-377.0, -378.184296, … -23.0]</td><td>[37.0, 38.302727, … -164.0]</td><td>true</td></tr><tr><td>&quot;PDI1&quot;</td><td>2</td><td>1</td><td>2</td><td>36.896455</td><td>34.896455</td><td>13.019526</td><td>[34.896455, 34.897455, … 47.914455]</td><td>[36.896455, 36.897455, … 45.914455]</td><td>[36.896455, 36.904956, … 45.90748]</td><td>9019</td><td>13019</td><td>13019</td><td>2</td><td>0</td><td>1.811423</td><td>[-0.00001, -0.000014, … 0.000003]</td><td>[-0.000004, -0.000006, … 0.000006]</td><td>[0.000002, 0.000008, … 0.000003]</td><td>[0.000015, -0.000063, … -0.000079]</td><td>[-8.7940e-7, -0.000006, … 0.000004]</td><td>[-0.000014, 0.00001, … -0.000014]</td><td>[-0.000038, 0.000016, … -0.000044]</td><td>[-0.000002, -0.000004, … 0.000006]</td><td>[-0.000002, -0.000004, … 0.000007]</td><td>[0.00001, 0.00001, … 0.00001]</td><td>[-0.000002, -0.000002, … 0.000006]</td><td>[-9.6913e-7, -0.000002, … 0.000003]</td><td>[0.000002, 0.000002, … 0.000004]</td><td>[-0.000007, -0.000007, … 0.000003]</td><td>[-0.000015, -0.000015, … -0.000002]</td><td>[-0.000001, -8.7139e-7, … 0.000001]</td><td>[0.000004, 0.000006, … 0.000023]</td><td>[0.000004, 0.000006, … 0.000016]</td><td>[0.000008, 0.00001, … 0.000006]</td><td>[0.000004, 0.000007, … -0.000006]</td><td>[-377, -390, … 122]</td><td>[37, 37, … 47]</td><td>[-377.0, -378.528046, … 122.0]</td><td>[37.0, 37.0, … 47.0]</td><td>true</td></tr><tr><td>&quot;PDI1&quot;</td><td>2</td><td>1</td><td>3</td><td>55.729091</td><td>53.729091</td><td>13.019526</td><td>[53.729091, 53.730091, … 66.747091]</td><td>[55.729091, 55.730091, … 64.747091]</td><td>[55.729091, 55.73756, … 64.740148]</td><td>9019</td><td>13019</td><td>13019</td><td>2</td><td>0</td><td>2.518298</td><td>[-0.00001, -0.000014, … 0.000003]</td><td>[-0.000004, -0.000006, … 0.000006]</td><td>[0.000002, 0.000008, … 0.000003]</td><td>[0.000015, -0.000063, … -0.000079]</td><td>[-8.7940e-7, -0.000006, … 0.000004]</td><td>[-0.000014, 0.00001, … -0.000014]</td><td>[-0.000038, 0.000016, … -0.000044]</td><td>[-0.000002, -0.000004, … 0.000006]</td><td>[-0.000002, -0.000004, … 0.000007]</td><td>[0.00001, 0.00001, … 0.00001]</td><td>[-0.000002, -0.000002, … 0.000006]</td><td>[-9.6913e-7, -0.000002, … 0.000003]</td><td>[0.000002, 0.000002, … 0.000004]</td><td>[-0.000007, -0.000007, … 0.000003]</td><td>[-0.000015, -0.000015, … -0.000002]</td><td>[-0.000001, -8.7139e-7, … 0.000001]</td><td>[0.000004, 0.000006, … 0.000023]</td><td>[0.000004, 0.000006, … 0.000016]</td><td>[0.000008, 0.00001, … 0.000006]</td><td>[0.000004, 0.000007, … -0.000006]</td><td>[-377, -382, … 107]</td><td>[37, 50, … 29]</td><td>[-377.0, -377.589935, … 107.0]</td><td>[37.0, 38.533821, … 29.0]</td><td>true</td></tr><tr><td>&quot;PDI1&quot;</td><td>2</td><td>1</td><td>4</td><td>72.946727</td><td>70.946727</td><td>13.019526</td><td>[70.946727, 70.947727, … 83.964727]</td><td>[72.946727, 72.947727, … 81.964727]</td><td>[72.946727, 72.955244, … 81.957737]</td><td>9019</td><td>13019</td><td>13019</td><td>2</td><td>0</td><td>2.052713</td><td>[-0.00001, -0.000014, … 0.000003]</td><td>[-0.000004, -0.000006, … 0.000006]</td><td>[0.000002, 0.000008, … 0.000003]</td><td>[0.000015, -0.000063, … -0.000079]</td><td>[-8.7940e-7, -0.000006, … 0.000004]</td><td>[-0.000014, 0.00001, … -0.000014]</td><td>[-0.000038, 0.000016, … -0.000044]</td><td>[-0.000002, -0.000004, … 0.000006]</td><td>[-0.000002, -0.000004, … 0.000007]</td><td>[0.00001, 0.00001, … 0.00001]</td><td>[-0.000002, -0.000002, … 0.000006]</td><td>[-9.6913e-7, -0.000002, … 0.000003]</td><td>[0.000002, 0.000002, … 0.000004]</td><td>[-0.000007, -0.000007, … 0.000003]</td><td>[-0.000015, -0.000015, … -0.000002]</td><td>[-0.000001, -8.7139e-7, … 0.000001]</td><td>[0.000004, 0.000006, … 0.000023]</td><td>[0.000004, 0.000006, … 0.000016]</td><td>[0.000008, 0.00001, … 0.000006]</td><td>[0.000004, 0.000007, … -0.000006]</td><td>[-377, -379, … 44]</td><td>[37, 51, … -122]</td><td>[-377.0, -377.23465, … 44.0]</td><td>[37.0, 38.642494, … -122.0]</td><td>true</td></tr><tr><td>&quot;PDI1&quot;</td><td>2</td><td>1</td><td>5</td><td>91.455591</td><td>89.455591</td><td>13.019526</td><td>[89.455591, 89.456591, … 102.473591]</td><td>[91.455591, 91.456591, … 100.473591]</td><td>[91.455591, 91.464108, … 100.4666]</td><td>9019</td><td>13019</td><td>13019</td><td>2</td><td>0</td><td>0.443145</td><td>[-0.00001, -0.000014, … 0.000003]</td><td>[-0.000004, -0.000006, … 0.000006]</td><td>[0.000002, 0.000008, … 0.000003]</td><td>[0.000015, -0.000063, … -0.000079]</td><td>[-8.7940e-7, -0.000006, … 0.000004]</td><td>[-0.000014, 0.00001, … -0.000014]</td><td>[-0.000038, 0.000016, … -0.000044]</td><td>[-0.000002, -0.000004, … 0.000006]</td><td>[-0.000002, -0.000004, … 0.000007]</td><td>[0.00001, 0.00001, … 0.00001]</td><td>[-0.000002, -0.000002, … 0.000006]</td><td>[-9.6913e-7, -0.000002, … 0.000003]</td><td>[0.000002, 0.000002, … 0.000004]</td><td>[-0.000007, -0.000007, … 0.000003]</td><td>[-0.000015, -0.000015, … -0.000002]</td><td>[-0.000001, -8.7139e-7, … 0.000001]</td><td>[0.000004, 0.000006, … 0.000023]</td><td>[0.000004, 0.000006, … 0.000016]</td><td>[0.000008, 0.00001, … 0.000006]</td><td>[0.000004, 0.000007, … -0.000006]</td><td>[-377, -382, … 122]</td><td>[37, 50, … 23]</td><td>[-377.0, -377.586609, … 122.0]</td><td>[37.0, 38.525173, … 23.0]</td><td>true</td></tr><tr><td>&hellip;</td><td>&hellip;</td><td>&hellip;</td><td>&hellip;</td><td>&hellip;</td><td>&hellip;</td><td>&hellip;</td><td>&hellip;</td><td>&hellip;</td><td>&hellip;</td><td>&hellip;</td><td>&hellip;</td><td>&hellip;</td><td>&hellip;</td><td>&hellip;</td><td>&hellip;</td><td>&hellip;</td><td>&hellip;</td><td>&hellip;</td><td>&hellip;</td><td>&hellip;</td><td>&hellip;</td><td>&hellip;</td><td>&hellip;</td><td>&hellip;</td><td>&hellip;</td><td>&hellip;</td><td>&hellip;</td><td>&hellip;</td><td>&hellip;</td><td>&hellip;</td><td>&hellip;</td><td>&hellip;</td><td>&hellip;</td><td>&hellip;</td><td>&hellip;</td><td>&hellip;</td><td>&hellip;</td><td>&hellip;</td><td>&hellip;</td><td>&hellip;</td></tr><tr><td>&quot;PDI1&quot;</td><td>2</td><td>12</td><td>8</td><td>136.893955</td><td>134.893955</td><td>13.018443</td><td>[134.893955, 134.894955, … 147.910955]</td><td>[136.893955, 136.894955, … 145.910955]</td><td>[136.893955, 136.902503, … 145.903849]</td><td>9018</td><td>13018</td><td>13018</td><td>2</td><td>1</td><td>1.339005</td><td>[-0.001228, -0.000633, … 0.000743]</td><td>[-0.000092, -0.000058, … 0.00001]</td><td>[0.000051, 0.000065, … 0.000035]</td><td>[-0.000354, -0.000336, … 0.000228]</td><td>[-1.4057e-7, 2.3577e-7, … 2.1870e-7]</td><td>[-0.000464, -0.000495, … 0.000363]</td><td>[0.000054, 0.000047, … 0.00008]</td><td>[-0.00134, -0.001691, … 0.00027]</td><td>[-0.000002, 0.000005, … -0.000008]</td><td>[-0.00006, -0.000055, … -0.000014]</td><td>[-0.000018, -0.00001, … 0.000002]</td><td>[0.000027, 0.000033, … -0.000005]</td><td>[0.00004, 0.000047, … -0.000007]</td><td>[-0.00001, -0.000004, … -0.000008]</td><td>[-0.000015, -0.000007, … -0.000004]</td><td>[0.000018, 0.000026, … -0.000005]</td><td>[0.000076, 0.000081, … -0.000004]</td><td>[0.000076, 0.00008, … -0.000005]</td><td>[0.000058, 0.000064, … -0.000002]</td><td>[0.000046, 0.000053, … -0.000003]</td><td>[-377, -389, … -43]</td><td>[37, 46, … 6]</td><td>[-377.0, -378.402679, … -43.0]</td><td>[37.0, 38.052013, … 6.0]</td><td>true</td></tr><tr><td>&quot;PDI1&quot;</td><td>2</td><td>12</td><td>9</td><td>152.167591</td><td>150.167591</td><td>13.018443</td><td>[150.167591, 150.168591, … 163.184591]</td><td>[152.167591, 152.168591, … 161.184591]</td><td>[152.167591, 152.176123, … 161.177502]</td><td>9018</td><td>13018</td><td>13018</td><td>2</td><td>1</td><td>2.221776</td><td>[-0.001228, -0.000633, … 0.000743]</td><td>[-0.000092, -0.000058, … 0.00001]</td><td>[0.000051, 0.000065, … 0.000035]</td><td>[-0.000354, -0.000336, … 0.000228]</td><td>[-1.4057e-7, 2.3577e-7, … 2.1870e-7]</td><td>[-0.000464, -0.000495, … 0.000363]</td><td>[0.000054, 0.000047, … 0.00008]</td><td>[-0.00134, -0.001691, … 0.00027]</td><td>[-0.000002, 0.000005, … -0.000008]</td><td>[-0.00006, -0.000055, … -0.000014]</td><td>[-0.000018, -0.00001, … 0.000002]</td><td>[0.000027, 0.000033, … -0.000005]</td><td>[0.00004, 0.000047, … -0.000007]</td><td>[-0.00001, -0.000004, … -0.000008]</td><td>[-0.000015, -0.000007, … -0.000004]</td><td>[0.000018, 0.000026, … -0.000005]</td><td>[0.000076, 0.000081, … -0.000004]</td><td>[0.000076, 0.00008, … -0.000005]</td><td>[0.000058, 0.000064, … -0.000002]</td><td>[0.000046, 0.000053, … -0.000003]</td><td>[-377, -389, … 25]</td><td>[37, 45, … 23]</td><td>[-377.0, -378.405334, … 25.0]</td><td>[37.0, 37.936897, … 23.0]</td><td>true</td></tr><tr><td>&quot;PDI1&quot;</td><td>2</td><td>12</td><td>10</td><td>169.065227</td><td>167.065227</td><td>13.018443</td><td>[167.065227, 167.066227, … 180.082227]</td><td>[169.065227, 169.066227, … 178.082227]</td><td>[169.065227, 169.073743, … 178.075154]</td><td>9018</td><td>13018</td><td>13018</td><td>2</td><td>1</td><td>-0.696225</td><td>[-0.001228, -0.000633, … 0.000743]</td><td>[-0.000092, -0.000058, … 0.00001]</td><td>[0.000051, 0.000065, … 0.000035]</td><td>[-0.000354, -0.000336, … 0.000228]</td><td>[-1.4057e-7, 2.3577e-7, … 2.1870e-7]</td><td>[-0.000464, -0.000495, … 0.000363]</td><td>[0.000054, 0.000047, … 0.00008]</td><td>[-0.00134, -0.001691, … 0.00027]</td><td>[-0.000002, 0.000005, … -0.000008]</td><td>[-0.00006, -0.000055, … -0.000014]</td><td>[-0.000018, -0.00001, … 0.000002]</td><td>[0.000027, 0.000033, … -0.000005]</td><td>[0.00004, 0.000047, … -0.000007]</td><td>[-0.00001, -0.000004, … -0.000008]</td><td>[-0.000015, -0.000007, … -0.000004]</td><td>[0.000018, 0.000026, … -0.000005]</td><td>[0.000076, 0.000081, … -0.000004]</td><td>[0.000076, 0.00008, … -0.000005]</td><td>[0.000058, 0.000064, … -0.000002]</td><td>[0.000046, 0.000053, … -0.000003]</td><td>[-377, -384, … 60]</td><td>[37, 49, … -54]</td><td>[-377.0, -377.82135, … 60.0]</td><td>[37.0, 38.408009, … -54.0]</td><td>true</td></tr><tr><td>&quot;PDI1&quot;</td><td>2</td><td>12</td><td>11</td><td>184.940955</td><td>182.940955</td><td>13.018443</td><td>[182.940955, 182.941955, … 195.957955]</td><td>[184.940955, 184.941955, … 193.957955]</td><td>[184.940955, 184.949407, … 193.950946]</td><td>9018</td><td>13018</td><td>13018</td><td>2</td><td>1</td><td>-0.450917</td><td>[-0.001228, -0.000633, … 0.000743]</td><td>[-0.000092, -0.000058, … 0.00001]</td><td>[0.000051, 0.000065, … 0.000035]</td><td>[-0.000354, -0.000336, … 0.000228]</td><td>[-1.4057e-7, 2.3577e-7, … 2.1870e-7]</td><td>[-0.000464, -0.000495, … 0.000363]</td><td>[0.000054, 0.000047, … 0.00008]</td><td>[-0.00134, -0.001691, … 0.00027]</td><td>[-0.000002, 0.000005, … -0.000008]</td><td>[-0.00006, -0.000055, … -0.000014]</td><td>[-0.000018, -0.00001, … 0.000002]</td><td>[0.000027, 0.000033, … -0.000005]</td><td>[0.00004, 0.000047, … -0.000007]</td><td>[-0.00001, -0.000004, … -0.000008]</td><td>[-0.000015, -0.000007, … -0.000004]</td><td>[0.000018, 0.000026, … -0.000005]</td><td>[0.000076, 0.000081, … -0.000004]</td><td>[0.000076, 0.00008, … -0.000005]</td><td>[0.000058, 0.000064, … -0.000002]</td><td>[0.000046, 0.000053, … -0.000003]</td><td>[-377, -386, … 29]</td><td>[37, 48, … -102]</td><td>[-377.0, -378.063995, … 29.0]</td><td>[37.0, 38.300434, … -102.0]</td><td>true</td></tr><tr><td>&quot;PDI1&quot;</td><td>2</td><td>12</td><td>12</td><td>202.216591</td><td>200.216591</td><td>13.018443</td><td>[200.216591, 200.217591, … 213.233591]</td><td>[202.216591, 202.217591, … 211.233591]</td><td>[202.216591, 202.225059, … 211.226566]</td><td>9018</td><td>13018</td><td>13018</td><td>2</td><td>1</td><td>1.400404</td><td>[-0.001228, -0.000633, … 0.000743]</td><td>[-0.000092, -0.000058, … 0.00001]</td><td>[0.000051, 0.000065, … 0.000035]</td><td>[-0.000354, -0.000336, … 0.000228]</td><td>[-1.4057e-7, 2.3577e-7, … 2.1870e-7]</td><td>[-0.000464, -0.000495, … 0.000363]</td><td>[0.000054, 0.000047, … 0.00008]</td><td>[-0.00134, -0.001691, … 0.00027]</td><td>[-0.000002, 0.000005, … -0.000008]</td><td>[-0.00006, -0.000055, … -0.000014]</td><td>[-0.000018, -0.00001, … 0.000002]</td><td>[0.000027, 0.000033, … -0.000005]</td><td>[0.00004, 0.000047, … -0.000007]</td><td>[-0.00001, -0.000004, … -0.000008]</td><td>[-0.000015, -0.000007, … -0.000004]</td><td>[0.000018, 0.000026, … -0.000005]</td><td>[0.000076, 0.000081, … -0.000004]</td><td>[0.000076, 0.00008, … -0.000005]</td><td>[0.000058, 0.000064, … -0.000002]</td><td>[0.000046, 0.000053, … -0.000003]</td><td>[-377, -377, … -53]</td><td>[37, 51, … -200]</td><td>[-377.0, -377.0, … -53.0]</td><td>[37.0, 38.651989, … -200.0]</td><td>true</td></tr></tbody></table></div>"
      ],
      "text/plain": [
       "shape: (144, 41)\n",
       "┌─────────────┬─────────┬───────┬───────┬───┬─────────────┬─────────────┬─────────────┬────────────┐\n",
       "│ participant ┆ session ┆ block ┆ trial ┆ … ┆ y           ┆ x_interpola ┆ y_interpola ┆ tracing_co │\n",
       "│ _id         ┆ ---     ┆ ---   ┆ ---   ┆   ┆ ---         ┆ ted         ┆ ted         ┆ ordinates_ │\n",
       "│ ---         ┆ u32     ┆ u32   ┆ u32   ┆   ┆ list[i64]   ┆ ---         ┆ ---         ┆ present    │\n",
       "│ str         ┆         ┆       ┆       ┆   ┆             ┆ list[f32]   ┆ list[f32]   ┆ ---        │\n",
       "│             ┆         ┆       ┆       ┆   ┆             ┆             ┆             ┆ bool       │\n",
       "╞═════════════╪═════════╪═══════╪═══════╪═══╪═════════════╪═════════════╪═════════════╪════════════╡\n",
       "│ PDI1        ┆ 2       ┆ 1     ┆ 1     ┆ … ┆ [37, 48, …  ┆ [-377.0,    ┆ [37.0,      ┆ true       │\n",
       "│             ┆         ┆       ┆       ┆   ┆ -164]       ┆ -378.184296 ┆ 38.302727,  ┆            │\n",
       "│             ┆         ┆       ┆       ┆   ┆             ┆ , … -23.0]  ┆ … -164.0]   ┆            │\n",
       "│ PDI1        ┆ 2       ┆ 1     ┆ 2     ┆ … ┆ [37, 37, …  ┆ [-377.0,    ┆ [37.0,      ┆ true       │\n",
       "│             ┆         ┆       ┆       ┆   ┆ 47]         ┆ -378.528046 ┆ 37.0, …     ┆            │\n",
       "│             ┆         ┆       ┆       ┆   ┆             ┆ , … 122.0]  ┆ 47.0]       ┆            │\n",
       "│ PDI1        ┆ 2       ┆ 1     ┆ 3     ┆ … ┆ [37, 50, …  ┆ [-377.0,    ┆ [37.0,      ┆ true       │\n",
       "│             ┆         ┆       ┆       ┆   ┆ 29]         ┆ -377.589935 ┆ 38.533821,  ┆            │\n",
       "│             ┆         ┆       ┆       ┆   ┆             ┆ , … 107.0]  ┆ … 29.0]     ┆            │\n",
       "│ PDI1        ┆ 2       ┆ 1     ┆ 4     ┆ … ┆ [37, 51, …  ┆ [-377.0,    ┆ [37.0,      ┆ true       │\n",
       "│             ┆         ┆       ┆       ┆   ┆ -122]       ┆ -377.23465, ┆ 38.642494,  ┆            │\n",
       "│             ┆         ┆       ┆       ┆   ┆             ┆ … 44.0]     ┆ … -122.0]   ┆            │\n",
       "│ PDI1        ┆ 2       ┆ 1     ┆ 5     ┆ … ┆ [37, 50, …  ┆ [-377.0,    ┆ [37.0,      ┆ true       │\n",
       "│             ┆         ┆       ┆       ┆   ┆ 23]         ┆ -377.586609 ┆ 38.525173,  ┆            │\n",
       "│             ┆         ┆       ┆       ┆   ┆             ┆ , … 122.0]  ┆ … 23.0]     ┆            │\n",
       "│ …           ┆ …       ┆ …     ┆ …     ┆ … ┆ …           ┆ …           ┆ …           ┆ …          │\n",
       "│ PDI1        ┆ 2       ┆ 12    ┆ 8     ┆ … ┆ [37, 46, …  ┆ [-377.0,    ┆ [37.0,      ┆ true       │\n",
       "│             ┆         ┆       ┆       ┆   ┆ 6]          ┆ -378.402679 ┆ 38.052013,  ┆            │\n",
       "│             ┆         ┆       ┆       ┆   ┆             ┆ , … -43.0]  ┆ … 6.0]      ┆            │\n",
       "│ PDI1        ┆ 2       ┆ 12    ┆ 9     ┆ … ┆ [37, 45, …  ┆ [-377.0,    ┆ [37.0,      ┆ true       │\n",
       "│             ┆         ┆       ┆       ┆   ┆ 23]         ┆ -378.405334 ┆ 37.936897,  ┆            │\n",
       "│             ┆         ┆       ┆       ┆   ┆             ┆ , … 25.0]   ┆ … 23.0]     ┆            │\n",
       "│ PDI1        ┆ 2       ┆ 12    ┆ 10    ┆ … ┆ [37, 49, …  ┆ [-377.0,    ┆ [37.0,      ┆ true       │\n",
       "│             ┆         ┆       ┆       ┆   ┆ -54]        ┆ -377.82135, ┆ 38.408009,  ┆            │\n",
       "│             ┆         ┆       ┆       ┆   ┆             ┆ … 60.0]     ┆ … -54.0]    ┆            │\n",
       "│ PDI1        ┆ 2       ┆ 12    ┆ 11    ┆ … ┆ [37, 48, …  ┆ [-377.0,    ┆ [37.0,      ┆ true       │\n",
       "│             ┆         ┆       ┆       ┆   ┆ -102]       ┆ -378.063995 ┆ 38.300434,  ┆            │\n",
       "│             ┆         ┆       ┆       ┆   ┆             ┆ , … 29.0]   ┆ … -102.0]   ┆            │\n",
       "│ PDI1        ┆ 2       ┆ 12    ┆ 12    ┆ … ┆ [37, 51, …  ┆ [-377.0,    ┆ [37.0,      ┆ true       │\n",
       "│             ┆         ┆       ┆       ┆   ┆ -200]       ┆ -377.0, …   ┆ 38.651989,  ┆            │\n",
       "│             ┆         ┆       ┆       ┆   ┆             ┆ -53.0]      ┆ … -200.0]   ┆            │\n",
       "└─────────────┴─────────┴───────┴───────┴───┴─────────────┴─────────────┴─────────────┴────────────┘"
      ]
     },
     "execution_count": 23,
     "metadata": {},
     "output_type": "execute_result"
    }
   ],
   "source": [
    "participants"
   ]
  },
  {
   "cell_type": "code",
   "execution_count": 24,
   "id": "d95b67b7",
   "metadata": {},
   "outputs": [],
   "source": [
    "df = pl.read_parquet(\n",
    "    \"/home/bobby/repos/latent-neural-dynamics-modeling/data/PDI_behav_features.parquet\"\n",
    ")"
   ]
  },
  {
   "cell_type": "code",
   "execution_count": 25,
   "id": "e9f39bf1",
   "metadata": {},
   "outputs": [
    {
     "data": {
      "text/html": [
       "<div><style>\n",
       ".dataframe > thead > tr,\n",
       ".dataframe > tbody > tr {\n",
       "  text-align: right;\n",
       "  white-space: pre-wrap;\n",
       "}\n",
       "</style>\n",
       "<small>shape: (1_130, 69)</small><table border=\"1\" class=\"dataframe\"><thead><tr><th>trial_time</th><th>pre_trial_time</th><th>is_fragmented</th><th>delta_t</th><th>speed</th><th>acceleration</th><th>velocity_x</th><th>velocity_y</th><th>acceleration_x</th><th>acceleration_y</th><th>isj_x</th><th>isj_y</th><th>isj</th><th>speed_sub</th><th>acceleration_sub</th><th>velocity_x_sub</th><th>velocity_y_sub</th><th>acceleration_x_sub</th><th>acceleration_y_sub</th><th>isj_x_sub</th><th>isj_y_sub</th><th>isj_sub</th><th>pathlen</th><th>dt</th><th>dt_l</th><th>dist_sub</th><th>dt_norm</th><th>len</th><th>speed_sub_bin_1</th><th>accel_sub_bin_1</th><th>jerk_sub_bin_1</th><th>dist_sub_bin_1</th><th>speed_sub_bin_2</th><th>accel_sub_bin_2</th><th>jerk_sub_bin_2</th><th>dist_sub_bin_2</th><th>speed_sub_bin_3</th><th>accel_sub_bin_3</th><th>jerk_sub_bin_3</th><th>dist_sub_bin_3</th><th>speed_sub_bin_4</th><th>accel_sub_bin_4</th><th>jerk_sub_bin_4</th><th>dist_sub_bin_4</th><th>speed_sub_bin_5</th><th>accel_sub_bin_5</th><th>jerk_sub_bin_5</th><th>dist_sub_bin_5</th><th>speed_sub_bin_6</th><th>accel_sub_bin_6</th><th>jerk_sub_bin_6</th><th>dist_sub_bin_6</th><th>speed_sub_bin_7</th><th>accel_sub_bin_7</th><th>jerk_sub_bin_7</th><th>dist_sub_bin_7</th><th>speed_sub_bin_8</th><th>accel_sub_bin_8</th><th>jerk_sub_bin_8</th><th>dist_sub_bin_8</th><th>file</th><th>subject</th><th>session</th><th>ix_block</th><th>ix_trial</th><th>stim</th><th>stim_ampl</th><th>stim_unit</th><th>exclude_due_to_protocol</th></tr><tr><td>f64</td><td>f64</td><td>bool</td><td>f64</td><td>f64</td><td>f64</td><td>f64</td><td>f64</td><td>f64</td><td>f64</td><td>f64</td><td>f64</td><td>f64</td><td>f64</td><td>f64</td><td>f64</td><td>f64</td><td>f64</td><td>f64</td><td>f64</td><td>f64</td><td>f64</td><td>i64</td><td>f64</td><td>f64</td><td>f64</td><td>f64</td><td>f64</td><td>f64</td><td>f64</td><td>f64</td><td>f64</td><td>f64</td><td>f64</td><td>f64</td><td>f64</td><td>f64</td><td>f64</td><td>f64</td><td>f64</td><td>f64</td><td>f64</td><td>f64</td><td>f64</td><td>f64</td><td>f64</td><td>f64</td><td>f64</td><td>f64</td><td>f64</td><td>f64</td><td>f64</td><td>f64</td><td>f64</td><td>f64</td><td>f64</td><td>f64</td><td>f64</td><td>f64</td><td>f64</td><td>str</td><td>str</td><td>str</td><td>i64</td><td>i64</td><td>str</td><td>str</td><td>str</td><td>bool</td></tr></thead><tbody><tr><td>9.0</td><td>2.06486</td><td>false</td><td>0.008419</td><td>410.837504</td><td>91821.078717</td><td>142.444444</td><td>352.666667</td><td>31924.82716</td><td>78630.888889</td><td>36831.0</td><td>196740.0</td><td>116785.5</td><td>407.175488</td><td>4112.749537</td><td>141.623924</td><td>350.899056</td><td>1809.076291</td><td>3253.702747</td><td>1990.0</td><td>5234.0</td><td>3612.0</td><td>1068</td><td>15767.369865</td><td>15767.369865</td><td>9.536891</td><td>14.749644</td><td>2.043977</td><td>5.12</td><td>0.02</td><td>-0.06</td><td>10.783</td><td>7.795455</td><td>-0.155172</td><td>-0.267442</td><td>9.024766</td><td>4.241379</td><td>0.086207</td><td>0.137931</td><td>11.228896</td><td>-1.0</td><td>0.625</td><td>0.375</td><td>8.870217</td><td>-4.153846</td><td>0.269231</td><td>-0.076923</td><td>9.115025</td><td>-8.5</td><td>-0.032258</td><td>-0.032258</td><td>8.081716</td><td>-3.089744</td><td>0.102564</td><td>0.00641</td><td>10.345023</td><td>1.151163</td><td>-0.232558</td><td>0.27907</td><td>9.565822</td><td>&quot;/Volumes/MDExternM2/data/copyd…</td><td>&quot;PDI1&quot;</td><td>&quot;2&quot;</td><td>11</td><td>2</td><td>&quot;off&quot;</td><td>&quot;6&quot;</td><td>&quot;mA&quot;</td><td>false</td></tr><tr><td>9.0</td><td>1.222764</td><td>false</td><td>0.008515</td><td>377.505752</td><td>81456.580148</td><td>138.333333</td><td>317.333333</td><td>29830.888889</td><td>68391.814815</td><td>30075.0</td><td>158082.0</td><td>94078.5</td><td>371.865975</td><td>3601.791331</td><td>136.963068</td><td>313.961494</td><td>1528.235924</td><td>2852.41762</td><td>1514.0</td><td>4849.0</td><td>3181.5</td><td>1056</td><td>13694.030133</td><td>13694.030133</td><td>8.861952</td><td>12.955563</td><td>2.021033</td><td>4.733333</td><td>-0.533333</td><td>-0.25</td><td>7.556671</td><td>7.109756</td><td>0.036585</td><td>-0.140244</td><td>9.118215</td><td>3.758621</td><td>0.293103</td><td>-0.103448</td><td>10.053308</td><td>-0.5</td><td>0.5</td><td>0.5</td><td>9.659114</td><td>-3.388889</td><td>0.194444</td><td>-0.027778</td><td>9.49299</td><td>-7.5</td><td>0.139535</td><td>-0.023256</td><td>9.556393</td><td>-3.142857</td><td>-0.035714</td><td>0.228571</td><td>8.629078</td><td>1.25</td><td>0.15</td><td>-0.133333</td><td>7.962857</td><td>&quot;/Volumes/MDExternM2/data/copyd…</td><td>&quot;PDI1&quot;</td><td>&quot;2&quot;</td><td>11</td><td>3</td><td>&quot;off&quot;</td><td>&quot;6&quot;</td><td>&quot;mA&quot;</td><td>false</td></tr><tr><td>9.0</td><td>1.333596</td><td>false</td><td>0.008563</td><td>353.964917</td><td>74118.243025</td><td>108.666667</td><td>308.555556</td><td>23277.703704</td><td>64383.481481</td><td>25128.0</td><td>151753.0</td><td>88440.5</td><td>349.95284</td><td>3688.394655</td><td>106.464071</td><td>307.304105</td><td>1433.206836</td><td>2991.603426</td><td>1384.0</td><td>4875.0</td><td>3129.5</td><td>1050</td><td>12261.300701</td><td>12261.300701</td><td>8.443573</td><td>11.666318</td><td>2.00956</td><td>5.636364</td><td>-0.204545</td><td>0.204545</td><td>9.521074</td><td>6.590361</td><td>-0.096386</td><td>-0.168675</td><td>8.426759</td><td>3.958333</td><td>-0.145833</td><td>0.166667</td><td>9.257507</td><td>-2.5</td><td>2.0</td><td>-1.0</td><td>8.946067</td><td>null</td><td>null</td><td>null</td><td>null</td><td>-7.423077</td><td>0.118421</td><td>0.026316</td><td>7.619868</td><td>-3.343284</td><td>-0.089552</td><td>0.089552</td><td>8.219744</td><td>1.425</td><td>-0.2875</td><td>0.05</td><td>8.7232</td><td>&quot;/Volumes/MDExternM2/data/copyd…</td><td>&quot;PDI1&quot;</td><td>&quot;2&quot;</td><td>11</td><td>8</td><td>&quot;off&quot;</td><td>&quot;6&quot;</td><td>&quot;mA&quot;</td><td>false</td></tr><tr><td>9.0</td><td>1.231359</td><td>false</td><td>0.008419</td><td>374.100145</td><td>81990.612253</td><td>126.666667</td><td>317.555556</td><td>27582.839506</td><td>69880.925926</td><td>28498.0</td><td>162935.0</td><td>95716.5</td><td>369.365973</td><td>3879.993452</td><td>125.542899</td><td>314.411765</td><td>1470.972227</td><td>3135.146776</td><td>1300.0</td><td>5928.0</td><td>3614.0</td><td>1068</td><td>13276.868268</td><td>13276.868268</td><td>8.62665</td><td>12.419895</td><td>2.043977</td><td>3.903226</td><td>-0.133333</td><td>-0.034483</td><td>8.51291</td><td>7.277778</td><td>-0.145833</td><td>-0.180556</td><td>8.669787</td><td>3.560606</td><td>0.090909</td><td>0.045455</td><td>8.787711</td><td>-0.75</td><td>0.25</td><td>0.125</td><td>7.941394</td><td>-5.5625</td><td>0.3125</td><td>0.1875</td><td>8.492045</td><td>-8.257143</td><td>-0.042857</td><td>0.085714</td><td>9.004286</td><td>-3.32716</td><td>-0.049383</td><td>0.111111</td><td>8.794755</td><td>1.448276</td><td>-0.155172</td><td>0.034483</td><td>8.669316</td><td>&quot;/Volumes/MDExternM2/data/copyd…</td><td>&quot;PDI1&quot;</td><td>&quot;2&quot;</td><td>11</td><td>4</td><td>&quot;off&quot;</td><td>&quot;6&quot;</td><td>&quot;mA&quot;</td><td>false</td></tr><tr><td>9.0</td><td>1.887891</td><td>false</td><td>0.008483</td><td>400.808285</td><td>87381.884257</td><td>141.888889</td><td>339.444444</td><td>31188.160494</td><td>73798.444444</td><td>36587.0</td><td>194610.0</td><td>115598.5</td><td>395.9668</td><td>3909.790511</td><td>139.757167</td><td>336.571668</td><td>1683.787504</td><td>3084.035661</td><td>1665.0</td><td>5593.0</td><td>3629.0</td><td>1060</td><td>12007.372551</td><td>12007.372551</td><td>7.755852</td><td>11.317034</td><td>2.028681</td><td>4.808824</td><td>-0.264706</td><td>0.088235</td><td>7.124108</td><td>8.5</td><td>-0.09589</td><td>-0.340278</td><td>7.457289</td><td>4.413793</td><td>0.155172</td><td>0.034483</td><td>10.489282</td><td>-0.6875</td><td>0.375</td><td>0.25</td><td>7.303266</td><td>-4.0</td><td>0.333333</td><td>-0.277778</td><td>8.318452</td><td>-9.393939</td><td>0.242424</td><td>-0.090909</td><td>8.743075</td><td>-3.58209</td><td>-0.014925</td><td>0.171642</td><td>6.934037</td><td>1.469697</td><td>0.075758</td><td>-0.30303</td><td>8.310672</td><td>&quot;/Volumes/MDExternM2/data/copyd…</td><td>&quot;PDI1&quot;</td><td>&quot;2&quot;</td><td>11</td><td>12</td><td>&quot;off&quot;</td><td>&quot;6&quot;</td><td>&quot;mA&quot;</td><td>false</td></tr><tr><td>&hellip;</td><td>&hellip;</td><td>&hellip;</td><td>&hellip;</td><td>&hellip;</td><td>&hellip;</td><td>&hellip;</td><td>&hellip;</td><td>&hellip;</td><td>&hellip;</td><td>&hellip;</td><td>&hellip;</td><td>&hellip;</td><td>&hellip;</td><td>&hellip;</td><td>&hellip;</td><td>&hellip;</td><td>&hellip;</td><td>&hellip;</td><td>&hellip;</td><td>&hellip;</td><td>&hellip;</td><td>&hellip;</td><td>&hellip;</td><td>&hellip;</td><td>&hellip;</td><td>&hellip;</td><td>&hellip;</td><td>&hellip;</td><td>&hellip;</td><td>&hellip;</td><td>&hellip;</td><td>&hellip;</td><td>&hellip;</td><td>&hellip;</td><td>&hellip;</td><td>&hellip;</td><td>&hellip;</td><td>&hellip;</td><td>&hellip;</td><td>&hellip;</td><td>&hellip;</td><td>&hellip;</td><td>&hellip;</td><td>&hellip;</td><td>&hellip;</td><td>&hellip;</td><td>&hellip;</td><td>&hellip;</td><td>&hellip;</td><td>&hellip;</td><td>&hellip;</td><td>&hellip;</td><td>&hellip;</td><td>&hellip;</td><td>&hellip;</td><td>&hellip;</td><td>&hellip;</td><td>&hellip;</td><td>&hellip;</td><td>&hellip;</td><td>&hellip;</td><td>&hellip;</td><td>&hellip;</td><td>&hellip;</td><td>&hellip;</td><td>&hellip;</td><td>&hellip;</td><td>&hellip;</td></tr><tr><td>9.0</td><td>2.497078</td><td>false</td><td>0.012552</td><td>374.926314</td><td>54388.859725</td><td>119.777778</td><td>334.222222</td><td>17721.407407</td><td>48331.111111</td><td>40589.0</td><td>263607.0</td><td>152098.0</td><td>371.232833</td><td>2454.867572</td><td>118.666667</td><td>331.555556</td><td>944.197531</td><td>2047.728395</td><td>1615.0</td><td>4901.0</td><td>3258.0</td><td>716</td><td>9592.89634</td><td>9592.89634</td><td>8.606047</td><td>13.379214</td><td>1.370937</td><td>6.71875</td><td>-0.8125</td><td>0.5</td><td>7.941012</td><td>11.3</td><td>-0.03</td><td>-0.39</td><td>9.38241</td><td>8.631579</td><td>0.368421</td><td>-0.736842</td><td>7.56637</td><td>null</td><td>null</td><td>null</td><td>null</td><td>null</td><td>null</td><td>null</td><td>null</td><td>-12.689655</td><td>-0.107143</td><td>0.222222</td><td>7.815894</td><td>-4.546875</td><td>0.21875</td><td>0.0859375</td><td>8.473577</td><td>1.548387</td><td>-0.193548</td><td>-0.016129</td><td>8.332645</td><td>&quot;/Volumes/MDExternM2/data/copyd…</td><td>&quot;PDI4&quot;</td><td>&quot;3&quot;</td><td>1</td><td>4</td><td>&quot;off&quot;</td><td>&quot;4&quot;</td><td>&quot;mA&quot;</td><td>false</td></tr><tr><td>9.0</td><td>3.96223</td><td>false</td><td>0.012587</td><td>512.337923</td><td>77390.549594</td><td>190.555556</td><td>429.0</td><td>28608.82716</td><td>64932.592593</td><td>114855.0</td><td>547943.0</td><td>331399.0</td><td>505.070765</td><td>3865.494727</td><td>187.032388</td><td>425.476523</td><td>1604.996097</td><td>3095.5592</td><td>3656.0</td><td>8734.0</td><td>6195.0</td><td>714</td><td>26875.6294</td><td>26875.6294</td><td>24.3174</td><td>37.588293</td><td>1.367113</td><td>10.4375</td><td>0.0625</td><td>-0.21875</td><td>23.523863</td><td>16.833333</td><td>-0.931373</td><td>-0.911765</td><td>23.464651</td><td>9.184211</td><td>1.657895</td><td>-0.157895</td><td>20.528871</td><td>-2.5</td><td>4.75</td><td>-0.75</td><td>16.13166</td><td>-8.75</td><td>1.125</td><td>0.375</td><td>22.111244</td><td>-14.815789</td><td>0.039474</td><td>0.223684</td><td>25.260538</td><td>-7.166667</td><td>0.255556</td><td>0.6</td><td>25.167333</td><td>4.68</td><td>-0.66</td><td>0.32</td><td>25.979701</td><td>&quot;/Volumes/MDExternM2/data/copyd…</td><td>&quot;PDI4&quot;</td><td>&quot;3&quot;</td><td>1</td><td>11</td><td>&quot;off&quot;</td><td>&quot;4&quot;</td><td>&quot;mA&quot;</td><td>false</td></tr><tr><td>9.0</td><td>2.48366</td><td>false</td><td>0.01273</td><td>426.023122</td><td>62205.050003</td><td>138.333333</td><td>374.222222</td><td>20546.641975</td><td>54412.814815</td><td>63125.0</td><td>372073.0</td><td>217599.0</td><td>420.317139</td><td>2899.35988</td><td>136.695543</td><td>369.921218</td><td>1080.792286</td><td>2423.066576</td><td>1815.0</td><td>7335.0</td><td>4575.0</td><td>706</td><td>17692.261423</td><td>17692.261423</td><td>15.188602</td><td>25.024415</td><td>1.351816</td><td>8.772727</td><td>-1.272727</td><td>-1.090909</td><td>17.853658</td><td>13.09375</td><td>0.071429</td><td>-0.758065</td><td>14.552291</td><td>6.192308</td><td>0.461538</td><td>0.730769</td><td>17.03561</td><td>-4.6</td><td>2.0</td><td>0.7</td><td>11.609593</td><td>-3.75</td><td>-1.75</td><td>0.5</td><td>24.017431</td><td>-10.5</td><td>-0.208333</td><td>0.138889</td><td>14.311752</td><td>-5.06383</td><td>-0.021277</td><td>0.265957</td><td>17.053967</td><td>2.0</td><td>-0.363636</td><td>0.272727</td><td>14.613844</td><td>&quot;/Volumes/MDExternM2/data/copyd…</td><td>&quot;PDI4&quot;</td><td>&quot;3&quot;</td><td>1</td><td>8</td><td>&quot;off&quot;</td><td>&quot;4&quot;</td><td>&quot;mA&quot;</td><td>false</td></tr><tr><td>9.0</td><td>1.971708</td><td>false</td><td>0.012623</td><td>457.173862</td><td>67650.930185</td><td>173.555556</td><td>386.666667</td><td>25712.012346</td><td>57119.222222</td><td>86964.0</td><td>410780.0</td><td>248872.0</td><td>450.206852</td><td>3368.01829</td><td>169.87286</td><td>382.241674</td><td>1482.603739</td><td>2642.902318</td><td>2714.0</td><td>8447.0</td><td>5580.5</td><td>712</td><td>21777.014655</td><td>21777.014655</td><td>19.125069</td><td>30.542798</td><td>1.363289</td><td>9.16</td><td>-0.86</td><td>-0.2</td><td>19.700912</td><td>13.861702</td><td>-0.117021</td><td>-0.595745</td><td>18.363337</td><td>5.411765</td><td>-0.323529</td><td>0.294118</td><td>17.567404</td><td>-1.1</td><td>1.3</td><td>-0.3</td><td>18.954904</td><td>-6.625</td><td>0.5</td><td>1.0</td><td>24.712831</td><td>-14.95</td><td>-0.583333</td><td>0.316667</td><td>18.186498</td><td>-5.533333</td><td>0.457627</td><td>0.267241</td><td>20.512523</td><td>1.913043</td><td>-0.217391</td><td>0.23913</td><td>17.372904</td><td>&quot;/Volumes/MDExternM2/data/copyd…</td><td>&quot;PDI4&quot;</td><td>&quot;3&quot;</td><td>1</td><td>3</td><td>&quot;off&quot;</td><td>&quot;4&quot;</td><td>&quot;mA&quot;</td><td>false</td></tr><tr><td>9.0</td><td>1.783901</td><td>false</td><td>0.012414</td><td>487.207132</td><td>72185.135267</td><td>186.0</td><td>410.111111</td><td>27576.851852</td><td>60828.395062</td><td>101056.0</td><td>502036.0</td><td>301546.0</td><td>482.248699</td><td>3722.394608</td><td>183.968473</td><td>407.327058</td><td>1540.36507</td><td>3033.059268</td><td>2503.0</td><td>10212.0</td><td>6357.5</td><td>724</td><td>28813.161069</td><td>28813.161069</td><td>24.92774</td><td>39.742291</td><td>1.386233</td><td>11.088235</td><td>0.147059</td><td>-0.088235</td><td>20.800006</td><td>14.424528</td><td>-0.216981</td><td>-0.556604</td><td>24.48394</td><td>10.323529</td><td>-1.647059</td><td>-0.676471</td><td>30.164337</td><td>-2.7</td><td>2.5</td><td>1.6</td><td>29.14927</td><td>-9.5</td><td>0.166667</td><td>2.166667</td><td>21.474535</td><td>-20.88</td><td>-0.46</td><td>0.24</td><td>26.253067</td><td>-5.183673</td><td>0.316327</td><td>0.163265</td><td>24.48091</td><td>2.367647</td><td>0.264706</td><td>0.102941</td><td>23.134516</td><td>&quot;/Volumes/MDExternM2/data/copyd…</td><td>&quot;PDI4&quot;</td><td>&quot;3&quot;</td><td>1</td><td>2</td><td>&quot;off&quot;</td><td>&quot;4&quot;</td><td>&quot;mA&quot;</td><td>false</td></tr></tbody></table></div>"
      ],
      "text/plain": [
       "shape: (1_130, 69)\n",
       "┌────────────┬─────────────┬────────────┬──────────┬───┬──────┬───────────┬───────────┬────────────┐\n",
       "│ trial_time ┆ pre_trial_t ┆ is_fragmen ┆ delta_t  ┆ … ┆ stim ┆ stim_ampl ┆ stim_unit ┆ exclude_du │\n",
       "│ ---        ┆ ime         ┆ ted        ┆ ---      ┆   ┆ ---  ┆ ---       ┆ ---       ┆ e_to_proto │\n",
       "│ f64        ┆ ---         ┆ ---        ┆ f64      ┆   ┆ str  ┆ str       ┆ str       ┆ col        │\n",
       "│            ┆ f64         ┆ bool       ┆          ┆   ┆      ┆           ┆           ┆ ---        │\n",
       "│            ┆             ┆            ┆          ┆   ┆      ┆           ┆           ┆ bool       │\n",
       "╞════════════╪═════════════╪════════════╪══════════╪═══╪══════╪═══════════╪═══════════╪════════════╡\n",
       "│ 9.0        ┆ 2.06486     ┆ false      ┆ 0.008419 ┆ … ┆ off  ┆ 6         ┆ mA        ┆ false      │\n",
       "│ 9.0        ┆ 1.222764    ┆ false      ┆ 0.008515 ┆ … ┆ off  ┆ 6         ┆ mA        ┆ false      │\n",
       "│ 9.0        ┆ 1.333596    ┆ false      ┆ 0.008563 ┆ … ┆ off  ┆ 6         ┆ mA        ┆ false      │\n",
       "│ 9.0        ┆ 1.231359    ┆ false      ┆ 0.008419 ┆ … ┆ off  ┆ 6         ┆ mA        ┆ false      │\n",
       "│ 9.0        ┆ 1.887891    ┆ false      ┆ 0.008483 ┆ … ┆ off  ┆ 6         ┆ mA        ┆ false      │\n",
       "│ …          ┆ …           ┆ …          ┆ …        ┆ … ┆ …    ┆ …         ┆ …         ┆ …          │\n",
       "│ 9.0        ┆ 2.497078    ┆ false      ┆ 0.012552 ┆ … ┆ off  ┆ 4         ┆ mA        ┆ false      │\n",
       "│ 9.0        ┆ 3.96223     ┆ false      ┆ 0.012587 ┆ … ┆ off  ┆ 4         ┆ mA        ┆ false      │\n",
       "│ 9.0        ┆ 2.48366     ┆ false      ┆ 0.01273  ┆ … ┆ off  ┆ 4         ┆ mA        ┆ false      │\n",
       "│ 9.0        ┆ 1.971708    ┆ false      ┆ 0.012623 ┆ … ┆ off  ┆ 4         ┆ mA        ┆ false      │\n",
       "│ 9.0        ┆ 1.783901    ┆ false      ┆ 0.012414 ┆ … ┆ off  ┆ 4         ┆ mA        ┆ false      │\n",
       "└────────────┴─────────────┴────────────┴──────────┴───┴──────┴───────────┴───────────┴────────────┘"
      ]
     },
     "execution_count": 25,
     "metadata": {},
     "output_type": "execute_result"
    }
   ],
   "source": [
    "df"
   ]
  },
  {
   "cell_type": "code",
   "execution_count": 30,
   "id": "53a97270",
   "metadata": {},
   "outputs": [
    {
     "data": {
      "text/html": [
       "<div><style>\n",
       ".dataframe > thead > tr,\n",
       ".dataframe > tbody > tr {\n",
       "  text-align: right;\n",
       "  white-space: pre-wrap;\n",
       "}\n",
       "</style>\n",
       "<small>shape: (26, 69)</small><table border=\"1\" class=\"dataframe\"><thead><tr><th>trial_time</th><th>pre_trial_time</th><th>is_fragmented</th><th>delta_t</th><th>speed</th><th>acceleration</th><th>velocity_x</th><th>velocity_y</th><th>acceleration_x</th><th>acceleration_y</th><th>isj_x</th><th>isj_y</th><th>isj</th><th>speed_sub</th><th>acceleration_sub</th><th>velocity_x_sub</th><th>velocity_y_sub</th><th>acceleration_x_sub</th><th>acceleration_y_sub</th><th>isj_x_sub</th><th>isj_y_sub</th><th>isj_sub</th><th>pathlen</th><th>dt</th><th>dt_l</th><th>dist_sub</th><th>dt_norm</th><th>len</th><th>speed_sub_bin_1</th><th>accel_sub_bin_1</th><th>jerk_sub_bin_1</th><th>dist_sub_bin_1</th><th>speed_sub_bin_2</th><th>accel_sub_bin_2</th><th>jerk_sub_bin_2</th><th>dist_sub_bin_2</th><th>speed_sub_bin_3</th><th>accel_sub_bin_3</th><th>jerk_sub_bin_3</th><th>dist_sub_bin_3</th><th>speed_sub_bin_4</th><th>accel_sub_bin_4</th><th>jerk_sub_bin_4</th><th>dist_sub_bin_4</th><th>speed_sub_bin_5</th><th>accel_sub_bin_5</th><th>jerk_sub_bin_5</th><th>dist_sub_bin_5</th><th>speed_sub_bin_6</th><th>accel_sub_bin_6</th><th>jerk_sub_bin_6</th><th>dist_sub_bin_6</th><th>speed_sub_bin_7</th><th>accel_sub_bin_7</th><th>jerk_sub_bin_7</th><th>dist_sub_bin_7</th><th>speed_sub_bin_8</th><th>accel_sub_bin_8</th><th>jerk_sub_bin_8</th><th>dist_sub_bin_8</th><th>file</th><th>subject</th><th>session</th><th>ix_block</th><th>ix_trial</th><th>stim</th><th>stim_ampl</th><th>stim_unit</th><th>exclude_due_to_protocol</th></tr><tr><td>f64</td><td>f64</td><td>bool</td><td>f64</td><td>f64</td><td>f64</td><td>f64</td><td>f64</td><td>f64</td><td>f64</td><td>f64</td><td>f64</td><td>f64</td><td>f64</td><td>f64</td><td>f64</td><td>f64</td><td>f64</td><td>f64</td><td>f64</td><td>f64</td><td>f64</td><td>i64</td><td>f64</td><td>f64</td><td>f64</td><td>f64</td><td>f64</td><td>f64</td><td>f64</td><td>f64</td><td>f64</td><td>f64</td><td>f64</td><td>f64</td><td>f64</td><td>f64</td><td>f64</td><td>f64</td><td>f64</td><td>f64</td><td>f64</td><td>f64</td><td>f64</td><td>f64</td><td>f64</td><td>f64</td><td>f64</td><td>f64</td><td>f64</td><td>f64</td><td>f64</td><td>f64</td><td>f64</td><td>f64</td><td>f64</td><td>f64</td><td>f64</td><td>f64</td><td>f64</td><td>str</td><td>str</td><td>str</td><td>i64</td><td>i64</td><td>str</td><td>str</td><td>str</td><td>bool</td></tr></thead><tbody><tr><td>7.5</td><td>2.658207</td><td>false</td><td>0.015723</td><td>329.01688</td><td>38470.831472</td><td>121.066667</td><td>268.4</td><td>14653.44</td><td>30960.48</td><td>54013.0</td><td>192131.0</td><td>123072.0</td><td>323.312522</td><td>1713.925475</td><td>118.8</td><td>264.533333</td><td>695.36</td><td>1337.013333</td><td>1139.0</td><td>3799.0</td><td>2469.0</td><td>476</td><td>13912.169429</td><td>13912.169429</td><td>17.40817</td><td>29.165974</td><td>0.912046</td><td>8.764706</td><td>-0.382353</td><td>-0.441176</td><td>16.276582</td><td>11.866667</td><td>-0.392857</td><td>0.923077</td><td>19.400252</td><td>8.907407</td><td>0.685185</td><td>-0.574074</td><td>16.308501</td><td>-8.166667</td><td>6.166667</td><td>0.166667</td><td>14.466881</td><td>-12.833333</td><td>-0.5</td><td>1.166667</td><td>13.648859</td><td>-8.9375</td><td>-1.125</td><td>0.5625</td><td>16.920803</td><td>-5.09375</td><td>0.34375</td><td>-0.046875</td><td>18.756972</td><td>2.394737</td><td>-0.473684</td><td>-0.210526</td><td>19.249721</td><td>&quot;/Volumes/MDExternM2/data/copyd…</td><td>&quot;PDI4&quot;</td><td>&quot;2&quot;</td><td>3</td><td>7</td><td>&quot;on&quot;</td><td>&quot;4&quot;</td><td>&quot;mA&quot;</td><td>true</td></tr><tr><td>7.5</td><td>2.906746</td><td>false</td><td>0.015991</td><td>265.589539</td><td>31037.776139</td><td>130.266667</td><td>198.266667</td><td>15108.053333</td><td>23370.791111</td><td>42242.0</td><td>112928.0</td><td>77585.0</td><td>260.261347</td><td>1339.947564</td><td>127.854777</td><td>195.56603</td><td>697.399349</td><td>949.238003</td><td>1279.0</td><td>2771.0</td><td>2025.0</td><td>468</td><td>10372.124775</td><td>10372.124775</td><td>14.659505</td><td>22.115405</td><td>0.89675</td><td>6.529412</td><td>0.28125</td><td>-0.533333</td><td>14.368355</td><td>10.904762</td><td>-0.357143</td><td>-0.142857</td><td>13.433351</td><td>4.913043</td><td>-0.413043</td><td>0.195652</td><td>13.957466</td><td>-1.833333</td><td>1.5</td><td>1.4803e-16</td><td>15.219352</td><td>-10.7</td><td>2.0</td><td>-0.7</td><td>11.01187</td><td>-9.75</td><td>-1.75</td><td>0.875</td><td>14.338755</td><td>-3.605263</td><td>-0.065789</td><td>0.092105</td><td>14.542383</td><td>2.454545</td><td>-0.477273</td><td>0.022727</td><td>15.691388</td><td>&quot;/Volumes/MDExternM2/data/copyd…</td><td>&quot;PDI4&quot;</td><td>&quot;2&quot;</td><td>3</td><td>6</td><td>&quot;on&quot;</td><td>&quot;4&quot;</td><td>&quot;mA&quot;</td><td>true</td></tr><tr><td>7.5</td><td>1.634271</td><td>false</td><td>0.015789</td><td>329.166665</td><td>38374.689382</td><td>95.733333</td><td>296.8</td><td>11053.777778</td><td>34672.888889</td><td>28303.0</td><td>256820.0</td><td>142561.5</td><td>323.833066</td><td>2009.710442</td><td>94.136967</td><td>293.165618</td><td>739.995341</td><td>1707.034708</td><td>1217.0</td><td>5179.0</td><td>3198.0</td><td>474</td><td>9179.241589</td><td>9179.241589</td><td>10.922186</td><td>19.324719</td><td>0.908222</td><td>7.194444</td><td>-0.75</td><td>-0.138889</td><td>11.621217</td><td>9.5375</td><td>0.2</td><td>-0.5875</td><td>11.5351</td><td>9.611111</td><td>-2.111111</td><td>0.055556</td><td>11.467246</td><td>0.0</td><td>0.0</td><td>0.75</td><td>12.987462</td><td>null</td><td>null</td><td>null</td><td>null</td><td>-12.638889</td><td>-1.111111</td><td>0.5</td><td>11.461252</td><td>-7.1375</td><td>0.576923</td><td>0.210526</td><td>11.008363</td><td>0.5</td><td>-0.178571</td><td>-0.25</td><td>7.67273</td><td>&quot;/Volumes/MDExternM2/data/copyd…</td><td>&quot;PDI4&quot;</td><td>&quot;2&quot;</td><td>3</td><td>10</td><td>&quot;on&quot;</td><td>&quot;4&quot;</td><td>&quot;mA&quot;</td><td>true</td></tr><tr><td>7.5</td><td>3.432702</td><td>false</td><td>0.015924</td><td>396.714783</td><td>47671.827619</td><td>153.2</td><td>328.933333</td><td>18371.093333</td><td>39530.506667</td><td>64936.0</td><td>335340.0</td><td>200138.0</td><td>390.028626</td><td>2323.271897</td><td>150.266667</td><td>323.466667</td><td>968.515556</td><td>1886.791111</td><td>1328.0</td><td>6061.0</td><td>3694.5</td><td>470</td><td>13289.229073</td><td>13289.229073</td><td>16.067388</td><td>28.214924</td><td>0.900574</td><td>10.5</td><td>-0.035714</td><td>-1.269231</td><td>11.834065</td><td>12.791667</td><td>-0.369565</td><td>0.23913</td><td>17.430196</td><td>8.730769</td><td>0.769231</td><td>-0.5</td><td>16.586888</td><td>-3.0</td><td>3.333333</td><td>1.5</td><td>16.823861</td><td>-12.25</td><td>2.25</td><td>2.25</td><td>17.154982</td><td>-15.1875</td><td>-1.9375</td><td>0.25</td><td>15.833344</td><td>-7.189189</td><td>0.324324</td><td>1.1702e-16</td><td>15.881171</td><td>2.769231</td><td>-0.461538</td><td>0.019231</td><td>15.854221</td><td>&quot;/Volumes/MDExternM2/data/copyd…</td><td>&quot;PDI4&quot;</td><td>&quot;2&quot;</td><td>3</td><td>1</td><td>&quot;on&quot;</td><td>&quot;4&quot;</td><td>&quot;mA&quot;</td><td>true</td></tr><tr><td>7.5</td><td>2.448874</td><td>false</td><td>0.015593</td><td>240.504245</td><td>28363.264938</td><td>113.866667</td><td>188.133333</td><td>13562.062222</td><td>22078.968889</td><td>31293.0</td><td>88271.0</td><td>59782.0</td><td>236.248284</td><td>1199.910009</td><td>112.067357</td><td>185.097032</td><td>635.839141</td><td>860.085981</td><td>1018.0</td><td>2006.0</td><td>1512.0</td><td>480</td><td>10610.592226</td><td>10610.592226</td><td>14.045378</td><td>22.059443</td><td>0.919694</td><td>4.75</td><td>-1.083333</td><td>-0.25</td><td>16.323413</td><td>8.651515</td><td>-0.181818</td><td>-0.060606</td><td>13.614816</td><td>4.625</td><td>2.625</td><td>-0.5</td><td>10.194484</td><td>-2.5</td><td>1.666667</td><td>0.166667</td><td>15.581599</td><td>-12.0</td><td>1.625</td><td>0.5</td><td>11.750313</td><td>-9.380952</td><td>-0.428571</td><td>-0.02381</td><td>13.872877</td><td>-2.590909</td><td>0.090909</td><td>-0.030303</td><td>14.736778</td><td>1.955882</td><td>-0.058824</td><td>-0.181818</td><td>14.243326</td><td>&quot;/Volumes/MDExternM2/data/copyd…</td><td>&quot;PDI4&quot;</td><td>&quot;2&quot;</td><td>3</td><td>11</td><td>&quot;on&quot;</td><td>&quot;4&quot;</td><td>&quot;mA&quot;</td><td>true</td></tr><tr><td>&hellip;</td><td>&hellip;</td><td>&hellip;</td><td>&hellip;</td><td>&hellip;</td><td>&hellip;</td><td>&hellip;</td><td>&hellip;</td><td>&hellip;</td><td>&hellip;</td><td>&hellip;</td><td>&hellip;</td><td>&hellip;</td><td>&hellip;</td><td>&hellip;</td><td>&hellip;</td><td>&hellip;</td><td>&hellip;</td><td>&hellip;</td><td>&hellip;</td><td>&hellip;</td><td>&hellip;</td><td>&hellip;</td><td>&hellip;</td><td>&hellip;</td><td>&hellip;</td><td>&hellip;</td><td>&hellip;</td><td>&hellip;</td><td>&hellip;</td><td>&hellip;</td><td>&hellip;</td><td>&hellip;</td><td>&hellip;</td><td>&hellip;</td><td>&hellip;</td><td>&hellip;</td><td>&hellip;</td><td>&hellip;</td><td>&hellip;</td><td>&hellip;</td><td>&hellip;</td><td>&hellip;</td><td>&hellip;</td><td>&hellip;</td><td>&hellip;</td><td>&hellip;</td><td>&hellip;</td><td>&hellip;</td><td>&hellip;</td><td>&hellip;</td><td>&hellip;</td><td>&hellip;</td><td>&hellip;</td><td>&hellip;</td><td>&hellip;</td><td>&hellip;</td><td>&hellip;</td><td>&hellip;</td><td>&hellip;</td><td>&hellip;</td><td>&hellip;</td><td>&hellip;</td><td>&hellip;</td><td>&hellip;</td><td>&hellip;</td><td>&hellip;</td><td>&hellip;</td><td>&hellip;</td></tr><tr><td>6.0</td><td>3.967871</td><td>false</td><td>0.016</td><td>101.849709</td><td>12083.524808</td><td>32.666667</td><td>91.0</td><td>3833.333333</td><td>10833.333333</td><td>2847.0</td><td>20299.0</td><td>11573.0</td><td>98.692781</td><td>613.897183</td><td>31.333333</td><td>88.5</td><td>263.888889</td><td>489.583333</td><td>239.0</td><td>738.0</td><td>488.5</td><td>374</td><td>3960.219533</td><td>3960.219533</td><td>9.182137</td><td>10.560585</td><td>0.717017</td><td>2.75</td><td>-0.75</td><td>0.6</td><td>8.98033</td><td>4.5</td><td>0.130435</td><td>-0.391304</td><td>9.256472</td><td>4.0</td><td>-1.0</td><td>2.0</td><td>8.975262</td><td>null</td><td>null</td><td>null</td><td>null</td><td>null</td><td>null</td><td>null</td><td>null</td><td>-3.736842</td><td>0.263158</td><td>-0.328947</td><td>9.158288</td><td>-1.083333</td><td>-0.25</td><td>-0.25</td><td>11.332309</td><td>0.75</td><td>-0.375</td><td>-0.125</td><td>10.878943</td><td>&quot;/Volumes/MDExternM2/data/copyd…</td><td>&quot;PDI4&quot;</td><td>&quot;2&quot;</td><td>2</td><td>4</td><td>&quot;off&quot;</td><td>&quot;4&quot;</td><td>&quot;mA&quot;</td><td>true</td></tr><tr><td>6.0</td><td>3.01285</td><td>false</td><td>0.01626</td><td>338.264808</td><td>38975.127145</td><td>109.666667</td><td>279.166667</td><td>12751.0</td><td>32062.0</td><td>42795.0</td><td>186270.0</td><td>114532.5</td><td>331.067567</td><td>1879.434933</td><td>107.166667</td><td>273.166667</td><td>741.416667</td><td>1513.583333</td><td>1231.0</td><td>4216.0</td><td>2723.5</td><td>368</td><td>11674.383228</td><td>11674.383228</td><td>17.509857</td><td>31.637895</td><td>0.705545</td><td>8.0</td><td>-0.115385</td><td>-0.269231</td><td>17.040004</td><td>12.454545</td><td>-0.818182</td><td>0.409091</td><td>15.696522</td><td>6.735294</td><td>-0.911765</td><td>0.382353</td><td>19.460457</td><td>null</td><td>null</td><td>null</td><td>null</td><td>null</td><td>null</td><td>null</td><td>null</td><td>-12.055556</td><td>-0.5625</td><td>1.0</td><td>16.284713</td><td>-7.586207</td><td>-0.189655</td><td>-0.12069</td><td>16.620379</td><td>3.857143</td><td>-0.690476</td><td>-0.47619</td><td>18.598795</td><td>&quot;/Volumes/MDExternM2/data/copyd…</td><td>&quot;PDI4&quot;</td><td>&quot;2&quot;</td><td>2</td><td>5</td><td>&quot;off&quot;</td><td>&quot;4&quot;</td><td>&quot;mA&quot;</td><td>true</td></tr><tr><td>6.0</td><td>2.229854</td><td>false</td><td>0.016173</td><td>274.889442</td><td>31034.39477</td><td>73.0</td><td>244.333333</td><td>8326.888889</td><td>27577.666667</td><td>13861.0</td><td>122281.0</td><td>68071.0</td><td>268.329315</td><td>1307.231298</td><td>72.637545</td><td>238.523746</td><td>455.651459</td><td>1079.174507</td><td>556.0</td><td>2848.0</td><td>1702.0</td><td>370</td><td>5917.071286</td><td>5917.071286</td><td>10.81001</td><td>15.948979</td><td>0.709369</td><td>8.090909</td><td>-0.681818</td><td>0.136364</td><td>10.867567</td><td>8.857143</td><td>0.666667</td><td>-0.75</td><td>12.152677</td><td>7.403846</td><td>0.076923</td><td>-3.5527e-17</td><td>11.236798</td><td>null</td><td>null</td><td>null</td><td>null</td><td>null</td><td>null</td><td>null</td><td>null</td><td>-8.0</td><td>-0.166667</td><td>-0.2</td><td>11.318872</td><td>-6.551724</td><td>0.241379</td><td>0.172414</td><td>10.686273</td><td>1.272727</td><td>-0.227273</td><td>-0.681818</td><td>11.154887</td><td>&quot;/Volumes/MDExternM2/data/copyd…</td><td>&quot;PDI4&quot;</td><td>&quot;2&quot;</td><td>2</td><td>9</td><td>&quot;off&quot;</td><td>&quot;4&quot;</td><td>&quot;mA&quot;</td><td>true</td></tr><tr><td>6.0</td><td>2.923547</td><td>false</td><td>0.012903</td><td>299.929664</td><td>43734.522152</td><td>117.166667</td><td>246.5</td><td>16830.416667</td><td>36321.666667</td><td>23314.0</td><td>118490.0</td><td>70902.0</td><td>294.922322</td><td>1872.512741</td><td>114.666667</td><td>243.5</td><td>818.055556</td><td>1463.888889</td><td>837.0</td><td>2552.0</td><td>1694.5</td><td>464</td><td>7923.124737</td><td>7923.124737</td><td>11.113196</td><td>17.038978</td><td>0.889101</td><td>4.1875</td><td>-1.0</td><td>0.1875</td><td>10.999134</td><td>7.9375</td><td>-0.282609</td><td>-0.152174</td><td>11.30828</td><td>6.071429</td><td>5.2868e-17</td><td>0.166667</td><td>11.426291</td><td>-1.25</td><td>1.125</td><td>-0.25</td><td>13.079487</td><td>-7.333333</td><td>1.0</td><td>0.833333</td><td>7.444815</td><td>-7.166667</td><td>0.722222</td><td>-0.611111</td><td>11.171685</td><td>-3.85</td><td>-0.316667</td><td>0.133333</td><td>10.20963</td><td>1.206897</td><td>-0.155172</td><td>-0.155172</td><td>11.450165</td><td>&quot;/Volumes/MDExternM2/data/copyd…</td><td>&quot;PDI4&quot;</td><td>&quot;2&quot;</td><td>1</td><td>1</td><td>&quot;off&quot;</td><td>&quot;4&quot;</td><td>&quot;mA&quot;</td><td>true</td></tr><tr><td>6.0</td><td>2.878263</td><td>false</td><td>0.013015</td><td>218.000646</td><td>31199.517053</td><td>108.333333</td><td>160.333333</td><td>15597.166667</td><td>22857.916667</td><td>19611.0</td><td>43283.0</td><td>31447.0</td><td>213.680721</td><td>1205.93775</td><td>107.599928</td><td>157.325397</td><td>634.632616</td><td>834.818743</td><td>525.0</td><td>1049.0</td><td>787.0</td><td>460</td><td>7362.293215</td><td>7362.293215</td><td>10.89156</td><td>15.970267</td><td>0.881453</td><td>3.928571</td><td>-0.452381</td><td>0.05</td><td>9.369516</td><td>5.581081</td><td>-0.297297</td><td>0.175676</td><td>10.944545</td><td>4.625</td><td>1.0</td><td>-0.0625</td><td>13.442805</td><td>-1.25</td><td>1.25</td><td>0.0</td><td>11.567034</td><td>-6.5</td><td>0.928571</td><td>-3.1721e-17</td><td>10.301283</td><td>-6.625</td><td>-1.375</td><td>0.875</td><td>16.190332</td><td>-2.583333</td><td>-0.0625</td><td>0.041667</td><td>10.379246</td><td>1.065217</td><td>-0.043478</td><td>0.108696</td><td>10.488641</td><td>&quot;/Volumes/MDExternM2/data/copyd…</td><td>&quot;PDI4&quot;</td><td>&quot;2&quot;</td><td>1</td><td>2</td><td>&quot;off&quot;</td><td>&quot;4&quot;</td><td>&quot;mA&quot;</td><td>true</td></tr></tbody></table></div>"
      ],
      "text/plain": [
       "shape: (26, 69)\n",
       "┌────────────┬─────────────┬────────────┬──────────┬───┬──────┬───────────┬───────────┬────────────┐\n",
       "│ trial_time ┆ pre_trial_t ┆ is_fragmen ┆ delta_t  ┆ … ┆ stim ┆ stim_ampl ┆ stim_unit ┆ exclude_du │\n",
       "│ ---        ┆ ime         ┆ ted        ┆ ---      ┆   ┆ ---  ┆ ---       ┆ ---       ┆ e_to_proto │\n",
       "│ f64        ┆ ---         ┆ ---        ┆ f64      ┆   ┆ str  ┆ str       ┆ str       ┆ col        │\n",
       "│            ┆ f64         ┆ bool       ┆          ┆   ┆      ┆           ┆           ┆ ---        │\n",
       "│            ┆             ┆            ┆          ┆   ┆      ┆           ┆           ┆ bool       │\n",
       "╞════════════╪═════════════╪════════════╪══════════╪═══╪══════╪═══════════╪═══════════╪════════════╡\n",
       "│ 7.5        ┆ 2.658207    ┆ false      ┆ 0.015723 ┆ … ┆ on   ┆ 4         ┆ mA        ┆ true       │\n",
       "│ 7.5        ┆ 2.906746    ┆ false      ┆ 0.015991 ┆ … ┆ on   ┆ 4         ┆ mA        ┆ true       │\n",
       "│ 7.5        ┆ 1.634271    ┆ false      ┆ 0.015789 ┆ … ┆ on   ┆ 4         ┆ mA        ┆ true       │\n",
       "│ 7.5        ┆ 3.432702    ┆ false      ┆ 0.015924 ┆ … ┆ on   ┆ 4         ┆ mA        ┆ true       │\n",
       "│ 7.5        ┆ 2.448874    ┆ false      ┆ 0.015593 ┆ … ┆ on   ┆ 4         ┆ mA        ┆ true       │\n",
       "│ …          ┆ …           ┆ …          ┆ …        ┆ … ┆ …    ┆ …         ┆ …         ┆ …          │\n",
       "│ 6.0        ┆ 3.967871    ┆ false      ┆ 0.016    ┆ … ┆ off  ┆ 4         ┆ mA        ┆ true       │\n",
       "│ 6.0        ┆ 3.01285     ┆ false      ┆ 0.01626  ┆ … ┆ off  ┆ 4         ┆ mA        ┆ true       │\n",
       "│ 6.0        ┆ 2.229854    ┆ false      ┆ 0.016173 ┆ … ┆ off  ┆ 4         ┆ mA        ┆ true       │\n",
       "│ 6.0        ┆ 2.923547    ┆ false      ┆ 0.012903 ┆ … ┆ off  ┆ 4         ┆ mA        ┆ true       │\n",
       "│ 6.0        ┆ 2.878263    ┆ false      ┆ 0.013015 ┆ … ┆ off  ┆ 4         ┆ mA        ┆ true       │\n",
       "└────────────┴─────────────┴────────────┴──────────┴───┴──────┴───────────┴───────────┴────────────┘"
      ]
     },
     "execution_count": 30,
     "metadata": {},
     "output_type": "execute_result"
    }
   ],
   "source": [
    "df.filter(pl.col(\"trial_time\") < 9)"
   ]
  }
 ],
 "metadata": {
  "kernelspec": {
   "display_name": "neuro",
   "language": "python",
   "name": "python3"
  },
  "language_info": {
   "codemirror_mode": {
    "name": "ipython",
    "version": 3
   },
   "file_extension": ".py",
   "mimetype": "text/x-python",
   "name": "python",
   "nbconvert_exporter": "python",
   "pygments_lexer": "ipython3",
   "version": "3.11.13"
  }
 },
 "nbformat": 4,
 "nbformat_minor": 5
}
