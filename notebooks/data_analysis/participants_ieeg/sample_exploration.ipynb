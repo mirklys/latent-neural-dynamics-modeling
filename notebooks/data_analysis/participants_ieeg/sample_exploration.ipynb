{
 "cells": [
  {
   "cell_type": "code",
   "execution_count": null,
   "id": "da354cfc",
   "metadata": {},
   "outputs": [],
   "source": [
    "import os\n",
    "import polars as pl\n",
    "import mne"
   ]
  },
  {
   "cell_type": "code",
   "execution_count": null,
   "id": "a99335ba",
   "metadata": {},
   "outputs": [],
   "source": [
    "ROOT_PATH = \"/home/bobby/repos/latent-neural-dynamics-modeling\"\n",
    "DATA_PATH = os.path.join(ROOT_PATH, \"data\")"
   ]
  },
  {
   "cell_type": "code",
   "execution_count": null,
   "id": "3537079a",
   "metadata": {},
   "outputs": [],
   "source": [
    "participants = pl.read_csv(\n",
    "    os.path.join(DATA_PATH, \"participants.tsv\"), separator=\"\\t\", null_values=\"n/a\"\n",
    ")"
   ]
  },
  {
   "cell_type": "code",
   "execution_count": null,
   "id": "f1f03fcc",
   "metadata": {},
   "outputs": [],
   "source": [
    "def list_files(folder_path: str, root_: bool = False) -> list:\n",
    "    if root_:\n",
    "        return os.listdir(folder_path)\n",
    "    else:\n",
    "        return os.listdir(os.path.join(DATA_PATH, folder_path))"
   ]
  },
  {
   "cell_type": "code",
   "execution_count": null,
   "id": "d4676a84",
   "metadata": {},
   "outputs": [],
   "source": [
    "participants = participants.with_columns(\n",
    "    pl.col(\"participant_id\")\n",
    "    .map_elements(lambda pid: list_files(pid), return_dtype=pl.List(pl.String))\n",
    "    .alias(\"session\")\n",
    ").explode(pl.col(\"session\"))"
   ]
  },
  {
   "cell_type": "markdown",
   "id": "e9ff3384",
   "metadata": {},
   "source": [
    "## iEEG"
   ]
  },
  {
   "cell_type": "code",
   "execution_count": null,
   "id": "a1d5664b",
   "metadata": {},
   "outputs": [],
   "source": [
    "participants_ieeg = participants.with_columns(\n",
    "    pl.concat_str(\n",
    "        [\n",
    "            pl.lit(DATA_PATH),\n",
    "            pl.col(\"participant_id\"),\n",
    "            pl.col(\"session\"),\n",
    "            pl.lit(\"ieeg\"),\n",
    "        ],\n",
    "        separator=\"/\",\n",
    "    ).alias(\"ieeg_path\"),\n",
    ")"
   ]
  },
  {
   "cell_type": "code",
   "execution_count": null,
   "id": "34d4d49a",
   "metadata": {},
   "outputs": [],
   "source": [
    "participants_ieeg = participants_ieeg.with_columns(\n",
    "    pl.col(\"ieeg_path\")\n",
    "    .map_elements(\n",
    "        lambda ieeg_path: list_files(ieeg_path, root_=True),\n",
    "        return_dtype=pl.List(pl.String),\n",
    "    )\n",
    "    .alias(\"ieeg_file\")\n",
    ").explode(pl.col(\"ieeg_file\"))"
   ]
  },
  {
   "cell_type": "code",
   "execution_count": null,
   "id": "34a6027b",
   "metadata": {},
   "outputs": [],
   "source": [
    "participants_ieeg = (\n",
    "    participants_ieeg.with_columns(\n",
    "        pl.col(\"ieeg_file\").str.split(by=\"_\").alias(\"splitted_file\")\n",
    "    )\n",
    "    .with_columns(\n",
    "        pl.col(\"splitted_file\").list.get(-1).str.split(\".\").list.get(0).alias(\"type\"),\n",
    "        pl.col(\"splitted_file\")\n",
    "        .list.get(-1)\n",
    "        .str.split(\".\")\n",
    "        .list.get(-1)\n",
    "        .alias(\"data_format\"),\n",
    "        pl.col(\"splitted_file\").list.get(-2).alias(\"run\"),\n",
    "    )\n",
    "    .drop(\"splitted_file\")\n",
    ").filter(~((pl.col(\"type\") == \"channels\") & (pl.col(\"data_format\") == \"tsv\")))"
   ]
  },
  {
   "cell_type": "code",
   "execution_count": null,
   "id": "0f336a2c",
   "metadata": {},
   "outputs": [],
   "source": [
    "def read_csv_(row: dict[str, str]) -> pl.Series:\n",
    "    keys = row.keys()\n",
    "    for k in keys:\n",
    "        if \"path\" in k:\n",
    "            path_ = row[k]\n",
    "        elif \"file\" in k:\n",
    "            file_ = row[k]\n",
    "    df = pl.read_csv(\n",
    "        os.path.join(path_, file_),\n",
    "        separator=\"\\t\",\n",
    "        null_values=\"n/a\",\n",
    "    )\n",
    "    , \n",
    "    return df.to_struct()"
   ]
  },
  {
   "cell_type": "code",
   "execution_count": null,
   "id": "1a2e3c84",
   "metadata": {},
   "outputs": [],
   "source": [
    "events_schema = pl.List(\n",
    "    pl.Struct(\n",
    "        [\n",
    "            pl.Field(\"onset\", pl.Float64),\n",
    "            pl.Field(\"duration\", pl.Float64),\n",
    "            pl.Field(\"trial_type\", pl.Int64),\n",
    "            pl.Field(\"value\", pl.Int64),\n",
    "            pl.Field(\"sample\", pl.Int64),\n",
    "        ]\n",
    "    )\n",
    ")"
   ]
  },
  {
   "cell_type": "code",
   "execution_count": null,
   "id": "26b263c8",
   "metadata": {},
   "outputs": [],
   "source": [
    "events_df = participants_ieeg.filter(\n",
    "    (pl.col(\"type\") == \"events\") & (pl.col(\"data_format\") == \"tsv\")\n",
    ").select(\n",
    "    \"participant_id\",\n",
    "    \"session\",\n",
    "    \"run\",\n",
    "    pl.struct([\"ieeg_path\", \"ieeg_file\"])\n",
    "    .map_elements(read_csv_, return_dtype=events_schema)\n",
    "    .alias(\"events\"),\n",
    ")"
   ]
  },
  {
   "cell_type": "code",
   "execution_count": null,
   "id": "0c6f921e",
   "metadata": {},
   "outputs": [],
   "source": [
    "events_df = events_df.explode(\"events\").filter(\n",
    "    pl.col(\"events\").struct.field(\"value\") != 25\n",
    ")"
   ]
  },
  {
   "cell_type": "code",
   "execution_count": null,
   "id": "4297cfcd",
   "metadata": {},
   "outputs": [],
   "source": [
    "events_df = events_df.sort(\n",
    "    by=[\n",
    "        pl.col(\"participant_id\"),\n",
    "        pl.col(\"session\"),\n",
    "        pl.col(\"run\"),\n",
    "        pl.col(\"events\").struct.field(\"onset\"),\n",
    "    ]\n",
    ")"
   ]
  },
  {
   "cell_type": "code",
   "execution_count": null,
   "id": "2d6912a1",
   "metadata": {},
   "outputs": [],
   "source": [
    "events_df = events_df.group_by([\"participant_id\", \"session\", \"run\"]).agg(\n",
    "    pl.col(\"events\")\n",
    ")"
   ]
  },
  {
   "cell_type": "code",
   "execution_count": null,
   "id": "aaeade02",
   "metadata": {},
   "outputs": [],
   "source": [
    "participants_ieeg = participants_ieeg.join(\n",
    "    events_df, on=[\"participant_id\", \"session\", \"run\"], how=\"left\"\n",
    ").filter(~((pl.col(\"type\") == \"events\") & (pl.col(\"data_format\") == \"tsv\")))"
   ]
  },
  {
   "cell_type": "code",
   "execution_count": null,
   "id": "2121f075",
   "metadata": {},
   "outputs": [],
   "source": [
    "participants_ieeg = participants_ieeg.filter(~(pl.col(\"data_format\") == \"json\"))"
   ]
  },
  {
   "cell_type": "code",
   "execution_count": null,
   "id": "b8138f12",
   "metadata": {},
   "outputs": [],
   "source": [
    "headers_df = participants_ieeg.filter(\n",
    "    (pl.col(\"type\") == \"ieeg\") & (pl.col(\"data_format\") == \"vhdr\")\n",
    ").select(\n",
    "    \"participant_id\",\n",
    "    \"session\",\n",
    "    \"run\",\n",
    "    pl.col(\"ieeg_file\").alias(\"ieeg_headers_file\"),\n",
    ")"
   ]
  },
  {
   "cell_type": "code",
   "execution_count": null,
   "id": "11f5217c",
   "metadata": {},
   "outputs": [],
   "source": [
    "participants_ieeg = participants_ieeg.join(\n",
    "    headers_df, on=[\"participant_id\", \"session\", \"run\"], how=\"left\"\n",
    ").filter(~((pl.col(\"type\") == \"ieeg\") & ~(pl.col(\"data_format\") == \"eeg\")))"
   ]
  },
  {
   "cell_type": "code",
   "execution_count": null,
   "id": "7cb2bfa3",
   "metadata": {},
   "outputs": [],
   "source": [
    "participants_ieeg = participants_ieeg.drop(\n",
    "    \"type\", \"data_format\", \"channels_info_right\", strict=False\n",
    ")"
   ]
  },
  {
   "cell_type": "code",
   "execution_count": null,
   "id": "a174acf6",
   "metadata": {},
   "outputs": [],
   "source": [
    "def band_pass_resample(ieeg_headers_file: str) -> pl.Struct | None:\n",
    "    sfreq = 1000\n",
    "    low_freq = 3\n",
    "    high_freq = 100\n",
    "    os.makedirs(\"./resampled\", exist_ok=True)\n",
    "    ieeg_file = f\"./resampled/{ieeg_headers_file.split('/')[-1].split('.')[0]}.fif\"\n",
    "\n",
    "    if not os.path.exists(ieeg_headers_file):\n",
    "        return None\n",
    "\n",
    "    try:\n",
    "        raw = mne.io.read_raw_brainvision(\n",
    "            ieeg_headers_file, preload=True, verbose=False\n",
    "        )\n",
    "\n",
    "        raw.notch_filter(freqs=[50, 100], verbose=False)\n",
    "        raw.filter(l_freq=low_freq, h_freq=high_freq)\n",
    "        raw.resample(sfreq=sfreq, verbose=False)\n",
    "\n",
    "        data = raw.get_data()\n",
    "        channels_data = {ch: d.tolist() for ch, d in zip(raw.ch_names, data)}\n",
    "        print(channels_data)\n",
    "        return pl.DataFrame(channels_data).to_struct()\n",
    "    except Exception as e:\n",
    "        return None"
   ]
  },
  {
   "cell_type": "code",
   "execution_count": null,
   "id": "e66608fc",
   "metadata": {},
   "outputs": [],
   "source": []
  },
  {
   "cell_type": "code",
   "execution_count": null,
   "id": "2b72286e",
   "metadata": {},
   "outputs": [],
   "source": [
    "participants_ieeg = participants_ieeg.with_columns(\n",
    "    pl.concat_str(pl.col(\"ieeg_path\"), pl.col(\"ieeg_headers_file\"), separator=\"/\")\n",
    "    .map_elements(band_pass_resample, return_dtype=pl.List(pl.Struct))\n",
    "    .alias(\"ieeg_raw\")\n",
    ")"
   ]
  },
  {
   "cell_type": "code",
   "execution_count": null,
   "id": "045bc8cb",
   "metadata": {},
   "outputs": [],
   "source": [
    "participants_ieeg"
   ]
  },
  {
   "cell_type": "code",
   "execution_count": null,
   "id": "82c6dc73",
   "metadata": {},
   "outputs": [],
   "source": [
    "participants_ieeg = participants_ieeg.unnest(\"ieeg_raw\")"
   ]
  },
  {
   "cell_type": "code",
   "execution_count": null,
   "id": "d2c2da3c",
   "metadata": {},
   "outputs": [],
   "source": [
    "participants_ieeg"
   ]
  },
  {
   "cell_type": "code",
   "execution_count": null,
   "id": "9131e4e0",
   "metadata": {},
   "outputs": [],
   "source": [
    "participants_ieeg.write_parquet(\n",
    "    \"./participants_ieeg\", partition_by=[\"participant_id\", \"session\"]\n",
    ")"
   ]
  },
  {
   "cell_type": "code",
   "execution_count": null,
   "id": "e901bec3",
   "metadata": {},
   "outputs": [],
   "source": [
    "participants_ieeg = pl.read_parquet(\"./participants_ieeg\")"
   ]
  },
  {
   "cell_type": "code",
   "execution_count": null,
   "id": "68911cf7",
   "metadata": {},
   "outputs": [],
   "source": [
    "participants_ieeg"
   ]
  },
  {
   "cell_type": "markdown",
   "id": "4e0c5bf8",
   "metadata": {},
   "source": [
    "## Motion"
   ]
  },
  {
   "cell_type": "code",
   "execution_count": null,
   "id": "580a60d3",
   "metadata": {},
   "outputs": [],
   "source": [
    "participants_motion = participants.with_columns(\n",
    "    pl.concat_str(\n",
    "        [\n",
    "            pl.lit(DATA_PATH),\n",
    "            pl.col(\"participant_id\"),\n",
    "            pl.col(\"session\"),\n",
    "            pl.lit(\"motion\"),\n",
    "        ],\n",
    "        separator=\"/\",\n",
    "    ).alias(\"motion_path\"),\n",
    ")"
   ]
  },
  {
   "cell_type": "code",
   "execution_count": null,
   "id": "a7e55ae5",
   "metadata": {},
   "outputs": [],
   "source": [
    "participants_motion = participants_motion.with_columns(\n",
    "    pl.col(\"motion_path\")\n",
    "    .map_elements(\n",
    "        lambda motion_path: list_files(motion_path, root_=True),\n",
    "        return_dtype=pl.List(pl.String),\n",
    "    )\n",
    "    .alias(\"motion_file\")\n",
    ").explode(pl.col(\"motion_file\"))"
   ]
  },
  {
   "cell_type": "code",
   "execution_count": null,
   "id": "b78642d6",
   "metadata": {},
   "outputs": [],
   "source": [
    "participants_motion = (\n",
    "    participants_motion.with_columns(\n",
    "        pl.col(\"motion_file\").str.split(by=\"_\").alias(\"splitted_file\")\n",
    "    )\n",
    "    .with_columns(\n",
    "        pl.col(\"splitted_file\")\n",
    "        .list.get(-1)\n",
    "        .str.split(\".\")\n",
    "        .list.get(-1)\n",
    "        .alias(\"data_format\"),\n",
    "        pl.col(\"splitted_file\").list.get(-1).str.split(\".\").list.get(0).alias(\"type\"),\n",
    "        pl.col(\"splitted_file\").list.get(-3).alias(\"chunk\"),\n",
    "        pl.col(\"splitted_file\").list.get(-4).alias(\"run\"),\n",
    "    )\n",
    "    .drop(\"splitted_file\")\n",
    ")"
   ]
  },
  {
   "cell_type": "code",
   "execution_count": null,
   "id": "d745e1e2",
   "metadata": {},
   "outputs": [],
   "source": [
    "participants_motion = participants_motion.filter(pl.col(\"data_format\") != \"json\").drop(\n",
    "    \"data_format\"\n",
    ")\n",
    "participants_motion = participants_motion.filter(pl.col(\"type\") != \"channels\").drop(\n",
    "    \"type\"\n",
    ")"
   ]
  },
  {
   "cell_type": "code",
   "execution_count": null,
   "id": "9ade21cc",
   "metadata": {},
   "outputs": [],
   "source": [
    "participants_motion"
   ]
  },
  {
   "cell_type": "code",
   "execution_count": null,
   "id": "0af54bc1",
   "metadata": {},
   "outputs": [],
   "source": [
    "motion_schema = pl.List(\n",
    "    pl.Struct(\n",
    "        [\n",
    "            pl.Field(\"x\", pl.List(pl.Float64)),\n",
    "            pl.Field(\"y\", pl.List(pl.Float64)),\n",
    "        ]\n",
    "    )\n",
    ")"
   ]
  },
  {
   "cell_type": "code",
   "execution_count": null,
   "id": "61be3910",
   "metadata": {},
   "outputs": [],
   "source": [
    "participants_motion = participants_motion.with_columns(\n",
    "    pl.struct([\"motion_path\", \"motion_file\"])\n",
    "    .map_elements(read_csv_, return_dtype=motion_schema)\n",
    "    .alias(\"motion_coordinates\"),\n",
    ")"
   ]
  },
  {
   "cell_type": "code",
   "execution_count": null,
   "id": "a196c606",
   "metadata": {},
   "outputs": [],
   "source": [
    "participants_motion.collect_schema()"
   ]
  },
  {
   "cell_type": "code",
   "execution_count": null,
   "id": "9bbb7e57",
   "metadata": {},
   "outputs": [],
   "source": [
    "participants_motion"
   ]
  },
  {
   "cell_type": "markdown",
   "id": "7568b981",
   "metadata": {},
   "source": []
  }
 ],
 "metadata": {
  "kernelspec": {
   "display_name": "neuro",
   "language": "python",
   "name": "python3"
  },
  "language_info": {
   "codemirror_mode": {
    "name": "ipython",
    "version": 3
   },
   "file_extension": ".py",
   "mimetype": "text/x-python",
   "name": "python",
   "nbconvert_exporter": "python",
   "pygments_lexer": "ipython3",
   "version": "3.11.13"
  }
 },
 "nbformat": 4,
 "nbformat_minor": 5
}
