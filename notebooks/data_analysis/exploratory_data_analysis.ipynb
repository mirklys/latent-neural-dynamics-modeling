{
 "cells": [
  {
   "cell_type": "code",
   "execution_count": 11,
   "id": "79837e0e",
   "metadata": {},
   "outputs": [],
   "source": [
    "import sys\n",
    "project_root = \"/home/bobby/repos/latent-neural-dynamics-modeling\"\n",
    "if project_root not in sys.path:\n",
    "    sys.path.insert(0, project_root)"
   ]
  },
  {
   "cell_type": "markdown",
   "id": "f3d15ffa",
   "metadata": {},
   "source": [
    "# Exploratory Data Analysis To-Do List\n",
    "\n",
    "This checklist outlines the key steps for the initial exploratory data analysis (EDA) based on the project proposal.\n"
   ]
  },
  {
   "cell_type": "markdown",
   "id": "f84dc485",
   "metadata": {
    "vscode": {
     "languageId": "plaintext"
    }
   },
   "source": [
    "### 1. Setup and Initial Data Loading\n",
    "\n",
    "* Import necessary libraries (`numpy`,  `scipy`,  `pandas`,  `matplotlib`,  `mne`, etc.).\n",
    "* Define file paths and constants.\n",
    "* Load data for a single participant and session to establish the workflow.\n"
   ]
  },
  {
   "cell_type": "code",
   "execution_count": 10,
   "id": "db48e190",
   "metadata": {},
   "outputs": [],
   "source": [
    "from pathlib import Path\n",
    "import plotly.express as px\n",
    "import polars as pl\n",
    "\n",
    "from utils.file_handling import get_child_subchilds_tuples"
   ]
  },
  {
   "cell_type": "code",
   "execution_count": 14,
   "id": "0c6190a1",
   "metadata": {},
   "outputs": [],
   "source": [
    "ROOT_PATH = Path(project_root)\n",
    "DATA_PATH = ROOT_PATH / \"resampled_recordings\"\n",
    "PARTICIPANTS_PATH = DATA_PATH / \"participants\""
   ]
  },
  {
   "cell_type": "code",
   "execution_count": 37,
   "id": "27c15ee6",
   "metadata": {},
   "outputs": [],
   "source": [
    "def load_participant_session_data(participant_id: str, session_id: str) -> pl.DataFrame:\n",
    "    p_partition_path = PARTICIPANTS_PATH / participant_id / session_id / \"*\"\n",
    "    print(f\"Loading data from: {p_partition_path}\")\n",
    "    return pl.read_parquet(p_partition_path)"
   ]
  },
  {
   "cell_type": "code",
   "execution_count": 31,
   "id": "962edc2f",
   "metadata": {},
   "outputs": [
    {
     "data": {
      "text/plain": [
       "[('participant_id=PDI4', 'session=3'),\n",
       " ('participant_id=PDI4', 'session=2'),\n",
       " ('participant_id=PDI1', 'session=4'),\n",
       " ('participant_id=PDI1', 'session=2'),\n",
       " ('participant_id=PDI3', 'session=4'),\n",
       " ('participant_id=PDI3', 'session=2'),\n",
       " ('participant_id=PDI2', 'session=4'),\n",
       " ('participant_id=PDI2', 'session=2')]"
      ]
     },
     "execution_count": 31,
     "metadata": {},
     "output_type": "execute_result"
    }
   ],
   "source": [
    "participants_partitions = get_child_subchilds_tuples(PARTICIPANTS_PATH)\n",
    "participants_partitions"
   ]
  },
  {
   "cell_type": "code",
   "execution_count": 36,
   "id": "b58890df",
   "metadata": {},
   "outputs": [],
   "source": [
    "participant_id = \"participant_id=PDI1\"\n",
    "session_id = \"session=2\""
   ]
  },
  {
   "cell_type": "code",
   "execution_count": 38,
   "id": "38e91e94",
   "metadata": {},
   "outputs": [
    {
     "name": "stdout",
     "output_type": "stream",
     "text": [
      "Loading data from: /home/bobby/repos/latent-neural-dynamics-modeling/resampled_recordings/participants/participant_id=PDI1/session=2/*\n"
     ]
    },
    {
     "data": {
      "text/html": [
       "<div><style>\n",
       ".dataframe > thead > tr,\n",
       ".dataframe > tbody > tr {\n",
       "  text-align: right;\n",
       "  white-space: pre-wrap;\n",
       "}\n",
       "</style>\n",
       "<small>shape: (144, 35)</small><table border=\"1\" class=\"dataframe\"><thead><tr><th>participant_id</th><th>session</th><th>block</th><th>trial</th><th>onset</th><th>duration</th><th>time</th><th>start_ts</th><th>trial_length_ts</th><th>chunk_margin</th><th>dbs_stim</th><th>yscore</th><th>LFP_1</th><th>LFP_2</th><th>LFP_3</th><th>LFP_4</th><th>LFP_5</th><th>LFP_6</th><th>LFP_7</th><th>LFP_8</th><th>LFP_9</th><th>LFP_10</th><th>LFP_11</th><th>LFP_12</th><th>LFP_13</th><th>LFP_14</th><th>LFP_15</th><th>LFP_16</th><th>ECOG_1</th><th>ECOG_2</th><th>ECOG_3</th><th>ECOG_4</th><th>x</th><th>y</th><th>tracing_coordinates_present</th></tr><tr><td>str</td><td>u32</td><td>u32</td><td>u32</td><td>f64</td><td>f32</td><td>list[f64]</td><td>u32</td><td>u32</td><td>i32</td><td>i32</td><td>f32</td><td>list[f32]</td><td>list[f32]</td><td>list[f32]</td><td>list[f32]</td><td>list[f32]</td><td>list[f32]</td><td>list[f32]</td><td>list[f32]</td><td>list[f32]</td><td>list[f32]</td><td>list[f32]</td><td>list[f32]</td><td>list[f32]</td><td>list[f32]</td><td>list[f32]</td><td>list[f32]</td><td>list[f32]</td><td>list[f32]</td><td>list[f32]</td><td>list[f32]</td><td>list[i64]</td><td>list[i64]</td><td>bool</td></tr></thead><tbody><tr><td>&quot;PDI1&quot;</td><td>2</td><td>1</td><td>1</td><td>16.102864</td><td>11.019526</td><td>[16.102864, 16.103864, … 27.120864]</td><td>16102</td><td>11019</td><td>2</td><td>0</td><td>2.703554</td><td>[0.00001, 0.000007, … -0.000001]</td><td>[0.000009, 0.000005, … -0.000001]</td><td>[0.000027, 0.000002, … -0.00003]</td><td>[0.000006, 0.000079, … 0.000089]</td><td>[0.000004, 3.8836e-7, … -0.000002]</td><td>[-0.000028, -0.000034, … -0.000048]</td><td>[-0.000022, -0.000053, … -0.000019]</td><td>[0.000005, 0.000002, … 0.000002]</td><td>[0.000006, 2.1811e-7, … -0.000001]</td><td>[5.0463e-7, -0.000005, … 0.000002]</td><td>[0.000002, -0.000002, … -5.1700e-7]</td><td>[0.000002, -0.000002, … -2.2884e-7]</td><td>[0.000005, -7.1312e-7, … 6.5943e-7]</td><td>[0.000004, -0.000002, … 0.000003]</td><td>[0.000004, -0.000002, … -0.000003]</td><td>[0.000004, -0.000001, … -4.0172e-7]</td><td>[-0.000019, -0.000023, … 0.000012]</td><td>[-0.000017, -0.000018, … 0.000013]</td><td>[-0.000015, -0.000015, … 0.00001]</td><td>[-0.000013, -0.00001, … 0.000007]</td><td>[-15, -113, … -360]</td><td>[217, 45, … 47]</td><td>true</td></tr><tr><td>&quot;PDI1&quot;</td><td>2</td><td>1</td><td>2</td><td>34.896455</td><td>11.019526</td><td>[34.896455, 34.897455, … 45.914455]</td><td>34896</td><td>11019</td><td>2</td><td>0</td><td>1.811423</td><td>[0.000001, -6.8187e-7, … 6.2975e-7]</td><td>[-0.000005, -0.000007, … -0.000005]</td><td>[0.000009, -0.000004, … -0.000032]</td><td>[5.1902e-7, -0.00005, … 0.000014]</td><td>[-0.000002, -0.000005, … -0.000006]</td><td>[0.00001, 0.00001, … -0.000009]</td><td>[-0.000022, -0.000035, … -0.000036]</td><td>[-0.000005, -0.000007, … -8.7612e-8]</td><td>[-4.5056e-7, -0.000002, … -0.000009]</td><td>[0.000001, -0.000001, … -0.000007]</td><td>[-0.000003, -0.000004, … -0.000004]</td><td>[-0.000005, -0.000007, … -0.000003]</td><td>[-0.000002, -0.000005, … -0.000003]</td><td>[-0.000004, -0.000006, … -0.000002]</td><td>[-0.000012, -0.000014, … 0.000004]</td><td>[-0.000006, -0.000008, … 6.7189e-9]</td><td>[0.000008, 0.000004, … -0.000005]</td><td>[0.000002, -0.000002, … -0.000007]</td><td>[0.000004, 2.4216e-7, … -0.00001]</td><td>[0.000008, 0.000007, … -0.000009]</td><td>[-6, -23, … -301]</td><td>[48, -6, … 24]</td><td>true</td></tr><tr><td>&quot;PDI1&quot;</td><td>2</td><td>1</td><td>3</td><td>53.729091</td><td>11.019526</td><td>[53.729091, 53.730091, … 64.747091]</td><td>53729</td><td>11019</td><td>2</td><td>0</td><td>2.518298</td><td>[0.000004, 0.000006, … -0.000015]</td><td>[0.000004, 0.000005, … -0.000027]</td><td>[0.00005, 0.000018, … -0.000042]</td><td>[-0.000046, -0.00002, … -0.000041]</td><td>[0.000004, 0.000006, … -0.000023]</td><td>[0.000036, 0.000017, … -0.000023]</td><td>[0.000032, 0.000026, … -0.000038]</td><td>[0.000005, 0.000006, … -0.000026]</td><td>[0.000012, 0.000013, … -0.000019]</td><td>[0.000013, 0.000013, … -0.000016]</td><td>[0.000014, 0.000015, … -0.000023]</td><td>[0.00001, 0.000011, … -0.000026]</td><td>[0.000016, 0.000017, … -0.000028]</td><td>[-0.000005, -0.000004, … -0.000032]</td><td>[-0.000005, -0.000004, … -0.000043]</td><td>[0.000008, 0.000009, … -0.000029]</td><td>[0.000014, 0.000012, … 0.000009]</td><td>[0.000021, 0.000021, … 0.000016]</td><td>[0.000017, 0.000017, … 0.000014]</td><td>[0.000012, 0.000012, … 0.00001]</td><td>[-281, -209, … 3]</td><td>[-1, 110, … -193]</td><td>true</td></tr><tr><td>&quot;PDI1&quot;</td><td>2</td><td>1</td><td>4</td><td>70.946727</td><td>11.019526</td><td>[70.946727, 70.947727, … 81.964727]</td><td>70946</td><td>11019</td><td>2</td><td>0</td><td>2.052713</td><td>[-0.000001, 0.000003, … 0.00002]</td><td>[-0.000005, -9.3995e-7, … 0.000018]</td><td>[-0.000016, -0.000022, … -0.000024]</td><td>[-0.000067, -0.000082, … -0.000057]</td><td>[-0.000002, 0.000001, … 0.000021]</td><td>[-0.000024, -0.000007, … 0.000027]</td><td>[0.000002, 0.000026, … 0.00002]</td><td>[-0.000003, 1.3734e-7, … 0.000019]</td><td>[-0.000008, -0.000004, … 0.000006]</td><td>[-0.000006, -0.000002, … 0.000003]</td><td>[4.5071e-7, 0.000004, … 0.000009]</td><td>[-0.000004, -6.8121e-7, … 0.000006]</td><td>[-0.000004, -0.000001, … 0.000007]</td><td>[-0.000005, -0.000003, … 0.00001]</td><td>[-0.000016, -0.000013, … 0.000006]</td><td>[-0.000004, -0.000001, … 0.00001]</td><td>[-0.000003, -0.000013, … -0.000015]</td><td>[-0.000007, -0.000018, … -0.000007]</td><td>[-0.000006, -0.000015, … -0.000002]</td><td>[-0.000013, -0.000021, … -0.000004]</td><td>[-56, 41, … -199]</td><td>[-175, 132, … -168]</td><td>true</td></tr><tr><td>&quot;PDI1&quot;</td><td>2</td><td>1</td><td>5</td><td>89.455591</td><td>11.019526</td><td>[89.455591, 89.456591, … 100.473591]</td><td>89455</td><td>11019</td><td>2</td><td>0</td><td>0.443145</td><td>[0.000009, 0.000001, … -0.000025]</td><td>[0.000004, -0.000004, … -0.000023]</td><td>[-0.000008, -0.000029, … -0.000048]</td><td>[0.000063, -0.000077, … -0.000084]</td><td>[0.000004, -0.000003, … -0.000023]</td><td>[-0.000031, -0.000035, … 0.00002]</td><td>[0.000017, 0.000022, … -0.000005]</td><td>[0.000006, 8.9125e-8, … -0.000029]</td><td>[0.000008, 0.000003, … -0.000027]</td><td>[0.000012, 0.000007, … -0.000029]</td><td>[0.00001, 0.000005, … -0.000026]</td><td>[0.000008, 0.000001, … -0.000025]</td><td>[0.000012, 0.000007, … -0.000027]</td><td>[0.000003, -0.000002, … -0.000026]</td><td>[-0.000004, -0.00001, … -0.000015]</td><td>[0.000009, 0.000003, … -0.000025]</td><td>[0.000002, 0.000003, … 0.000005]</td><td>[0.000008, 0.000009, … -9.8528e-7]</td><td>[0.000009, 0.000009, … -0.000008]</td><td>[0.000008, 0.000007, … -0.000012]</td><td>[-277, -291, … -221]</td><td>[-85, -205, … 12]</td><td>true</td></tr><tr><td>&hellip;</td><td>&hellip;</td><td>&hellip;</td><td>&hellip;</td><td>&hellip;</td><td>&hellip;</td><td>&hellip;</td><td>&hellip;</td><td>&hellip;</td><td>&hellip;</td><td>&hellip;</td><td>&hellip;</td><td>&hellip;</td><td>&hellip;</td><td>&hellip;</td><td>&hellip;</td><td>&hellip;</td><td>&hellip;</td><td>&hellip;</td><td>&hellip;</td><td>&hellip;</td><td>&hellip;</td><td>&hellip;</td><td>&hellip;</td><td>&hellip;</td><td>&hellip;</td><td>&hellip;</td><td>&hellip;</td><td>&hellip;</td><td>&hellip;</td><td>&hellip;</td><td>&hellip;</td><td>&hellip;</td><td>&hellip;</td><td>&hellip;</td></tr><tr><td>&quot;PDI1&quot;</td><td>2</td><td>12</td><td>8</td><td>134.893955</td><td>11.018443</td><td>[134.893955, 134.894955, … 145.910955]</td><td>134893</td><td>11018</td><td>2</td><td>1</td><td>1.339005</td><td>[0.000706, 0.000113, … 0.0]</td><td>[0.000015, 0.000009, … 5.4210e-20]</td><td>[-0.00001, -4.9192e-8, … 6.7763e-21]</td><td>[0.000267, 0.000046, … 0.0]</td><td>[6.3018e-8, -2.6153e-8, … 7.3017e-20]</td><td>[0.000403, 0.00001, … 0.0]</td><td>[-0.000063, -0.000059, … 5.0822e-21]</td><td>[0.00097, 0.000235, … 0.0]</td><td>[-0.000004, -0.000002, … 1.0164e-20]</td><td>[-0.000006, -0.000003, … -2.0329e-20]</td><td>[-0.000009, -0.000007, … -5.4210e-20]</td><td>[-0.000006, -0.000003, … -5.0822e-21]</td><td>[-0.000002, 0.000001, … 1.0164e-20]</td><td>[-0.000003, -4.5280e-7, … 0.0]</td><td>[-0.000009, -0.000007, … -6.7763e-21]</td><td>[-0.000005, -0.000002, … 1.0164e-20]</td><td>[0.000002, -0.000006, … -2.5411e-21]</td><td>[0.000006, -0.000001, … -6.7763e-21]</td><td>[0.000011, 0.000003, … -1.1858e-20]</td><td>[0.000017, 0.000006, … -4.2352e-21]</td><td>[-296, -222, … -293]</td><td>[-31, -136, … 119]</td><td>true</td></tr><tr><td>&quot;PDI1&quot;</td><td>2</td><td>12</td><td>9</td><td>150.167591</td><td>11.018443</td><td>[150.167591, 150.168591, … 161.184591]</td><td>150167</td><td>11018</td><td>2</td><td>1</td><td>2.221776</td><td>[-0.000121, 0.000795, … 0.0]</td><td>[0.000013, 0.000014, … 5.4210e-20]</td><td>[0.000028, 0.000013, … 6.7763e-21]</td><td>[-0.000088, 0.000068, … 0.0]</td><td>[-9.2487e-9, 3.1576e-7, … 7.3017e-20]</td><td>[-0.000295, 0.000355, … 0.0]</td><td>[0.000024, 0.000003, … 5.0822e-21]</td><td>[-0.001348, 0.00062, … 0.0]</td><td>[0.000007, 0.000011, … 1.0164e-20]</td><td>[0.000018, 0.000021, … -2.0329e-20]</td><td>[0.000003, 0.000006, … -5.4210e-20]</td><td>[-0.000002, 7.5282e-7, … -5.0822e-21]</td><td>[0.000004, 0.000006, … 1.0164e-20]</td><td>[0.000034, 0.000036, … 0.0]</td><td>[-0.000006, -0.000004, … -6.7763e-21]</td><td>[0.000013, 0.000014, … 1.0164e-20]</td><td>[0.000009, 0.000006, … -2.5411e-21]</td><td>[0.000004, 3.4474e-7, … -6.7763e-21]</td><td>[0.000006, 0.000004, … -1.1858e-20]</td><td>[0.000011, 0.000007, … -4.2352e-21]</td><td>[-208, -42, … -17]</td><td>[-54, 200, … -146]</td><td>true</td></tr><tr><td>&quot;PDI1&quot;</td><td>2</td><td>12</td><td>10</td><td>167.065227</td><td>11.018443</td><td>[167.065227, 167.066227, … 178.082227]</td><td>167065</td><td>11018</td><td>2</td><td>1</td><td>-0.696225</td><td>[0.00048, -0.000111, … 0.0]</td><td>[-0.000003, -0.000007, … 5.4210e-20]</td><td>[-0.000035, -0.00004, … 6.7763e-21]</td><td>[0.000264, 0.000042, … 0.0]</td><td>[-1.3278e-7, 2.9667e-10, … 7.3017e-20]</td><td>[0.000527, 0.000248, … 0.0]</td><td>[-0.000007, 0.000022, … 5.0822e-21]</td><td>[0.00096, 0.000974, … 0.0]</td><td>[-0.000003, -0.000005, … 1.0164e-20]</td><td>[-2.8684e-7, -0.000002, … -2.0329e-20]</td><td>[0.000002, -1.6764e-7, … -5.4210e-20]</td><td>[-0.000003, -0.000006, … -5.0822e-21]</td><td>[-0.000003, -0.000005, … 1.0164e-20]</td><td>[-0.000008, -0.000011, … 0.0]</td><td>[-0.000004, -0.000007, … -6.7763e-21]</td><td>[0.000004, 0.000002, … 1.0164e-20]</td><td>[0.000007, 0.000004, … -2.5411e-21]</td><td>[-0.000006, -0.000007, … -6.7763e-21]</td><td>[-0.00001, -0.00001, … -1.1858e-20]</td><td>[-0.000018, -0.000018, … -4.2352e-21]</td><td>[-70, 15, … -239]</td><td>[120, 190, … 215]</td><td>true</td></tr><tr><td>&quot;PDI1&quot;</td><td>2</td><td>12</td><td>11</td><td>182.940955</td><td>11.018443</td><td>[182.940955, 182.941955, … 193.957955]</td><td>182940</td><td>11018</td><td>2</td><td>1</td><td>-0.450917</td><td>[-0.000564, 0.000683, … 0.0]</td><td>[0.000047, 0.000014, … 5.4210e-20]</td><td>[0.000014, -0.000007, … 6.7763e-21]</td><td>[-0.000349, 0.000079, … 0.0]</td><td>[1.9035e-7, 2.9359e-7, … 7.3017e-20]</td><td>[-0.000929, 0.000207, … 0.0]</td><td>[0.00001, 0.000003, … 5.0822e-21]</td><td>[-0.001829, 0.000117, … 0.0]</td><td>[-0.00003, -0.00002, … 1.0164e-20]</td><td>[-0.000026, -0.000019, … -2.0329e-20]</td><td>[-0.000037, -0.000026, … -5.4210e-20]</td><td>[-0.000033, -0.000023, … -5.0822e-21]</td><td>[-0.000021, -0.000013, … 1.0164e-20]</td><td>[-0.000047, -0.000039, … 0.0]</td><td>[-0.000016, -0.000007, … -6.7763e-21]</td><td>[-0.00003, -0.000022, … 1.0164e-20]</td><td>[-0.000019, -0.000022, … -2.5411e-21]</td><td>[-0.000011, -0.000013, … -6.7763e-21]</td><td>[-0.000009, -0.000008, … -1.1858e-20]</td><td>[-0.000013, -0.000012, … -4.2352e-21]</td><td>[-313, -49, … -233]</td><td>[-61, 182, … 218]</td><td>true</td></tr><tr><td>&quot;PDI1&quot;</td><td>2</td><td>12</td><td>12</td><td>200.216591</td><td>11.018443</td><td>[200.216591, 200.217591, … 211.233591]</td><td>200216</td><td>11018</td><td>2</td><td>1</td><td>1.400404</td><td>[0.000198, 0.00015, … 0.0]</td><td>[0.000003, -0.000014, … 5.4210e-20]</td><td>[5.0305e-7, 0.000005, … 6.7763e-21]</td><td>[0.000284, 0.000051, … 0.0]</td><td>[-3.6222e-9, 2.9967e-7, … 7.3017e-20]</td><td>[0.000072, 0.000252, … 0.0]</td><td>[0.000026, 0.000014, … 5.0822e-21]</td><td>[0.000325, 0.000265, … 0.0]</td><td>[0.000034, 0.000033, … 1.0164e-20]</td><td>[0.000048, 0.000049, … -2.0329e-20]</td><td>[0.000021, 0.000021, … -5.4210e-20]</td><td>[0.000026, 0.000025, … -5.0822e-21]</td><td>[0.000032, 0.000033, … 1.0164e-20]</td><td>[0.000019, 0.000019, … 0.0]</td><td>[-0.000013, -0.000013, … -6.7763e-21]</td><td>[0.000021, 0.000021, … 1.0164e-20]</td><td>[-0.000007, -0.000008, … -2.5411e-21]</td><td>[-0.000019, -0.000022, … -6.7763e-21]</td><td>[-0.000024, -0.000027, … -1.1858e-20]</td><td>[-0.000029, -0.000028, … -4.2352e-21]</td><td>[-202, -186, … 12]</td><td>[-86, 43, … 171]</td><td>true</td></tr></tbody></table></div>"
      ],
      "text/plain": [
       "shape: (144, 35)\n",
       "┌─────────────┬─────────┬───────┬───────┬───┬─────────────┬─────────────┬─────────────┬────────────┐\n",
       "│ participant ┆ session ┆ block ┆ trial ┆ … ┆ ECOG_4      ┆ x           ┆ y           ┆ tracing_co │\n",
       "│ _id         ┆ ---     ┆ ---   ┆ ---   ┆   ┆ ---         ┆ ---         ┆ ---         ┆ ordinates_ │\n",
       "│ ---         ┆ u32     ┆ u32   ┆ u32   ┆   ┆ list[f32]   ┆ list[i64]   ┆ list[i64]   ┆ present    │\n",
       "│ str         ┆         ┆       ┆       ┆   ┆             ┆             ┆             ┆ ---        │\n",
       "│             ┆         ┆       ┆       ┆   ┆             ┆             ┆             ┆ bool       │\n",
       "╞═════════════╪═════════╪═══════╪═══════╪═══╪═════════════╪═════════════╪═════════════╪════════════╡\n",
       "│ PDI1        ┆ 2       ┆ 1     ┆ 1     ┆ … ┆ [-0.000013, ┆ [-15, -113, ┆ [217, 45, … ┆ true       │\n",
       "│             ┆         ┆       ┆       ┆   ┆ -0.00001, … ┆ … -360]     ┆ 47]         ┆            │\n",
       "│             ┆         ┆       ┆       ┆   ┆ 0.0000…     ┆             ┆             ┆            │\n",
       "│ PDI1        ┆ 2       ┆ 1     ┆ 2     ┆ … ┆ [0.000008,  ┆ [-6, -23, … ┆ [48, -6, …  ┆ true       │\n",
       "│             ┆         ┆       ┆       ┆   ┆ 0.000007, … ┆ -301]       ┆ 24]         ┆            │\n",
       "│             ┆         ┆       ┆       ┆   ┆ -0.0000…    ┆             ┆             ┆            │\n",
       "│ PDI1        ┆ 2       ┆ 1     ┆ 3     ┆ … ┆ [0.000012,  ┆ [-281,      ┆ [-1, 110, … ┆ true       │\n",
       "│             ┆         ┆       ┆       ┆   ┆ 0.000012, … ┆ -209, … 3]  ┆ -193]       ┆            │\n",
       "│             ┆         ┆       ┆       ┆   ┆ 0.00001…    ┆             ┆             ┆            │\n",
       "│ PDI1        ┆ 2       ┆ 1     ┆ 4     ┆ … ┆ [-0.000013, ┆ [-56, 41, … ┆ [-175, 132, ┆ true       │\n",
       "│             ┆         ┆       ┆       ┆   ┆ -0.000021,  ┆ -199]       ┆ … -168]     ┆            │\n",
       "│             ┆         ┆       ┆       ┆   ┆ … -0.00…    ┆             ┆             ┆            │\n",
       "│ PDI1        ┆ 2       ┆ 1     ┆ 5     ┆ … ┆ [0.000008,  ┆ [-277,      ┆ [-85, -205, ┆ true       │\n",
       "│             ┆         ┆       ┆       ┆   ┆ 0.000007, … ┆ -291, …     ┆ … 12]       ┆            │\n",
       "│             ┆         ┆       ┆       ┆   ┆ -0.0000…    ┆ -221]       ┆             ┆            │\n",
       "│ …           ┆ …       ┆ …     ┆ …     ┆ … ┆ …           ┆ …           ┆ …           ┆ …          │\n",
       "│ PDI1        ┆ 2       ┆ 12    ┆ 8     ┆ … ┆ [0.000017,  ┆ [-296,      ┆ [-31, -136, ┆ true       │\n",
       "│             ┆         ┆       ┆       ┆   ┆ 0.000006, … ┆ -222, …     ┆ … 119]      ┆            │\n",
       "│             ┆         ┆       ┆       ┆   ┆ -4.2352…    ┆ -293]       ┆             ┆            │\n",
       "│ PDI1        ┆ 2       ┆ 12    ┆ 9     ┆ … ┆ [0.000011,  ┆ [-208, -42, ┆ [-54, 200,  ┆ true       │\n",
       "│             ┆         ┆       ┆       ┆   ┆ 0.000007, … ┆ … -17]      ┆ … -146]     ┆            │\n",
       "│             ┆         ┆       ┆       ┆   ┆ -4.2352…    ┆             ┆             ┆            │\n",
       "│ PDI1        ┆ 2       ┆ 12    ┆ 10    ┆ … ┆ [-0.000018, ┆ [-70, 15, … ┆ [120, 190,  ┆ true       │\n",
       "│             ┆         ┆       ┆       ┆   ┆ -0.000018,  ┆ -239]       ┆ … 215]      ┆            │\n",
       "│             ┆         ┆       ┆       ┆   ┆ … -4.23…    ┆             ┆             ┆            │\n",
       "│ PDI1        ┆ 2       ┆ 12    ┆ 11    ┆ … ┆ [-0.000013, ┆ [-313, -49, ┆ [-61, 182,  ┆ true       │\n",
       "│             ┆         ┆       ┆       ┆   ┆ -0.000012,  ┆ … -233]     ┆ … 218]      ┆            │\n",
       "│             ┆         ┆       ┆       ┆   ┆ … -4.23…    ┆             ┆             ┆            │\n",
       "│ PDI1        ┆ 2       ┆ 12    ┆ 12    ┆ … ┆ [-0.000029, ┆ [-202,      ┆ [-86, 43, … ┆ true       │\n",
       "│             ┆         ┆       ┆       ┆   ┆ -0.000028,  ┆ -186, … 12] ┆ 171]        ┆            │\n",
       "│             ┆         ┆       ┆       ┆   ┆ … -4.23…    ┆             ┆             ┆            │\n",
       "└─────────────┴─────────┴───────┴───────┴───┴─────────────┴─────────────┴─────────────┴────────────┘"
      ]
     },
     "execution_count": 38,
     "metadata": {},
     "output_type": "execute_result"
    }
   ],
   "source": [
    "participants = load_participant_session_data(participant_id, session_id)\n",
    "participants"
   ]
  },
  {
   "cell_type": "markdown",
   "id": "5f24d0bc",
   "metadata": {
    "vscode": {
     "languageId": "plaintext"
    }
   },
   "source": [
    "### 2. Signal Quality Check\n",
    "\n",
    "* **Visual Inspection of Raw Time-Series:**\n",
    "    - Plot a segment of raw LFP data.\n",
    "    - Plot a segment of raw ECoG data.\n",
    "    - Check for any obvious issues like flat channels, clipping, or high-amplitude noise.\n",
    "* **Visualize Recordings with DBS Markers:**\n",
    "    - Load the event markers for DBS ON/OFF conditions.\n",
    "    - Create plots of the LFP and ECoG signals, overlaying markers or using shaded regions to indicate the different DBS states.\n",
    "* **Verify Artifact Removal:**\n",
    "    - Load a segment of data from a DBS ON block.\n",
    "    - Plot the signal before applying the template subtraction method.\n",
    "    - Plot the signal *after* applying template subtraction to visually confirm that the stimulation artifact is removed or significantly reduced.\n"
   ]
  },
  {
   "cell_type": "markdown",
   "id": "9a8ff099",
   "metadata": {},
   "source": [
    "### 3. Power Spectral Density (PSD) Analysis (for RQ2)\n",
    "\n",
    "* **Segment Data:** Separate the preprocessed data into epochs corresponding to DBS ON and DBS OFF conditions.\n",
    "* **Calculate PSD:**\n",
    "    - Compute PSD estimates for LFP channels during DBS ON vs. OFF.\n",
    "    - Compute PSD estimates for ECoG channels during DBS ON vs. OFF.\n",
    "* **Compare PSDs:**\n",
    "    - Plot the mean PSD for ON vs. OFF conditions for both LFP and ECoG to identify potential neural markers (e.g., changes in beta-band power).\n",
    "* **Statistical Testing:**\n",
    "    - Implement or use a library function for the cluster-based permutation test.\n",
    "    - Run the test on the PSD data to find significant differences between DBS ON and OFF states.\n"
   ]
  },
  {
   "cell_type": "markdown",
   "id": "fb6bcd8e",
   "metadata": {},
   "source": [
    "### 4. Behavioral Data Processing (for RQ3)\n",
    "\n",
    "* **Load Kinematic Data:** Load the hand position coordinate data for a trial.\n",
    "* **Calculate Instantaneous Speed:**\n",
    "    - Take the first derivative of the position data (e.g., using `np.diff`).\n",
    "    - Calculate the Euclidean norm of the velocity vectors to get instantaneous speed.\n",
    "* **Smooth the Speed Signal:**\n",
    "    - Apply a moving average filter to the instantaneous speed signal.\n",
    "* **Visualize Behavioral Trace:**\n",
    "    - Plot the final, smoothed tracing speed signal to verify it looks like a reasonable continuous behavioral trace.\n"
   ]
  }
 ],
 "metadata": {
  "kernelspec": {
   "display_name": "neuro",
   "language": "python",
   "name": "python3"
  },
  "language_info": {
   "codemirror_mode": {
    "name": "ipython",
    "version": 3
   },
   "file_extension": ".py",
   "mimetype": "text/x-python",
   "name": "python",
   "nbconvert_exporter": "python",
   "pygments_lexer": "ipython3",
   "version": "3.11.13"
  }
 },
 "nbformat": 4,
 "nbformat_minor": 5
}
