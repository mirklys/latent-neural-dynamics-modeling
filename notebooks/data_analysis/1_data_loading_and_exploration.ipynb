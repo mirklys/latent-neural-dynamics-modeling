{
 "cells": [
  {
   "cell_type": "markdown",
   "metadata": {},
   "source": [
    "# 1. Data Loading and Exploration\n",
    "\n",
    "This notebook demonstrates how to load and explore the multi-modal data from the Dareplane project. We will cover:\n",
    "\n",
    "- Loading XDF files for a single session.\n",
    "- Inspecting the `mne.Raw` object containing LFP, ECoG, and EOG data.\n",
    "- Visualizing the raw neural data and event markers.\n",
    "- Extracting and visualizing the stylus tracing coordinates from the behavioral data stream."
   ]
  },
  {
   "cell_type": "markdown",
   "metadata": {},
   "source": [
    "## 1.1 Setup\n",
    "\n",
    "First, let's import the necessary libraries and add the `analysis_scripts` directory to our Python path to access the custom loading functions."
   ]
  },
  {
   "cell_type": "code",
   "execution_count": null,
   "metadata": {},
   "outputs": [],
   "source": [
    "import sys\n",
    "from pathlib import Path\n",
    "import numpy as np\n",
    "import pandas as pd\n",
    "import plotly.express as px\n",
    "import mne\n",
    "import pyxdf\n",
    "\n",
    "# Add the analysis_scripts directory to the Python path\n",
    "sys.path.append(str(Path.cwd().parent.parent / 'analysis_scripts'))\n",
    "\n",
    "from load_xdf import get_xdf_files, create_raws_from_mat_and_xdf"
   ]
  },
  {
   "cell_type": "markdown",
   "metadata": {},
   "source": [
    "## 1.2 Load Neural Data\n",
    "\n",
    "Now, we'll load the data for a specific session. The `get_xdf_files` function helps us find the relevant XDF files, and `create_raws_from_mat_and_xdf` loads the data into a list of `mne.Raw` objects, one for each block in the session."
   ]
  },
  {
   "cell_type": "code",
   "execution_count": null,
   "metadata": {},
   "outputs": [],
   "source": [
    "# Specify the session to load (e.g., 'day3', 'day4', 'day5')\n",
    "# Note: The original data seems to be in folders like data_p001, data_p002, etc.\n",
    "# For this example, we will assume a session identifier that maps to these folders.\n",
    "# Let's use 'S003' as an example session, which we'll map to 'data_p003'\n",
    "session_id = 'S003' # Example session\n",
    "session_folder = f'data_p00{session_id[-1]}'\n",
    "\n",
    "xdf_files = get_xdf_files(session_folder)\n",
    "\n",
    "# The 'day' parameter in create_raws_from_mat_and_xdf seems to be used for handling\n",
    "# session-specific alignment issues. We'll use a placeholder value for now.\n",
    "raws = create_raws_from_mat_and_xdf(xdf_files, day='day3') # Using 'day3' as per function's default logic\n",
    "\n",
    "# For demonstration, let's concatenate all blocks into a single Raw object\n",
    "raw = mne.concatenate_raws(raws)"
   ]
  },
  {
   "cell_type": "markdown",
   "metadata": {},
   "source": [
    "## 1.3 Explore the `mne.Raw` Object\n",
    "\n",
    "The loaded data is now in an `mne.Raw` object. MNE-Python provides a rich interface for exploring this data."
   ]
  },
  {
   "cell_type": "code",
   "execution_count": null,
   "metadata": {},
   "outputs": [],
   "source": [
    "print(raw.info)"
   ]
  },
  {
   "cell_type": "code",
   "execution_count": null,
   "metadata": {},
   "outputs": [],
   "source": [
    "print(f\"Channel names: {raw.ch_names}\")\n",
    "print(f\"Number of channels: {len(raw.ch_names)}\")\n",
    "print(f\"Sampling frequency: {raw.info['sfreq']} Hz\")"
   ]
  },
  {
   "cell_type": "markdown",
   "metadata": {},
   "source": [
    "## 1.4 Visualize Raw Data and Events\n",
    "\n",
    "Let's plot the raw time series data. We can also visualize the event markers, which are stored as `Annotations` in the `mne.Raw` object."
   ]
  },
  {
   "cell_type": "code",
   "execution_count": null,
   "metadata": {},
   "outputs": [],
   "source": [
    "# Plot the raw data (it's interactive!)\n",
    "# We'll select a subset of channels and a short duration for clarity\n",
    "picks = mne.pick_channels(raw.ch_names, include=['LFP_1', 'LFP_2', 'ECOG_1', 'ECOG_2'])\n",
    "raw.plot(start=0, duration=10, picks=picks, n_channels=4, scalings='auto')"
   ]
  },
  {
   "cell_type": "code",
   "execution_count": null,
   "metadata": {},
   "outputs": [],
   "source": [
    "# The event markers are stored in raw.annotations\n",
    "print(raw.annotations)"
   ]
  },
  {
   "cell_type": "markdown",
   "metadata": {},
   "source": [
    "## 1.5 Extract and Visualize Stylus Tracing Data\n",
    "\n",
    "The stylus (tracing) coordinates are stored in a separate stream within the XDF file. We need to load the XDF file again with `pyxdf` to access all streams and find the one containing the stylus data. Based on the task (CopyDraw), we can look for a stream with a name related to drawing or mouse coordinates."
   ]
  },
  {
   "cell_type": "code",
   "execution_count": null,
   "metadata": {},
   "outputs": [],
   "source": [
    "# Let's use the first XDF file from the session for this example\n",
    "xdf_file_path = xdf_files[0]\n",
    "streams, header = pyxdf.load_xdf(xdf_file_path)\n",
    "\n",
    "stylus_stream = None\n",
    "for stream in streams:\n",
    "    # Heuristic to find the stylus stream: it might be named 'Mouse' or similar,\n",
    "    # and will likely have 2 or 3 channels (X, Y, maybe pressure).\n",
    "    stream_name = stream['info']['name'][0]\n",
    "    if 'Mouse' in stream_name or 'Stylus' in stream_name or 'Coordinates' in stream_name:\n",
    "        stylus_stream = stream\n",
    "        break\n",
    "\n",
    "if stylus_stream:\n",
    "    print(f\"Found stylus stream: {stylus_stream['info']['name'][0]}\")\n",
    "    stylus_data = stylus_stream['time_series']\n",
    "    stylus_timestamps = stylus_stream['time_stamps']\n",
    "\n",
    "    # Create a pandas DataFrame for easier handling\n",
    "    df_stylus = pd.DataFrame(stylus_data, columns=['x', 'y']) # Assuming 2D coordinates\n",
    "    df_stylus['time'] = stylus_timestamps\n",
    "\n",
    "    # Plot the stylus trace\n",
    "    fig = px.line(df_stylus, x='x', y='y', title='Stylus Trace')\n",
    "    fig.update_yaxes(autorange=\"reversed\") # Often, screen Y coordinates are inverted\n",
    "    fig.show()\n",
    "else:\n",
    "    print(\"Could not automatically find a stylus/mouse stream in the XDF file.\")\n",
    "    print(\"Available streams:\")\n",
    "    for stream in streams:\n",
    "        print(f\"- {stream['info']['name'][0]}\")"
   ]
  }
 ],
 "metadata": {
  "kernelspec": {
   "display_name": "Python 3",
   "language": "python",
   "name": "python3"
  },
  "language_info": {
   "codemirror_mode": {
    "name": "ipython",
    "version": 3
   },
   "file_extension": ".py",
   "mimetype": "text/x-python",
   "name": "python",
   "nbconvert_exporter": "python",
   "pygments_lexer": "ipython3",
   "version": "3.9.7"
  }
 },
 "nbformat": 4,
 "nbformat_minor": 4
}
